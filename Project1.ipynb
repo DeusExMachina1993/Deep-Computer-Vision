{
  "nbformat": 4,
  "nbformat_minor": 0,
  "metadata": {
    "colab": {
      "name": "Project1.ipynb",
      "provenance": [],
      "collapsed_sections": [],
      "include_colab_link": true
    },
    "kernelspec": {
      "name": "python3",
      "display_name": "Python 3"
    }
  },
  "cells": [
    {
      "cell_type": "markdown",
      "metadata": {
        "id": "view-in-github",
        "colab_type": "text"
      },
      "source": [
        "<a href=\"https://colab.research.google.com/github/DeusExMachina1993/Deep-Computer-Vision/blob/master/Project1.ipynb\" target=\"_parent\"><img src=\"https://colab.research.google.com/assets/colab-badge.svg\" alt=\"Open In Colab\"/></a>"
      ]
    },
    {
      "cell_type": "markdown",
      "metadata": {
        "id": "h8QJK1sietQq",
        "colab_type": "text"
      },
      "source": [
        "Project 1:**Multi-layer NN**"
      ]
    },
    {
      "cell_type": "markdown",
      "metadata": {
        "id": "HOlqLTcse6Dn",
        "colab_type": "text"
      },
      "source": [
        "Q.Use MNIST dataset for multi-class classification. Change the following parameters and report recognition accuracy and time on train, test, and validation sets."
      ]
    },
    {
      "cell_type": "markdown",
      "metadata": {
        "id": "D9a3aBlTkP23",
        "colab_type": "text"
      },
      "source": [
        "a- number of hidden layers\n",
        "b- number of neurons per layer\n",
        "c- optimization algorithm\n",
        "d- loss function\n",
        "e- number of epochs\n",
        "f- batch size\n"
      ]
    },
    {
      "cell_type": "markdown",
      "metadata": {
        "id": "KPpz1UosgbCR",
        "colab_type": "text"
      },
      "source": [
        "**Classifying Handwritten Digits with Neural Networks**"
      ]
    },
    {
      "cell_type": "markdown",
      "metadata": {
        "id": "qqHomGFzjt--",
        "colab_type": "text"
      },
      "source": [
        "![img](https://www.tensorflow.org/images/MNIST.png)"
      ]
    },
    {
      "cell_type": "markdown",
      "metadata": {
        "id": "bY90Gy74keJR",
        "colab_type": "text"
      },
      "source": [
        "The process will be broken down into the following steps:\n",
        "\n",
        "1.   Load and visualize the data\n",
        "2.   Define a neural network\n",
        "3.   Train the model\n",
        "4.   Evaluate the performance \n",
        "\n",
        "\n",
        "\n",
        "\n",
        "\n",
        "\n",
        "\n",
        "\n",
        "\n",
        "\n",
        "\n",
        "\n"
      ]
    },
    {
      "cell_type": "markdown",
      "metadata": {
        "id": "xtS_qR5HliOG",
        "colab_type": "text"
      },
      "source": [
        "Load necessary Library\n"
      ]
    },
    {
      "cell_type": "code",
      "metadata": {
        "id": "GGVTXlf2kd1Q",
        "colab_type": "code",
        "colab": {}
      },
      "source": [
        "import numpy as np\n",
        "import os\n",
        "import tempfile\n",
        "\n",
        "import keras\n",
        "from keras import backend as K\n",
        "from keras import layers\n",
        "from keras.datasets import mnist\n",
        "\n",
        "import tensorflow as tf"
      ],
      "execution_count": 0,
      "outputs": []
    },
    {
      "cell_type": "markdown",
      "metadata": {
        "id": "QMeexpO-e_J0",
        "colab_type": "text"
      },
      "source": [
        "1.Load and visualize the data"
      ]
    },
    {
      "cell_type": "code",
      "metadata": {
        "id": "BP8-qSHBlwxr",
        "colab_type": "code",
        "colab": {}
      },
      "source": [
        "(x_train, y_train), (x_test, y_test) = mnist.load_data()"
      ],
      "execution_count": 0,
      "outputs": []
    },
    {
      "cell_type": "markdown",
      "metadata": {
        "id": "UrNjMN5fW2XL",
        "colab_type": "text"
      },
      "source": [
        " flatten the 28x28 pixels into a vector"
      ]
    },
    {
      "cell_type": "code",
      "metadata": {
        "id": "FkXjoF_Al2Jh",
        "colab_type": "code",
        "colab": {}
      },
      "source": [
        "x_train = x_train.reshape(x_train.shape[0], 784)\n",
        "x_test = x_test.reshape(x_test.shape[0], 784)"
      ],
      "execution_count": 0,
      "outputs": []
    },
    {
      "cell_type": "code",
      "metadata": {
        "id": "zTJVZ0VSmOcf",
        "colab_type": "code",
        "colab": {}
      },
      "source": [
        "# normalize pixel values\n",
        "x_train = x_train.astype('float32') / 255\n",
        "x_test = x_test.astype('float32') / 255"
      ],
      "execution_count": 0,
      "outputs": []
    },
    {
      "cell_type": "code",
      "metadata": {
        "id": "wMfRCaL6mxXG",
        "colab_type": "code",
        "colab": {}
      },
      "source": [
        "# one hot encode target values\n",
        "y_train = keras.utils.np_utils.to_categorical(y_train,10)\n",
        "y_test = keras.utils.np_utils.to_categorical(y_test,10)"
      ],
      "execution_count": 0,
      "outputs": []
    },
    {
      "cell_type": "markdown",
      "metadata": {
        "id": "Hhg-dnMPtVSz",
        "colab_type": "text"
      },
      "source": [
        "2.Define a neural network"
      ]
    },
    {
      "cell_type": "markdown",
      "metadata": {
        "id": "YnpnpmF15TYZ",
        "colab_type": "text"
      },
      "source": [
        "Expriement 1:\n",
        "\n",
        "\n",
        "```\n",
        "a- number of hidden layers=1\n",
        "```\n",
        "\n",
        "\n",
        "```\n",
        "b- number of neurons per layer=64\n",
        "```\n",
        "\n",
        "\n",
        "```\n",
        "c- optimization algorithm=SGD\n",
        "```\n",
        "\n",
        "\n",
        "\n",
        "```\n",
        "d- loss function= cross entropy loss function\n",
        "```\n",
        "\n",
        "\n",
        "\n",
        "```\n",
        "e- number of epochs=50\n",
        "```\n",
        "\n",
        "\n",
        "```\n",
        "f- batch size=32\n",
        "```\n",
        "\n",
        "\n",
        "\n",
        "\n",
        "```\n",
        "g- activation function=Relu\n",
        "```\n",
        "\n",
        "\n",
        "\n",
        "\n",
        "\n",
        "\n",
        "\n",
        "\n",
        "\n",
        "\n",
        "\n"
      ]
    },
    {
      "cell_type": "code",
      "metadata": {
        "id": "XBa5mK5Modxr",
        "colab_type": "code",
        "colab": {}
      },
      "source": [
        "from keras.models import Sequential\n",
        "from keras.layers import Dense, Activation"
      ],
      "execution_count": 0,
      "outputs": []
    },
    {
      "cell_type": "code",
      "metadata": {
        "id": "p4wIpOs9vwXX",
        "colab_type": "code",
        "colab": {}
      },
      "source": [
        "def build_model():\n",
        "  model =Sequential([\n",
        "    layers.Dense(units=64,input_shape=(784,), activation=tf.nn.relu),\n",
        "    layers.Dense(units=10, activation=tf.nn.softmax),\n",
        "    \n",
        "  ])\n",
        "  return model"
      ],
      "execution_count": 0,
      "outputs": []
    },
    {
      "cell_type": "code",
      "metadata": {
        "id": "-eAILvZoA87W",
        "colab_type": "code",
        "colab": {
          "base_uri": "https://localhost:8080/",
          "height": 312
        },
        "outputId": "fd9c3c24-1050-42f9-a358-68b9a0272a42"
      },
      "source": [
        "from keras.utils.vis_utils import plot_model\n",
        "model=build_model();\n",
        "plot_model(model, to_file='model_plot.png',expand_nested=True,show_shapes=True)\n",
        "\n"
      ],
      "execution_count": 108,
      "outputs": [
        {
          "output_type": "execute_result",
          "data": {
            "image/png": "[encoded data removed]",
            "text/plain": [
              "<IPython.core.display.Image object>"
            ]
          },
          "metadata": {
            "tags": []
          },
          "execution_count": 108
        }
      ]
    },
    {
      "cell_type": "markdown",
      "metadata": {
        "id": "tCqdW6YyA7lN",
        "colab_type": "text"
      },
      "source": [
        "3.Train the model"
      ]
    },
    {
      "cell_type": "code",
      "metadata": {
        "id": "JzbRiwfMBMGK",
        "colab_type": "code",
        "colab": {
          "base_uri": "https://localhost:8080/",
          "height": 1000
        },
        "outputId": "337b781b-23f9-40cd-963c-e6a86fb5172c"
      },
      "source": [
        "# train model\n",
        "model.compile(keras.optimizers.SGD(lr=0.01,momentum=0,decay=0,nesterov=False),loss='categorical_crossentropy', metrics=['accuracy'])\n",
        "train = model.fit(\n",
        "    x_train, y_train,\n",
        "    batch_size=32, epochs=50,\n",
        "    validation_split=0.1\n",
        ")"
      ],
      "execution_count": 109,
      "outputs": [
        {
          "output_type": "stream",
          "text": [
            "WARNING:tensorflow:From /usr/local/lib/python3.6/dist-packages/tensorflow_core/python/ops/math_grad.py:1424: where (from tensorflow.python.ops.array_ops) is deprecated and will be removed in a future version.\n",
            "Instructions for updating:\n",
            "Use tf.where in 2.0, which has the same broadcast rule as np.where\n",
            "WARNING:tensorflow:From /usr/local/lib/python3.6/dist-packages/keras/backend/tensorflow_backend.py:3005: The name tf.Session is deprecated. Please use tf.compat.v1.Session instead.\n",
            "\n",
            "Train on 54000 samples, validate on 6000 samples\n",
            "Epoch 1/50\n",
            "WARNING:tensorflow:From /usr/local/lib/python3.6/dist-packages/keras/backend/tensorflow_backend.py:190: The name tf.get_default_session is deprecated. Please use tf.compat.v1.get_default_session instead.\n",
            "\n",
            "WARNING:tensorflow:From /usr/local/lib/python3.6/dist-packages/keras/backend/tensorflow_backend.py:207: The name tf.global_variables is deprecated. Please use tf.compat.v1.global_variables instead.\n",
            "\n",
            "WARNING:tensorflow:From /usr/local/lib/python3.6/dist-packages/keras/backend/tensorflow_backend.py:216: The name tf.is_variable_initialized is deprecated. Please use tf.compat.v1.is_variable_initialized instead.\n",
            "\n",
            "WARNING:tensorflow:From /usr/local/lib/python3.6/dist-packages/keras/backend/tensorflow_backend.py:223: The name tf.variables_initializer is deprecated. Please use tf.compat.v1.variables_initializer instead.\n",
            "\n",
            "54000/54000 [==============================] - 4s 67us/step - loss: 0.7238 - acc: 0.8136 - val_loss: 0.3333 - val_acc: 0.9120\n",
            "Epoch 2/50\n",
            "54000/54000 [==============================] - 3s 50us/step - loss: 0.3600 - acc: 0.8991 - val_loss: 0.2683 - val_acc: 0.9262\n",
            "Epoch 3/50\n",
            "54000/54000 [==============================] - 3s 49us/step - loss: 0.3100 - acc: 0.9126 - val_loss: 0.2407 - val_acc: 0.9322\n",
            "Epoch 4/50\n",
            "54000/54000 [==============================] - 3s 49us/step - loss: 0.2806 - acc: 0.9209 - val_loss: 0.2189 - val_acc: 0.9388\n",
            "Epoch 5/50\n",
            "54000/54000 [==============================] - 3s 50us/step - loss: 0.2581 - acc: 0.9260 - val_loss: 0.2050 - val_acc: 0.9437\n",
            "Epoch 6/50\n",
            "54000/54000 [==============================] - 3s 50us/step - loss: 0.2396 - acc: 0.9321 - val_loss: 0.1912 - val_acc: 0.9475\n",
            "Epoch 7/50\n",
            "54000/54000 [==============================] - 3s 50us/step - loss: 0.2233 - acc: 0.9368 - val_loss: 0.1781 - val_acc: 0.9523\n",
            "Epoch 8/50\n",
            "54000/54000 [==============================] - 3s 49us/step - loss: 0.2094 - acc: 0.9407 - val_loss: 0.1696 - val_acc: 0.9542\n",
            "Epoch 9/50\n",
            "54000/54000 [==============================] - 3s 50us/step - loss: 0.1974 - acc: 0.9441 - val_loss: 0.1598 - val_acc: 0.9565\n",
            "Epoch 10/50\n",
            "54000/54000 [==============================] - 3s 49us/step - loss: 0.1868 - acc: 0.9468 - val_loss: 0.1526 - val_acc: 0.9602\n",
            "Epoch 11/50\n",
            "54000/54000 [==============================] - 3s 50us/step - loss: 0.1773 - acc: 0.9495 - val_loss: 0.1472 - val_acc: 0.9608\n",
            "Epoch 12/50\n",
            "54000/54000 [==============================] - 3s 50us/step - loss: 0.1689 - acc: 0.9521 - val_loss: 0.1414 - val_acc: 0.9620\n",
            "Epoch 13/50\n",
            "54000/54000 [==============================] - 3s 50us/step - loss: 0.1611 - acc: 0.9543 - val_loss: 0.1362 - val_acc: 0.9633\n",
            "Epoch 14/50\n",
            "54000/54000 [==============================] - 3s 51us/step - loss: 0.1543 - acc: 0.9563 - val_loss: 0.1326 - val_acc: 0.9638\n",
            "Epoch 15/50\n",
            "54000/54000 [==============================] - 3s 50us/step - loss: 0.1479 - acc: 0.9584 - val_loss: 0.1267 - val_acc: 0.9662\n",
            "Epoch 16/50\n",
            "54000/54000 [==============================] - 3s 50us/step - loss: 0.1420 - acc: 0.9603 - val_loss: 0.1246 - val_acc: 0.9662\n",
            "Epoch 17/50\n",
            "54000/54000 [==============================] - 3s 49us/step - loss: 0.1367 - acc: 0.9613 - val_loss: 0.1205 - val_acc: 0.9685\n",
            "Epoch 18/50\n",
            "54000/54000 [==============================] - 3s 49us/step - loss: 0.1319 - acc: 0.9632 - val_loss: 0.1177 - val_acc: 0.9675\n",
            "Epoch 19/50\n",
            "54000/54000 [==============================] - 3s 52us/step - loss: 0.1274 - acc: 0.9641 - val_loss: 0.1152 - val_acc: 0.9683\n",
            "Epoch 20/50\n",
            "54000/54000 [==============================] - 3s 54us/step - loss: 0.1229 - acc: 0.9657 - val_loss: 0.1117 - val_acc: 0.9700\n",
            "Epoch 21/50\n",
            "54000/54000 [==============================] - 3s 53us/step - loss: 0.1190 - acc: 0.9668 - val_loss: 0.1095 - val_acc: 0.9702\n",
            "Epoch 22/50\n",
            "54000/54000 [==============================] - 3s 54us/step - loss: 0.1153 - acc: 0.9676 - val_loss: 0.1074 - val_acc: 0.9707\n",
            "Epoch 23/50\n",
            "54000/54000 [==============================] - 3s 50us/step - loss: 0.1119 - acc: 0.9689 - val_loss: 0.1055 - val_acc: 0.9720\n",
            "Epoch 24/50\n",
            "54000/54000 [==============================] - 3s 50us/step - loss: 0.1086 - acc: 0.9695 - val_loss: 0.1048 - val_acc: 0.9712\n",
            "Epoch 25/50\n",
            "54000/54000 [==============================] - 3s 50us/step - loss: 0.1054 - acc: 0.9703 - val_loss: 0.1025 - val_acc: 0.9728\n",
            "Epoch 26/50\n",
            "54000/54000 [==============================] - 3s 50us/step - loss: 0.1028 - acc: 0.9714 - val_loss: 0.1008 - val_acc: 0.9728\n",
            "Epoch 27/50\n",
            "54000/54000 [==============================] - 3s 50us/step - loss: 0.0999 - acc: 0.9723 - val_loss: 0.0994 - val_acc: 0.9727\n",
            "Epoch 28/50\n",
            "54000/54000 [==============================] - 3s 50us/step - loss: 0.0973 - acc: 0.9732 - val_loss: 0.0991 - val_acc: 0.9725\n",
            "Epoch 29/50\n",
            "54000/54000 [==============================] - 3s 50us/step - loss: 0.0948 - acc: 0.9736 - val_loss: 0.0973 - val_acc: 0.9735\n",
            "Epoch 30/50\n",
            "54000/54000 [==============================] - 3s 49us/step - loss: 0.0924 - acc: 0.9745 - val_loss: 0.0970 - val_acc: 0.9747\n",
            "Epoch 31/50\n",
            "54000/54000 [==============================] - 3s 51us/step - loss: 0.0902 - acc: 0.9751 - val_loss: 0.0940 - val_acc: 0.9742\n",
            "Epoch 32/50\n",
            "54000/54000 [==============================] - 3s 50us/step - loss: 0.0879 - acc: 0.9758 - val_loss: 0.0953 - val_acc: 0.9747\n",
            "Epoch 33/50\n",
            "54000/54000 [==============================] - 3s 49us/step - loss: 0.0859 - acc: 0.9763 - val_loss: 0.0946 - val_acc: 0.9743\n",
            "Epoch 34/50\n",
            "54000/54000 [==============================] - 3s 49us/step - loss: 0.0841 - acc: 0.9770 - val_loss: 0.0929 - val_acc: 0.9745\n",
            "Epoch 35/50\n",
            "54000/54000 [==============================] - 3s 50us/step - loss: 0.0822 - acc: 0.9775 - val_loss: 0.0923 - val_acc: 0.9753\n",
            "Epoch 36/50\n",
            "54000/54000 [==============================] - 3s 49us/step - loss: 0.0802 - acc: 0.9784 - val_loss: 0.0902 - val_acc: 0.9750\n",
            "Epoch 37/50\n",
            "54000/54000 [==============================] - 3s 50us/step - loss: 0.0786 - acc: 0.9785 - val_loss: 0.0897 - val_acc: 0.9752\n",
            "Epoch 38/50\n",
            "54000/54000 [==============================] - 3s 50us/step - loss: 0.0768 - acc: 0.9789 - val_loss: 0.0892 - val_acc: 0.9753\n",
            "Epoch 39/50\n",
            "54000/54000 [==============================] - 3s 49us/step - loss: 0.0752 - acc: 0.9797 - val_loss: 0.0876 - val_acc: 0.9757\n",
            "Epoch 40/50\n",
            "54000/54000 [==============================] - 3s 50us/step - loss: 0.0736 - acc: 0.9800 - val_loss: 0.0876 - val_acc: 0.9763\n",
            "Epoch 41/50\n",
            "54000/54000 [==============================] - 3s 50us/step - loss: 0.0721 - acc: 0.9805 - val_loss: 0.0869 - val_acc: 0.9760\n",
            "Epoch 42/50\n",
            "54000/54000 [==============================] - 3s 50us/step - loss: 0.0708 - acc: 0.9810 - val_loss: 0.0860 - val_acc: 0.9752\n",
            "Epoch 43/50\n",
            "54000/54000 [==============================] - 3s 50us/step - loss: 0.0695 - acc: 0.9814 - val_loss: 0.0859 - val_acc: 0.9762\n",
            "Epoch 44/50\n",
            "54000/54000 [==============================] - 3s 50us/step - loss: 0.0678 - acc: 0.9821 - val_loss: 0.0874 - val_acc: 0.9762\n",
            "Epoch 45/50\n",
            "54000/54000 [==============================] - 3s 50us/step - loss: 0.0667 - acc: 0.9823 - val_loss: 0.0850 - val_acc: 0.9773\n",
            "Epoch 46/50\n",
            "54000/54000 [==============================] - 3s 50us/step - loss: 0.0656 - acc: 0.9827 - val_loss: 0.0861 - val_acc: 0.9762\n",
            "Epoch 47/50\n",
            "54000/54000 [==============================] - 3s 50us/step - loss: 0.0643 - acc: 0.9832 - val_loss: 0.0849 - val_acc: 0.9775\n",
            "Epoch 48/50\n",
            "54000/54000 [==============================] - 3s 50us/step - loss: 0.0630 - acc: 0.9830 - val_loss: 0.0840 - val_acc: 0.9772\n",
            "Epoch 49/50\n",
            "54000/54000 [==============================] - 3s 50us/step - loss: 0.0619 - acc: 0.9835 - val_loss: 0.0839 - val_acc: 0.9763\n",
            "Epoch 50/50\n",
            "54000/54000 [==============================] - 3s 50us/step - loss: 0.0608 - acc: 0.9838 - val_loss: 0.0826 - val_acc: 0.9767\n"
          ],
          "name": "stdout"
        }
      ]
    },
    {
      "cell_type": "markdown",
      "metadata": {
        "id": "IHK0lZ7kcN0c",
        "colab_type": "text"
      },
      "source": [
        "4.Evaluate the performance\n",
        "\n"
      ]
    },
    {
      "cell_type": "code",
      "metadata": {
        "id": "bOhUrNkmB-gW",
        "colab_type": "code",
        "colab": {
          "base_uri": "https://localhost:8080/",
          "height": 295
        },
        "outputId": "8be96d11-fdd0-4caf-f09a-bb03986f13bc"
      },
      "source": [
        "import matplotlib.pyplot as plot\n",
        "loss, accuracy  = model.evaluate(x_test, y_test, verbose=False)\n",
        "plot.plot(train.history['acc'])\n",
        "plot.plot(train.history['val_acc'])\n",
        "plot.title('model accuracy')\n",
        "plot.ylabel('accuracy')\n",
        "plot.xlabel('epoch')\n",
        "plot.legend(['training', 'validation'], loc='best')\n",
        "plot.show()"
      ],
      "execution_count": 114,
      "outputs": [
        {
          "output_type": "display_data",
          "data": {
            "image/png": "[encoded data removed]",
            "text/plain": [
              "<Figure size 432x288 with 1 Axes>"
            ]
          },
          "metadata": {
            "tags": []
          }
        }
      ]
    },
    {
      "cell_type": "markdown",
      "metadata": {
        "id": "DHwb6SSCfHxc",
        "colab_type": "text"
      },
      "source": [
        "Expriement 2:\n",
        "\n",
        "\n",
        "```\n",
        "a- number of hidden layers=1\n",
        "```\n",
        "\n",
        "\n",
        "```\n",
        "b- number of neurons per layer=64\n",
        "```\n",
        "\n",
        "\n",
        "```\n",
        "c- optimization algorithm=rmsprop\n",
        "```\n",
        "\n",
        "\n",
        "\n",
        "```\n",
        "d- loss function= cross entropy loss function\n",
        "```\n",
        "\n",
        "\n",
        "\n",
        "```\n",
        "e- number of epochs=50\n",
        "```\n",
        "\n",
        "\n",
        "```\n",
        "f- batch size=32\n",
        "```\n",
        "\n",
        "\n",
        "\n",
        "\n",
        "```\n",
        "g- activation function=Relu\n",
        "```\n",
        "\n",
        "\n",
        "\n",
        "\n",
        "\n",
        "\n",
        "\n",
        "\n",
        "\n",
        "\n",
        "\n"
      ]
    },
    {
      "cell_type": "code",
      "metadata": {
        "id": "6CCK71EHfnz6",
        "colab_type": "code",
        "colab": {
          "base_uri": "https://localhost:8080/",
          "height": 1000
        },
        "outputId": "0f361ba3-c726-4695-e7e0-36e365c36aa3"
      },
      "source": [
        "model.compile(keras.optimizers.rmsprop(lr=0.01),loss='categorical_crossentropy', metrics=['accuracy'])\n",
        "train = model.fit(\n",
        "    x_train, y_train,\n",
        "    batch_size=32, epochs=50,\n",
        "    validation_split=0.1\n",
        ")"
      ],
      "execution_count": 115,
      "outputs": [
        {
          "output_type": "stream",
          "text": [
            "Train on 54000 samples, validate on 6000 samples\n",
            "Epoch 1/50\n",
            "54000/54000 [==============================] - 3s 60us/step - loss: 0.3812 - acc: 0.9279 - val_loss: 0.3469 - val_acc: 0.9430\n",
            "Epoch 2/50\n",
            "54000/54000 [==============================] - 3s 56us/step - loss: 0.3120 - acc: 0.9525 - val_loss: 0.2935 - val_acc: 0.9533\n",
            "Epoch 3/50\n",
            "54000/54000 [==============================] - 3s 55us/step - loss: 0.3126 - acc: 0.9593 - val_loss: 0.5198 - val_acc: 0.9408\n",
            "Epoch 4/50\n",
            "54000/54000 [==============================] - 3s 55us/step - loss: 0.3169 - acc: 0.9636 - val_loss: 0.2837 - val_acc: 0.9687\n",
            "Epoch 5/50\n",
            "54000/54000 [==============================] - 3s 56us/step - loss: 0.3080 - acc: 0.9660 - val_loss: 0.3279 - val_acc: 0.9648\n",
            "Epoch 6/50\n",
            "54000/54000 [==============================] - 3s 56us/step - loss: 0.3008 - acc: 0.9694 - val_loss: 0.3162 - val_acc: 0.9700\n",
            "Epoch 7/50\n",
            "54000/54000 [==============================] - 3s 55us/step - loss: 0.3032 - acc: 0.9708 - val_loss: 0.3461 - val_acc: 0.9692\n",
            "Epoch 8/50\n",
            "54000/54000 [==============================] - 3s 55us/step - loss: 0.2893 - acc: 0.9723 - val_loss: 0.3060 - val_acc: 0.9722\n",
            "Epoch 9/50\n",
            "54000/54000 [==============================] - 3s 56us/step - loss: 0.2880 - acc: 0.9736 - val_loss: 0.3090 - val_acc: 0.9713\n",
            "Epoch 10/50\n",
            "54000/54000 [==============================] - 3s 55us/step - loss: 0.2827 - acc: 0.9741 - val_loss: 0.3039 - val_acc: 0.9747\n",
            "Epoch 11/50\n",
            "54000/54000 [==============================] - 3s 54us/step - loss: 0.2750 - acc: 0.9753 - val_loss: 0.3807 - val_acc: 0.9655\n",
            "Epoch 12/50\n",
            "54000/54000 [==============================] - 3s 55us/step - loss: 0.2652 - acc: 0.9764 - val_loss: 0.3270 - val_acc: 0.9728\n",
            "Epoch 13/50\n",
            "54000/54000 [==============================] - 3s 55us/step - loss: 0.2608 - acc: 0.9771 - val_loss: 0.3427 - val_acc: 0.9713\n",
            "Epoch 14/50\n",
            "54000/54000 [==============================] - 3s 55us/step - loss: 0.2852 - acc: 0.9762 - val_loss: 0.3573 - val_acc: 0.9717\n",
            "Epoch 15/50\n",
            "54000/54000 [==============================] - 3s 55us/step - loss: 0.2870 - acc: 0.9765 - val_loss: 0.4404 - val_acc: 0.9628\n",
            "Epoch 16/50\n",
            "54000/54000 [==============================] - 3s 56us/step - loss: 0.2706 - acc: 0.9774 - val_loss: 0.3224 - val_acc: 0.9750\n",
            "Epoch 17/50\n",
            "54000/54000 [==============================] - 3s 56us/step - loss: 0.2689 - acc: 0.9781 - val_loss: 0.4042 - val_acc: 0.9697\n",
            "Epoch 18/50\n",
            "54000/54000 [==============================] - 3s 55us/step - loss: 0.2582 - acc: 0.9788 - val_loss: 0.3718 - val_acc: 0.9723\n",
            "Epoch 19/50\n",
            "54000/54000 [==============================] - 3s 56us/step - loss: 0.2564 - acc: 0.9797 - val_loss: 0.3267 - val_acc: 0.9735\n",
            "Epoch 20/50\n",
            "54000/54000 [==============================] - 3s 58us/step - loss: 0.2556 - acc: 0.9795 - val_loss: 0.3619 - val_acc: 0.9737\n",
            "Epoch 21/50\n",
            "54000/54000 [==============================] - 3s 55us/step - loss: 0.2615 - acc: 0.9794 - val_loss: 0.3456 - val_acc: 0.9733\n",
            "Epoch 22/50\n",
            "54000/54000 [==============================] - 3s 55us/step - loss: 0.2493 - acc: 0.9807 - val_loss: 0.3161 - val_acc: 0.9757\n",
            "Epoch 23/50\n",
            "54000/54000 [==============================] - 3s 55us/step - loss: 0.2378 - acc: 0.9812 - val_loss: 0.2973 - val_acc: 0.9783\n",
            "Epoch 24/50\n",
            "54000/54000 [==============================] - 3s 55us/step - loss: 0.2301 - acc: 0.9813 - val_loss: 0.3418 - val_acc: 0.9742\n",
            "Epoch 25/50\n",
            "54000/54000 [==============================] - 3s 55us/step - loss: 0.2495 - acc: 0.9807 - val_loss: 0.3623 - val_acc: 0.9727\n",
            "Epoch 26/50\n",
            "54000/54000 [==============================] - 3s 55us/step - loss: 0.2505 - acc: 0.9806 - val_loss: 0.4185 - val_acc: 0.9693\n",
            "Epoch 27/50\n",
            "54000/54000 [==============================] - 3s 56us/step - loss: 0.2638 - acc: 0.9797 - val_loss: 0.4157 - val_acc: 0.9702\n",
            "Epoch 28/50\n",
            "54000/54000 [==============================] - 3s 54us/step - loss: 0.2489 - acc: 0.9808 - val_loss: 0.4031 - val_acc: 0.9698\n",
            "Epoch 29/50\n",
            "54000/54000 [==============================] - 3s 54us/step - loss: 0.2509 - acc: 0.9809 - val_loss: 0.3093 - val_acc: 0.9773\n",
            "Epoch 30/50\n",
            "54000/54000 [==============================] - 3s 56us/step - loss: 0.2439 - acc: 0.9816 - val_loss: 0.3478 - val_acc: 0.9745\n",
            "Epoch 31/50\n",
            "54000/54000 [==============================] - 3s 55us/step - loss: 0.2340 - acc: 0.9821 - val_loss: 0.3681 - val_acc: 0.9732\n",
            "Epoch 32/50\n",
            "54000/54000 [==============================] - 3s 56us/step - loss: 0.2405 - acc: 0.9818 - val_loss: 0.3110 - val_acc: 0.9778\n",
            "Epoch 33/50\n",
            "54000/54000 [==============================] - 3s 55us/step - loss: 0.2370 - acc: 0.9822 - val_loss: 0.3674 - val_acc: 0.9732\n",
            "Epoch 34/50\n",
            "54000/54000 [==============================] - 3s 55us/step - loss: 0.2427 - acc: 0.9818 - val_loss: 0.3506 - val_acc: 0.9750\n",
            "Epoch 35/50\n",
            "54000/54000 [==============================] - 3s 55us/step - loss: 0.2359 - acc: 0.9822 - val_loss: 0.3103 - val_acc: 0.9778\n",
            "Epoch 36/50\n",
            "54000/54000 [==============================] - 3s 55us/step - loss: 0.2336 - acc: 0.9828 - val_loss: 0.3347 - val_acc: 0.9762\n",
            "Epoch 37/50\n",
            "54000/54000 [==============================] - 3s 55us/step - loss: 0.2060 - acc: 0.9847 - val_loss: 0.3442 - val_acc: 0.9753\n",
            "Epoch 38/50\n",
            "54000/54000 [==============================] - 3s 55us/step - loss: 0.2256 - acc: 0.9831 - val_loss: 0.3748 - val_acc: 0.9733\n",
            "Epoch 39/50\n",
            "54000/54000 [==============================] - 3s 54us/step - loss: 0.2206 - acc: 0.9837 - val_loss: 0.3686 - val_acc: 0.9727\n",
            "Epoch 40/50\n",
            "54000/54000 [==============================] - 3s 55us/step - loss: 0.2038 - acc: 0.9846 - val_loss: 0.3179 - val_acc: 0.9765\n",
            "Epoch 41/50\n",
            "54000/54000 [==============================] - 3s 55us/step - loss: 0.2200 - acc: 0.9838 - val_loss: 0.3807 - val_acc: 0.9728\n",
            "Epoch 42/50\n",
            "54000/54000 [==============================] - 3s 55us/step - loss: 0.2211 - acc: 0.9838 - val_loss: 0.3142 - val_acc: 0.9770\n",
            "Epoch 43/50\n",
            "54000/54000 [==============================] - 3s 54us/step - loss: 0.2190 - acc: 0.9840 - val_loss: 0.3216 - val_acc: 0.9772\n",
            "Epoch 44/50\n",
            "54000/54000 [==============================] - 3s 54us/step - loss: 0.2250 - acc: 0.9834 - val_loss: 0.3685 - val_acc: 0.9738\n",
            "Epoch 45/50\n",
            "54000/54000 [==============================] - 3s 54us/step - loss: 0.2053 - acc: 0.9851 - val_loss: 0.3092 - val_acc: 0.9780\n",
            "Epoch 46/50\n",
            "54000/54000 [==============================] - 3s 55us/step - loss: 0.2082 - acc: 0.9846 - val_loss: 0.3592 - val_acc: 0.9748\n",
            "Epoch 47/50\n",
            "54000/54000 [==============================] - 3s 55us/step - loss: 0.2185 - acc: 0.9837 - val_loss: 0.4001 - val_acc: 0.9720\n",
            "Epoch 48/50\n",
            "54000/54000 [==============================] - 3s 55us/step - loss: 0.2038 - acc: 0.9850 - val_loss: 0.3064 - val_acc: 0.9775\n",
            "Epoch 49/50\n",
            "54000/54000 [==============================] - 3s 55us/step - loss: 0.2190 - acc: 0.9844 - val_loss: 0.3105 - val_acc: 0.9788\n",
            "Epoch 50/50\n",
            "54000/54000 [==============================] - 3s 56us/step - loss: 0.2096 - acc: 0.9845 - val_loss: 0.3525 - val_acc: 0.9753\n"
          ],
          "name": "stdout"
        }
      ]
    },
    {
      "cell_type": "code",
      "metadata": {
        "id": "INLcz35sfziN",
        "colab_type": "code",
        "colab": {
          "base_uri": "https://localhost:8080/",
          "height": 295
        },
        "outputId": "9b63d039-c3c1-4e8c-9307-b69c5a28c1d5"
      },
      "source": [
        "import matplotlib.pyplot as plot\n",
        "loss, accuracy  = model.evaluate(x_test, y_test, verbose=False)\n",
        "plot.plot(train.history['acc'])\n",
        "plot.plot(train.history['val_acc'])\n",
        "plot.title('model accuracy')\n",
        "plot.ylabel('accuracy')\n",
        "plot.xlabel('epoch')\n",
        "plot.legend(['training', 'validation'], loc='best')\n",
        "plot.show()"
      ],
      "execution_count": 116,
      "outputs": [
        {
          "output_type": "display_data",
          "data": {
            "image/png": "[encoded data removed]",
            "text/plain": [
              "<Figure size 432x288 with 1 Axes>"
            ]
          },
          "metadata": {
            "tags": []
          }
        }
      ]
    },
    {
      "cell_type": "markdown",
      "metadata": {
        "id": "WwqG0Qth9P-U",
        "colab_type": "text"
      },
      "source": [
        "Expriement 3:\n",
        "\n",
        "\n",
        "```\n",
        "a- number of hidden layers=1\n",
        "```\n",
        "\n",
        "\n",
        "```\n",
        "b- number of neurons per layer=64\n",
        "```\n",
        "\n",
        "\n",
        "```\n",
        "c- optimization algorithm=adam\n",
        "```\n",
        "\n",
        "\n",
        "\n",
        "```\n",
        "d- loss function= cross entropy loss function\n",
        "```\n",
        "\n",
        "\n",
        "\n",
        "```\n",
        "e- number of epochs=50\n",
        "```\n",
        "\n",
        "\n",
        "```\n",
        "f- batch size=32\n",
        "```\n",
        "\n",
        "\n",
        "\n",
        "\n",
        "```\n",
        "g- activation function=Relu\n",
        "```\n",
        "\n",
        "\n",
        "\n",
        "\n",
        "\n",
        "\n",
        "\n",
        "\n",
        "\n",
        "\n",
        "\n"
      ]
    },
    {
      "cell_type": "code",
      "metadata": {
        "id": "vyo7nLOKf2m4",
        "colab_type": "code",
        "colab": {
          "base_uri": "https://localhost:8080/",
          "height": 1000
        },
        "outputId": "698d7c01-1e22-4329-ac92-934644c67a20"
      },
      "source": [
        "model.compile(keras.optimizers.rmsprop(lr=0.01),loss='categorical_crossentropy', metrics=['accuracy'])\n",
        "train = model.fit(\n",
        "    x_train, y_train,\n",
        "    batch_size=32, epochs=50,\n",
        "    validation_split=0.1\n",
        ")"
      ],
      "execution_count": 117,
      "outputs": [
        {
          "output_type": "stream",
          "text": [
            "Train on 54000 samples, validate on 6000 samples\n",
            "Epoch 1/50\n",
            "54000/54000 [==============================] - 3s 60us/step - loss: 0.2168 - acc: 0.9843 - val_loss: 0.3521 - val_acc: 0.9755\n",
            "Epoch 2/50\n",
            "54000/54000 [==============================] - 3s 54us/step - loss: 0.2148 - acc: 0.9844 - val_loss: 0.3193 - val_acc: 0.9768\n",
            "Epoch 3/50\n",
            "54000/54000 [==============================] - 3s 55us/step - loss: 0.2213 - acc: 0.9839 - val_loss: 0.3883 - val_acc: 0.9725\n",
            "Epoch 4/50\n",
            "54000/54000 [==============================] - 3s 56us/step - loss: 0.2217 - acc: 0.9841 - val_loss: 0.3047 - val_acc: 0.9785\n",
            "Epoch 5/50\n",
            "54000/54000 [==============================] - 3s 55us/step - loss: 0.2190 - acc: 0.9844 - val_loss: 0.3661 - val_acc: 0.9753\n",
            "Epoch 6/50\n",
            "54000/54000 [==============================] - 3s 55us/step - loss: 0.2209 - acc: 0.9843 - val_loss: 0.3416 - val_acc: 0.9760\n",
            "Epoch 7/50\n",
            "54000/54000 [==============================] - 3s 55us/step - loss: 0.2206 - acc: 0.9845 - val_loss: 0.3148 - val_acc: 0.9783\n",
            "Epoch 8/50\n",
            "54000/54000 [==============================] - 3s 55us/step - loss: 0.2220 - acc: 0.9843 - val_loss: 0.3517 - val_acc: 0.9752\n",
            "Epoch 9/50\n",
            "54000/54000 [==============================] - 3s 54us/step - loss: 0.2113 - acc: 0.9848 - val_loss: 0.3939 - val_acc: 0.9718\n",
            "Epoch 10/50\n",
            "54000/54000 [==============================] - 3s 54us/step - loss: 0.2199 - acc: 0.9841 - val_loss: 0.3854 - val_acc: 0.9733\n",
            "Epoch 11/50\n",
            "54000/54000 [==============================] - 3s 55us/step - loss: 0.2116 - acc: 0.9851 - val_loss: 0.3441 - val_acc: 0.9758\n",
            "Epoch 12/50\n",
            "54000/54000 [==============================] - 3s 54us/step - loss: 0.2008 - acc: 0.9857 - val_loss: 0.3361 - val_acc: 0.9770\n",
            "Epoch 13/50\n",
            "54000/54000 [==============================] - 3s 54us/step - loss: 0.2106 - acc: 0.9851 - val_loss: 0.3644 - val_acc: 0.9753\n",
            "Epoch 14/50\n",
            "54000/54000 [==============================] - 3s 54us/step - loss: 0.2101 - acc: 0.9850 - val_loss: 0.3869 - val_acc: 0.9743\n",
            "Epoch 15/50\n",
            "54000/54000 [==============================] - 3s 55us/step - loss: 0.1937 - acc: 0.9863 - val_loss: 0.3422 - val_acc: 0.9755\n",
            "Epoch 16/50\n",
            "54000/54000 [==============================] - 3s 54us/step - loss: 0.2057 - acc: 0.9853 - val_loss: 0.4573 - val_acc: 0.9687\n",
            "Epoch 17/50\n",
            "54000/54000 [==============================] - 3s 54us/step - loss: 0.2134 - acc: 0.9851 - val_loss: 0.3500 - val_acc: 0.9763\n",
            "Epoch 18/50\n",
            "54000/54000 [==============================] - 3s 53us/step - loss: 0.2131 - acc: 0.9848 - val_loss: 0.3549 - val_acc: 0.9758\n",
            "Epoch 19/50\n",
            "54000/54000 [==============================] - 3s 54us/step - loss: 0.2208 - acc: 0.9844 - val_loss: 0.3943 - val_acc: 0.9730\n",
            "Epoch 20/50\n",
            "54000/54000 [==============================] - 3s 54us/step - loss: 0.1980 - acc: 0.9858 - val_loss: 0.3587 - val_acc: 0.9755\n",
            "Epoch 21/50\n",
            "54000/54000 [==============================] - 3s 55us/step - loss: 0.2041 - acc: 0.9854 - val_loss: 0.3812 - val_acc: 0.9740\n",
            "Epoch 22/50\n",
            "54000/54000 [==============================] - 3s 54us/step - loss: 0.1917 - acc: 0.9864 - val_loss: 0.3614 - val_acc: 0.9753\n",
            "Epoch 23/50\n",
            "54000/54000 [==============================] - 3s 55us/step - loss: 0.1939 - acc: 0.9863 - val_loss: 0.3494 - val_acc: 0.9750\n",
            "Epoch 24/50\n",
            "54000/54000 [==============================] - 3s 55us/step - loss: 0.2016 - acc: 0.9859 - val_loss: 0.3385 - val_acc: 0.9760\n",
            "Epoch 25/50\n",
            "54000/54000 [==============================] - 3s 55us/step - loss: 0.1954 - acc: 0.9862 - val_loss: 0.3524 - val_acc: 0.9763\n",
            "Epoch 26/50\n",
            "54000/54000 [==============================] - 3s 55us/step - loss: 0.2031 - acc: 0.9856 - val_loss: 0.3292 - val_acc: 0.9777\n",
            "Epoch 27/50\n",
            "54000/54000 [==============================] - 3s 54us/step - loss: 0.1995 - acc: 0.9857 - val_loss: 0.3811 - val_acc: 0.9737\n",
            "Epoch 28/50\n",
            "54000/54000 [==============================] - 3s 55us/step - loss: 0.2040 - acc: 0.9858 - val_loss: 0.3678 - val_acc: 0.9748\n",
            "Epoch 29/50\n",
            "54000/54000 [==============================] - 3s 54us/step - loss: 0.2014 - acc: 0.9856 - val_loss: 0.3640 - val_acc: 0.9748\n",
            "Epoch 30/50\n",
            "54000/54000 [==============================] - 3s 55us/step - loss: 0.1943 - acc: 0.9862 - val_loss: 0.3612 - val_acc: 0.9753\n",
            "Epoch 31/50\n",
            "54000/54000 [==============================] - 3s 55us/step - loss: 0.1909 - acc: 0.9864 - val_loss: 0.3775 - val_acc: 0.9742\n",
            "Epoch 32/50\n",
            "54000/54000 [==============================] - 3s 55us/step - loss: 0.1874 - acc: 0.9869 - val_loss: 0.3252 - val_acc: 0.9773\n",
            "Epoch 33/50\n",
            "54000/54000 [==============================] - 3s 55us/step - loss: 0.1890 - acc: 0.9866 - val_loss: 0.3725 - val_acc: 0.9742\n",
            "Epoch 34/50\n",
            "54000/54000 [==============================] - 3s 54us/step - loss: 0.1958 - acc: 0.9864 - val_loss: 0.4252 - val_acc: 0.9712\n",
            "Epoch 35/50\n",
            "54000/54000 [==============================] - 3s 54us/step - loss: 0.2008 - acc: 0.9858 - val_loss: 0.3294 - val_acc: 0.9768\n",
            "Epoch 36/50\n",
            "54000/54000 [==============================] - 3s 55us/step - loss: 0.1858 - acc: 0.9871 - val_loss: 0.3870 - val_acc: 0.9735\n",
            "Epoch 37/50\n",
            "54000/54000 [==============================] - 3s 54us/step - loss: 0.1970 - acc: 0.9860 - val_loss: 0.4106 - val_acc: 0.9718\n",
            "Epoch 38/50\n",
            "54000/54000 [==============================] - 3s 54us/step - loss: 0.2010 - acc: 0.9859 - val_loss: 0.3735 - val_acc: 0.9752\n",
            "Epoch 39/50\n",
            "54000/54000 [==============================] - 3s 54us/step - loss: 0.1934 - acc: 0.9866 - val_loss: 0.4126 - val_acc: 0.9723\n",
            "Epoch 40/50\n",
            "54000/54000 [==============================] - 3s 54us/step - loss: 0.2054 - acc: 0.9856 - val_loss: 0.3911 - val_acc: 0.9743\n",
            "Epoch 41/50\n",
            "54000/54000 [==============================] - 3s 55us/step - loss: 0.1875 - acc: 0.9867 - val_loss: 0.3536 - val_acc: 0.9750\n",
            "Epoch 42/50\n",
            "54000/54000 [==============================] - 3s 54us/step - loss: 0.1842 - acc: 0.9871 - val_loss: 0.3661 - val_acc: 0.9740\n",
            "Epoch 43/50\n",
            "54000/54000 [==============================] - 3s 54us/step - loss: 0.1926 - acc: 0.9865 - val_loss: 0.3541 - val_acc: 0.9762\n",
            "Epoch 44/50\n",
            "54000/54000 [==============================] - 3s 55us/step - loss: 0.1910 - acc: 0.9867 - val_loss: 0.3235 - val_acc: 0.9785\n",
            "Epoch 45/50\n",
            "54000/54000 [==============================] - 3s 54us/step - loss: 0.1891 - acc: 0.9869 - val_loss: 0.3705 - val_acc: 0.9757\n",
            "Epoch 46/50\n",
            "54000/54000 [==============================] - 3s 54us/step - loss: 0.1931 - acc: 0.9867 - val_loss: 0.4111 - val_acc: 0.9723\n",
            "Epoch 47/50\n",
            "54000/54000 [==============================] - 3s 54us/step - loss: 0.1990 - acc: 0.9863 - val_loss: 0.3733 - val_acc: 0.9753\n",
            "Epoch 48/50\n",
            "54000/54000 [==============================] - 3s 55us/step - loss: 0.2067 - acc: 0.9859 - val_loss: 0.3093 - val_acc: 0.9782\n",
            "Epoch 49/50\n",
            "54000/54000 [==============================] - 3s 54us/step - loss: 0.1802 - acc: 0.9873 - val_loss: 0.3786 - val_acc: 0.9737\n",
            "Epoch 50/50\n",
            "54000/54000 [==============================] - 3s 55us/step - loss: 0.2048 - acc: 0.9856 - val_loss: 0.3765 - val_acc: 0.9750\n"
          ],
          "name": "stdout"
        }
      ]
    },
    {
      "cell_type": "code",
      "metadata": {
        "id": "EfwrvJ6l9YRF",
        "colab_type": "code",
        "colab": {
          "base_uri": "https://localhost:8080/",
          "height": 295
        },
        "outputId": "0b2afb53-d6a0-4c2b-bdfc-51f1e7c8f0d8"
      },
      "source": [
        "import matplotlib.pyplot as plot\n",
        "loss, accuracy  = model.evaluate(x_test, y_test, verbose=False)\n",
        "plot.plot(train.history['acc'])\n",
        "plot.plot(train.history['val_acc'])\n",
        "plot.title('model accuracy')\n",
        "plot.ylabel('accuracy')\n",
        "plot.xlabel('epoch')\n",
        "plot.legend(['training', 'validation'], loc='best')\n",
        "plot.show()"
      ],
      "execution_count": 118,
      "outputs": [
        {
          "output_type": "display_data",
          "data": {
            "image/png": "[encoded data removed]",
            "text/plain": [
              "<Figure size 432x288 with 1 Axes>"
            ]
          },
          "metadata": {
            "tags": []
          }
        }
      ]
    },
    {
      "cell_type": "markdown",
      "metadata": {
        "id": "-gLnP0MW-MaG",
        "colab_type": "text"
      },
      "source": [
        "Expriement 4:\n",
        "\n",
        "\n",
        "```\n",
        "a- number of hidden layers=1\n",
        "```\n",
        "\n",
        "\n",
        "```\n",
        "b- number of neurons per layer=64\n",
        "```\n",
        "\n",
        "\n",
        "```\n",
        "c- optimization algorithm=SGD\n",
        "```\n",
        "\n",
        "\n",
        "\n",
        "```\n",
        "d- loss function= cross entropy loss function\n",
        "```\n",
        "\n",
        "\n",
        "\n",
        "```\n",
        "e- number of epochs=100\n",
        "```\n",
        "\n",
        "\n",
        "```\n",
        "f- batch size=32\n",
        "```\n",
        "\n",
        "\n",
        "\n",
        "\n",
        "```\n",
        "g- activation function=Relu\n",
        "```\n",
        "\n",
        "\n",
        "\n",
        "\n",
        "\n",
        "\n",
        "\n",
        "\n",
        "\n",
        "\n",
        "\n"
      ]
    },
    {
      "cell_type": "code",
      "metadata": {
        "id": "HsBS66CO-W5G",
        "colab_type": "code",
        "colab": {
          "base_uri": "https://localhost:8080/",
          "height": 1000
        },
        "outputId": "6247fa4c-749c-46dc-afd1-9dd7d4acf882"
      },
      "source": [
        "# train model\n",
        "model.compile(keras.optimizers.SGD(lr=0.01,momentum=0,decay=0,nesterov=False),loss='categorical_crossentropy', metrics=['accuracy'])\n",
        "train = model.fit(\n",
        "    x_train, y_train,\n",
        "    batch_size=32, epochs=100,\n",
        "    validation_split=0.1\n",
        ")"
      ],
      "execution_count": 119,
      "outputs": [
        {
          "output_type": "stream",
          "text": [
            "Train on 54000 samples, validate on 6000 samples\n",
            "Epoch 1/100\n",
            "54000/54000 [==============================] - 3s 56us/step - loss: 0.1466 - acc: 0.9899 - val_loss: 0.3573 - val_acc: 0.9765\n",
            "Epoch 2/100\n",
            "54000/54000 [==============================] - 3s 50us/step - loss: 0.1362 - acc: 0.9906 - val_loss: 0.3190 - val_acc: 0.9782\n",
            "Epoch 3/100\n",
            "54000/54000 [==============================] - 3s 51us/step - loss: 0.1257 - acc: 0.9914 - val_loss: 0.3264 - val_acc: 0.9780\n",
            "Epoch 4/100\n",
            "54000/54000 [==============================] - 3s 50us/step - loss: 0.1265 - acc: 0.9914 - val_loss: 0.3239 - val_acc: 0.9787\n",
            "Epoch 5/100\n",
            "54000/54000 [==============================] - 3s 50us/step - loss: 0.1200 - acc: 0.9919 - val_loss: 0.3180 - val_acc: 0.9788\n",
            "Epoch 6/100\n",
            "54000/54000 [==============================] - 3s 51us/step - loss: 0.1181 - acc: 0.9921 - val_loss: 0.3063 - val_acc: 0.9795\n",
            "Epoch 7/100\n",
            "54000/54000 [==============================] - 3s 51us/step - loss: 0.1156 - acc: 0.9923 - val_loss: 0.3277 - val_acc: 0.9780\n",
            "Epoch 8/100\n",
            "54000/54000 [==============================] - 3s 51us/step - loss: 0.1154 - acc: 0.9922 - val_loss: 0.2947 - val_acc: 0.9795\n",
            "Epoch 9/100\n",
            "54000/54000 [==============================] - 3s 51us/step - loss: 0.1116 - acc: 0.9924 - val_loss: 0.3203 - val_acc: 0.9785\n",
            "Epoch 10/100\n",
            "54000/54000 [==============================] - 3s 51us/step - loss: 0.1111 - acc: 0.9925 - val_loss: 0.3168 - val_acc: 0.9782\n",
            "Epoch 11/100\n",
            "54000/54000 [==============================] - 3s 50us/step - loss: 0.1109 - acc: 0.9926 - val_loss: 0.3106 - val_acc: 0.9790\n",
            "Epoch 12/100\n",
            "54000/54000 [==============================] - 3s 51us/step - loss: 0.1060 - acc: 0.9930 - val_loss: 0.3225 - val_acc: 0.9788\n",
            "Epoch 13/100\n",
            "54000/54000 [==============================] - 3s 51us/step - loss: 0.1042 - acc: 0.9931 - val_loss: 0.3023 - val_acc: 0.9802\n",
            "Epoch 14/100\n",
            "54000/54000 [==============================] - 3s 51us/step - loss: 0.1062 - acc: 0.9930 - val_loss: 0.3200 - val_acc: 0.9785\n",
            "Epoch 15/100\n",
            "54000/54000 [==============================] - 3s 51us/step - loss: 0.1029 - acc: 0.9932 - val_loss: 0.3096 - val_acc: 0.9797\n",
            "Epoch 16/100\n",
            "54000/54000 [==============================] - 3s 51us/step - loss: 0.1022 - acc: 0.9933 - val_loss: 0.3072 - val_acc: 0.9790\n",
            "Epoch 17/100\n",
            "54000/54000 [==============================] - 3s 52us/step - loss: 0.0983 - acc: 0.9935 - val_loss: 0.3150 - val_acc: 0.9797\n",
            "Epoch 18/100\n",
            "54000/54000 [==============================] - 3s 51us/step - loss: 0.1009 - acc: 0.9933 - val_loss: 0.3190 - val_acc: 0.9782\n",
            "Epoch 19/100\n",
            "54000/54000 [==============================] - 3s 51us/step - loss: 0.1015 - acc: 0.9932 - val_loss: 0.3053 - val_acc: 0.9793\n",
            "Epoch 20/100\n",
            "54000/54000 [==============================] - 3s 51us/step - loss: 0.1032 - acc: 0.9931 - val_loss: 0.3048 - val_acc: 0.9790\n",
            "Epoch 21/100\n",
            "54000/54000 [==============================] - 3s 51us/step - loss: 0.0955 - acc: 0.9938 - val_loss: 0.3151 - val_acc: 0.9790\n",
            "Epoch 22/100\n",
            "54000/54000 [==============================] - 3s 50us/step - loss: 0.0980 - acc: 0.9936 - val_loss: 0.3118 - val_acc: 0.9788\n",
            "Epoch 23/100\n",
            "54000/54000 [==============================] - 3s 50us/step - loss: 0.0968 - acc: 0.9936 - val_loss: 0.3237 - val_acc: 0.9782\n",
            "Epoch 24/100\n",
            "54000/54000 [==============================] - 3s 50us/step - loss: 0.0965 - acc: 0.9937 - val_loss: 0.3090 - val_acc: 0.9785\n",
            "Epoch 25/100\n",
            "54000/54000 [==============================] - 3s 51us/step - loss: 0.0965 - acc: 0.9936 - val_loss: 0.3038 - val_acc: 0.9797\n",
            "Epoch 26/100\n",
            "54000/54000 [==============================] - 3s 51us/step - loss: 0.0957 - acc: 0.9937 - val_loss: 0.3024 - val_acc: 0.9797\n",
            "Epoch 27/100\n",
            "54000/54000 [==============================] - 3s 51us/step - loss: 0.0965 - acc: 0.9938 - val_loss: 0.3130 - val_acc: 0.9790\n",
            "Epoch 28/100\n",
            "54000/54000 [==============================] - 3s 51us/step - loss: 0.0944 - acc: 0.9940 - val_loss: 0.3139 - val_acc: 0.9788\n",
            "Epoch 29/100\n",
            "54000/54000 [==============================] - 3s 51us/step - loss: 0.0946 - acc: 0.9939 - val_loss: 0.3049 - val_acc: 0.9797\n",
            "Epoch 30/100\n",
            "54000/54000 [==============================] - 3s 51us/step - loss: 0.0953 - acc: 0.9939 - val_loss: 0.3075 - val_acc: 0.9793\n",
            "Epoch 31/100\n",
            "54000/54000 [==============================] - 3s 51us/step - loss: 0.0936 - acc: 0.9939 - val_loss: 0.3029 - val_acc: 0.9795\n",
            "Epoch 32/100\n",
            "54000/54000 [==============================] - 3s 51us/step - loss: 0.0941 - acc: 0.9939 - val_loss: 0.3034 - val_acc: 0.9793\n",
            "Epoch 33/100\n",
            "54000/54000 [==============================] - 3s 51us/step - loss: 0.0942 - acc: 0.9938 - val_loss: 0.3020 - val_acc: 0.9798\n",
            "Epoch 34/100\n",
            "54000/54000 [==============================] - 3s 50us/step - loss: 0.0951 - acc: 0.9938 - val_loss: 0.3038 - val_acc: 0.9798\n",
            "Epoch 35/100\n",
            "54000/54000 [==============================] - 3s 50us/step - loss: 0.0921 - acc: 0.9941 - val_loss: 0.2992 - val_acc: 0.9800\n",
            "Epoch 36/100\n",
            "54000/54000 [==============================] - 3s 51us/step - loss: 0.0922 - acc: 0.9941 - val_loss: 0.3040 - val_acc: 0.9792\n",
            "Epoch 37/100\n",
            "54000/54000 [==============================] - 3s 51us/step - loss: 0.0908 - acc: 0.9943 - val_loss: 0.3151 - val_acc: 0.9785\n",
            "Epoch 38/100\n",
            "54000/54000 [==============================] - 3s 50us/step - loss: 0.0929 - acc: 0.9940 - val_loss: 0.2953 - val_acc: 0.9800\n",
            "Epoch 39/100\n",
            "54000/54000 [==============================] - 3s 50us/step - loss: 0.0908 - acc: 0.9942 - val_loss: 0.3031 - val_acc: 0.9797\n",
            "Epoch 40/100\n",
            "54000/54000 [==============================] - 3s 51us/step - loss: 0.0907 - acc: 0.9942 - val_loss: 0.2984 - val_acc: 0.9795\n",
            "Epoch 41/100\n",
            "54000/54000 [==============================] - 3s 51us/step - loss: 0.0937 - acc: 0.9940 - val_loss: 0.3033 - val_acc: 0.9793\n",
            "Epoch 42/100\n",
            "54000/54000 [==============================] - 3s 50us/step - loss: 0.0908 - acc: 0.9941 - val_loss: 0.2897 - val_acc: 0.9803\n",
            "Epoch 43/100\n",
            "54000/54000 [==============================] - 3s 51us/step - loss: 0.0905 - acc: 0.9942 - val_loss: 0.2997 - val_acc: 0.9797\n",
            "Epoch 44/100\n",
            "54000/54000 [==============================] - 3s 52us/step - loss: 0.0907 - acc: 0.9942 - val_loss: 0.3119 - val_acc: 0.9792\n",
            "Epoch 45/100\n",
            "54000/54000 [==============================] - 3s 51us/step - loss: 0.0898 - acc: 0.9944 - val_loss: 0.3058 - val_acc: 0.9793\n",
            "Epoch 46/100\n",
            "54000/54000 [==============================] - 3s 51us/step - loss: 0.0912 - acc: 0.9942 - val_loss: 0.3068 - val_acc: 0.9797\n",
            "Epoch 47/100\n",
            "54000/54000 [==============================] - 3s 51us/step - loss: 0.0896 - acc: 0.9942 - val_loss: 0.3026 - val_acc: 0.9797\n",
            "Epoch 48/100\n",
            "54000/54000 [==============================] - 3s 51us/step - loss: 0.0896 - acc: 0.9944 - val_loss: 0.2990 - val_acc: 0.9798\n",
            "Epoch 49/100\n",
            "54000/54000 [==============================] - 3s 51us/step - loss: 0.0891 - acc: 0.9944 - val_loss: 0.3042 - val_acc: 0.9793\n",
            "Epoch 50/100\n",
            "54000/54000 [==============================] - 3s 50us/step - loss: 0.0897 - acc: 0.9944 - val_loss: 0.3094 - val_acc: 0.9793\n",
            "Epoch 51/100\n",
            "54000/54000 [==============================] - 3s 50us/step - loss: 0.0890 - acc: 0.9944 - val_loss: 0.3059 - val_acc: 0.9793\n",
            "Epoch 52/100\n",
            "54000/54000 [==============================] - 3s 51us/step - loss: 0.0891 - acc: 0.9944 - val_loss: 0.3023 - val_acc: 0.9797\n",
            "Epoch 53/100\n",
            "54000/54000 [==============================] - 3s 50us/step - loss: 0.0891 - acc: 0.9944 - val_loss: 0.3106 - val_acc: 0.9792\n",
            "Epoch 54/100\n",
            "54000/54000 [==============================] - 3s 51us/step - loss: 0.0887 - acc: 0.9945 - val_loss: 0.3038 - val_acc: 0.9793\n",
            "Epoch 55/100\n",
            "54000/54000 [==============================] - 3s 51us/step - loss: 0.0887 - acc: 0.9945 - val_loss: 0.3053 - val_acc: 0.9797\n",
            "Epoch 56/100\n",
            "54000/54000 [==============================] - 3s 52us/step - loss: 0.0887 - acc: 0.9945 - val_loss: 0.3051 - val_acc: 0.9795\n",
            "Epoch 57/100\n",
            "54000/54000 [==============================] - 3s 50us/step - loss: 0.0887 - acc: 0.9945 - val_loss: 0.3050 - val_acc: 0.9795\n",
            "Epoch 58/100\n",
            "54000/54000 [==============================] - 3s 50us/step - loss: 0.0887 - acc: 0.9945 - val_loss: 0.3049 - val_acc: 0.9795\n",
            "Epoch 59/100\n",
            "54000/54000 [==============================] - 3s 51us/step - loss: 0.0887 - acc: 0.9945 - val_loss: 0.3048 - val_acc: 0.9795\n",
            "Epoch 60/100\n",
            "54000/54000 [==============================] - 3s 51us/step - loss: 0.0887 - acc: 0.9945 - val_loss: 0.3048 - val_acc: 0.9795\n",
            "Epoch 61/100\n",
            "54000/54000 [==============================] - 3s 51us/step - loss: 0.0887 - acc: 0.9945 - val_loss: 0.3047 - val_acc: 0.9795\n",
            "Epoch 62/100\n",
            "54000/54000 [==============================] - 3s 51us/step - loss: 0.0887 - acc: 0.9945 - val_loss: 0.3046 - val_acc: 0.9795\n",
            "Epoch 63/100\n",
            "54000/54000 [==============================] - 3s 51us/step - loss: 0.0887 - acc: 0.9945 - val_loss: 0.3046 - val_acc: 0.9795\n",
            "Epoch 64/100\n",
            "54000/54000 [==============================] - 3s 51us/step - loss: 0.0887 - acc: 0.9945 - val_loss: 0.3046 - val_acc: 0.9795\n",
            "Epoch 65/100\n",
            "54000/54000 [==============================] - 3s 51us/step - loss: 0.0887 - acc: 0.9945 - val_loss: 0.3045 - val_acc: 0.9795\n",
            "Epoch 66/100\n",
            "54000/54000 [==============================] - 3s 51us/step - loss: 0.0887 - acc: 0.9945 - val_loss: 0.3045 - val_acc: 0.9795\n",
            "Epoch 67/100\n",
            "54000/54000 [==============================] - 3s 52us/step - loss: 0.0887 - acc: 0.9945 - val_loss: 0.3045 - val_acc: 0.9795\n",
            "Epoch 68/100\n",
            "54000/54000 [==============================] - 3s 51us/step - loss: 0.0886 - acc: 0.9945 - val_loss: 0.3045 - val_acc: 0.9795\n",
            "Epoch 69/100\n",
            "54000/54000 [==============================] - 3s 50us/step - loss: 0.0886 - acc: 0.9945 - val_loss: 0.3044 - val_acc: 0.9795\n",
            "Epoch 70/100\n",
            "54000/54000 [==============================] - 3s 51us/step - loss: 0.0886 - acc: 0.9945 - val_loss: 0.3044 - val_acc: 0.9795\n",
            "Epoch 71/100\n",
            "54000/54000 [==============================] - 3s 51us/step - loss: 0.0886 - acc: 0.9945 - val_loss: 0.3044 - val_acc: 0.9795\n",
            "Epoch 72/100\n",
            "54000/54000 [==============================] - 3s 51us/step - loss: 0.0886 - acc: 0.9945 - val_loss: 0.3043 - val_acc: 0.9795\n",
            "Epoch 73/100\n",
            "54000/54000 [==============================] - 3s 51us/step - loss: 0.0886 - acc: 0.9945 - val_loss: 0.3043 - val_acc: 0.9795\n",
            "Epoch 74/100\n",
            "54000/54000 [==============================] - 3s 53us/step - loss: 0.0886 - acc: 0.9945 - val_loss: 0.3043 - val_acc: 0.9795\n",
            "Epoch 75/100\n",
            "54000/54000 [==============================] - 3s 53us/step - loss: 0.0886 - acc: 0.9945 - val_loss: 0.3043 - val_acc: 0.9795\n",
            "Epoch 76/100\n",
            "54000/54000 [==============================] - 3s 53us/step - loss: 0.0886 - acc: 0.9945 - val_loss: 0.3043 - val_acc: 0.9795\n",
            "Epoch 77/100\n",
            "54000/54000 [==============================] - 3s 53us/step - loss: 0.0886 - acc: 0.9945 - val_loss: 0.3042 - val_acc: 0.9795\n",
            "Epoch 78/100\n",
            "54000/54000 [==============================] - 3s 52us/step - loss: 0.0886 - acc: 0.9945 - val_loss: 0.3042 - val_acc: 0.9795\n",
            "Epoch 79/100\n",
            "54000/54000 [==============================] - 3s 51us/step - loss: 0.0886 - acc: 0.9945 - val_loss: 0.3042 - val_acc: 0.9795\n",
            "Epoch 80/100\n",
            "54000/54000 [==============================] - 3s 51us/step - loss: 0.0886 - acc: 0.9945 - val_loss: 0.3042 - val_acc: 0.9795\n",
            "Epoch 81/100\n",
            "54000/54000 [==============================] - 3s 51us/step - loss: 0.0886 - acc: 0.9945 - val_loss: 0.3042 - val_acc: 0.9795\n",
            "Epoch 82/100\n",
            "54000/54000 [==============================] - 3s 51us/step - loss: 0.0886 - acc: 0.9945 - val_loss: 0.3042 - val_acc: 0.9795\n",
            "Epoch 83/100\n",
            "54000/54000 [==============================] - 3s 51us/step - loss: 0.0886 - acc: 0.9945 - val_loss: 0.3042 - val_acc: 0.9795\n",
            "Epoch 84/100\n",
            "54000/54000 [==============================] - 3s 51us/step - loss: 0.0886 - acc: 0.9945 - val_loss: 0.3041 - val_acc: 0.9795\n",
            "Epoch 85/100\n",
            "54000/54000 [==============================] - 3s 51us/step - loss: 0.0886 - acc: 0.9945 - val_loss: 0.3041 - val_acc: 0.9795\n",
            "Epoch 86/100\n",
            "54000/54000 [==============================] - 3s 51us/step - loss: 0.0886 - acc: 0.9945 - val_loss: 0.3041 - val_acc: 0.9795\n",
            "Epoch 87/100\n",
            "54000/54000 [==============================] - 3s 51us/step - loss: 0.0886 - acc: 0.9945 - val_loss: 0.3041 - val_acc: 0.9795\n",
            "Epoch 88/100\n",
            "54000/54000 [==============================] - 3s 51us/step - loss: 0.0886 - acc: 0.9945 - val_loss: 0.3041 - val_acc: 0.9795\n",
            "Epoch 89/100\n",
            "54000/54000 [==============================] - 3s 51us/step - loss: 0.0886 - acc: 0.9945 - val_loss: 0.3041 - val_acc: 0.9795\n",
            "Epoch 90/100\n",
            "54000/54000 [==============================] - 3s 52us/step - loss: 0.0886 - acc: 0.9945 - val_loss: 0.3041 - val_acc: 0.9795\n",
            "Epoch 91/100\n",
            "54000/54000 [==============================] - 3s 52us/step - loss: 0.0886 - acc: 0.9945 - val_loss: 0.3041 - val_acc: 0.9795\n",
            "Epoch 92/100\n",
            "54000/54000 [==============================] - 3s 52us/step - loss: 0.0886 - acc: 0.9945 - val_loss: 0.3040 - val_acc: 0.9795\n",
            "Epoch 93/100\n",
            "54000/54000 [==============================] - 3s 51us/step - loss: 0.0886 - acc: 0.9945 - val_loss: 0.3040 - val_acc: 0.9795\n",
            "Epoch 94/100\n",
            "54000/54000 [==============================] - 3s 52us/step - loss: 0.0886 - acc: 0.9945 - val_loss: 0.3040 - val_acc: 0.9795\n",
            "Epoch 95/100\n",
            "54000/54000 [==============================] - 3s 52us/step - loss: 0.0886 - acc: 0.9945 - val_loss: 0.3040 - val_acc: 0.9795\n",
            "Epoch 96/100\n",
            "54000/54000 [==============================] - 3s 51us/step - loss: 0.0886 - acc: 0.9945 - val_loss: 0.3040 - val_acc: 0.9795\n",
            "Epoch 97/100\n",
            "54000/54000 [==============================] - 3s 52us/step - loss: 0.0886 - acc: 0.9945 - val_loss: 0.3040 - val_acc: 0.9795\n",
            "Epoch 98/100\n",
            "54000/54000 [==============================] - 3s 51us/step - loss: 0.0886 - acc: 0.9945 - val_loss: 0.3040 - val_acc: 0.9795\n",
            "Epoch 99/100\n",
            "54000/54000 [==============================] - 3s 52us/step - loss: 0.0886 - acc: 0.9945 - val_loss: 0.3040 - val_acc: 0.9795\n",
            "Epoch 100/100\n",
            "54000/54000 [==============================] - 3s 51us/step - loss: 0.0886 - acc: 0.9945 - val_loss: 0.3040 - val_acc: 0.9795\n"
          ],
          "name": "stdout"
        }
      ]
    },
    {
      "cell_type": "code",
      "metadata": {
        "id": "P0w892Vj-fQL",
        "colab_type": "code",
        "colab": {
          "base_uri": "https://localhost:8080/",
          "height": 295
        },
        "outputId": "bb9c69a0-3a95-4e82-a821-34a5af4adabc"
      },
      "source": [
        "import matplotlib.pyplot as plot\n",
        "loss, accuracy  = model.evaluate(x_test, y_test, verbose=False)\n",
        "plot.plot(train.history['acc'])\n",
        "plot.plot(train.history['val_acc'])\n",
        "plot.title('model accuracy')\n",
        "plot.ylabel('accuracy')\n",
        "plot.xlabel('epoch')\n",
        "plot.legend(['training', 'validation'], loc='best')\n",
        "plot.show()"
      ],
      "execution_count": 120,
      "outputs": [
        {
          "output_type": "display_data",
          "data": {
            "image/png": "[encoded data removed]",
            "text/plain": [
              "<Figure size 432x288 with 1 Axes>"
            ]
          },
          "metadata": {
            "tags": []
          }
        }
      ]
    },
    {
      "cell_type": "markdown",
      "metadata": {
        "id": "HU58RFH8_unC",
        "colab_type": "text"
      },
      "source": [
        "Expriement 5:\n",
        "\n",
        "\n",
        "```\n",
        "a- number of hidden layers=1\n",
        "```\n",
        "\n",
        "\n",
        "```\n",
        "b- number of neurons per layer=64\n",
        "```\n",
        "\n",
        "\n",
        "```\n",
        "c- optimization algorithm=rmsprop\n",
        "```\n",
        "\n",
        "\n",
        "\n",
        "```\n",
        "d- loss function= cross entropy loss function\n",
        "```\n",
        "\n",
        "\n",
        "\n",
        "```\n",
        "e- number of epochs=100\n",
        "```\n",
        "\n",
        "\n",
        "```\n",
        "f- batch size=32\n",
        "```\n",
        "\n",
        "\n",
        "\n",
        "\n",
        "```\n",
        "g- activation function=Relu\n",
        "```\n",
        "\n",
        "\n",
        "\n",
        "\n",
        "\n",
        "\n",
        "\n",
        "\n",
        "\n",
        "\n",
        "\n"
      ]
    }
  ]
}