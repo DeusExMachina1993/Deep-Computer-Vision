{
  "nbformat": 4,
  "nbformat_minor": 0,
  "metadata": {
    "colab": {
      "name": "Project1.ipynb",
      "provenance": [],
      "collapsed_sections": [],
      "include_colab_link": true
    },
    "kernelspec": {
      "name": "python3",
      "display_name": "Python 3"
    }
  },
  "cells": [
    {
      "cell_type": "markdown",
      "metadata": {
        "id": "view-in-github",
        "colab_type": "text"
      },
      "source": [
        "<a href=\"https://colab.research.google.com/github/DeusExMachina1993/Deep-Computer-Vision/blob/master/Project1.ipynb\" target=\"_parent\"><img src=\"https://colab.research.google.com/assets/colab-badge.svg\" alt=\"Open In Colab\"/></a>"
      ]
    },
    {
      "cell_type": "markdown",
      "metadata": {
        "id": "h8QJK1sietQq",
        "colab_type": "text"
      },
      "source": [
        "Project 1:**Multi-layer NN**"
      ]
    },
    {
      "cell_type": "markdown",
      "metadata": {
        "id": "HOlqLTcse6Dn",
        "colab_type": "text"
      },
      "source": [
        "Q.Use MNIST dataset for multi-class classification. Change the following parameters and report recognition accuracy and time on train, test, and validation sets."
      ]
    },
    {
      "cell_type": "markdown",
      "metadata": {
        "id": "D9a3aBlTkP23",
        "colab_type": "text"
      },
      "source": [
        "a- number of hidden layers\n",
        "b- number of neurons per layer\n",
        "c- optimization algorithm\n",
        "d- loss function\n",
        "e- number of epochs\n",
        "f- batch size\n"
      ]
    },
    {
      "cell_type": "markdown",
      "metadata": {
        "id": "KPpz1UosgbCR",
        "colab_type": "text"
      },
      "source": [
        "**Classifying Handwritten Digits with Neural Networks**"
      ]
    },
    {
      "cell_type": "markdown",
      "metadata": {
        "id": "qqHomGFzjt--",
        "colab_type": "text"
      },
      "source": [
        "![img](https://www.tensorflow.org/images/MNIST.png)"
      ]
    },
    {
      "cell_type": "markdown",
      "metadata": {
        "id": "bY90Gy74keJR",
        "colab_type": "text"
      },
      "source": [
        "The process will be broken down into the following steps:\n",
        "\n",
        "1.   Load and visualize the data\n",
        "2.   Define a neural network\n",
        "3.   Train the model\n",
        "4.   Evaluate the performance \n",
        "\n",
        "\n",
        "\n",
        "\n",
        "\n",
        "\n",
        "\n",
        "\n",
        "\n",
        "\n",
        "\n",
        "\n"
      ]
    },
    {
      "cell_type": "markdown",
      "metadata": {
        "id": "xtS_qR5HliOG",
        "colab_type": "text"
      },
      "source": [
        "Load necessary Library\n"
      ]
    },
    {
      "cell_type": "code",
      "metadata": {
        "id": "GGVTXlf2kd1Q",
        "colab_type": "code",
        "colab": {}
      },
      "source": [
        "import numpy as np\n",
        "import os\n",
        "import tempfile\n",
        "\n",
        "import keras\n",
        "from keras import backend as K\n",
        "from keras import layers\n",
        "from keras.datasets import mnist\n",
        "\n",
        "import tensorflow as tf"
      ],
      "execution_count": 0,
      "outputs": []
    },
    {
      "cell_type": "markdown",
      "metadata": {
        "id": "QMeexpO-e_J0",
        "colab_type": "text"
      },
      "source": [
        "1.Load and visualize the data"
      ]
    },
    {
      "cell_type": "code",
      "metadata": {
        "id": "BP8-qSHBlwxr",
        "colab_type": "code",
        "colab": {}
      },
      "source": [
        "(x_train, y_train), (x_test, y_test) = mnist.load_data()"
      ],
      "execution_count": 0,
      "outputs": []
    },
    {
      "cell_type": "markdown",
      "metadata": {
        "id": "UrNjMN5fW2XL",
        "colab_type": "text"
      },
      "source": [
        " flatten the 28x28 pixels into a vector"
      ]
    },
    {
      "cell_type": "code",
      "metadata": {
        "id": "FkXjoF_Al2Jh",
        "colab_type": "code",
        "colab": {}
      },
      "source": [
        "x_train = x_train.reshape(x_train.shape[0], 784)\n",
        "x_test = x_test.reshape(x_test.shape[0], 784)"
      ],
      "execution_count": 0,
      "outputs": []
    },
    {
      "cell_type": "code",
      "metadata": {
        "id": "zTJVZ0VSmOcf",
        "colab_type": "code",
        "colab": {}
      },
      "source": [
        "# normalize pixel values\n",
        "x_train = x_train.astype('float32') / 255\n",
        "x_test = x_test.astype('float32') / 255"
      ],
      "execution_count": 0,
      "outputs": []
    },
    {
      "cell_type": "code",
      "metadata": {
        "id": "wMfRCaL6mxXG",
        "colab_type": "code",
        "colab": {}
      },
      "source": [
        "# one hot encode target values\n",
        "y_train = keras.utils.np_utils.to_categorical(y_train,10)\n",
        "y_test = keras.utils.np_utils.to_categorical(y_test,10)"
      ],
      "execution_count": 0,
      "outputs": []
    },
    {
      "cell_type": "markdown",
      "metadata": {
        "id": "Hhg-dnMPtVSz",
        "colab_type": "text"
      },
      "source": [
        "2.Define a neural network"
      ]
    },
    {
      "cell_type": "markdown",
      "metadata": {
        "id": "YnpnpmF15TYZ",
        "colab_type": "text"
      },
      "source": [
        "Expriement 1:\n",
        "\n",
        "\n",
        "```\n",
        "a- number of hidden layers=1\n",
        "```\n",
        "\n",
        "\n",
        "```\n",
        "b- number of neurons per layer=64\n",
        "```\n",
        "\n",
        "\n",
        "```\n",
        "c- optimization algorithm=SGD\n",
        "```\n",
        "\n",
        "\n",
        "\n",
        "```\n",
        "d- loss function= cross entropy loss function\n",
        "```\n",
        "\n",
        "\n",
        "\n",
        "```\n",
        "e- number of epochs=5\n",
        "```\n",
        "\n",
        "\n",
        "```\n",
        "f- batch size=32\n",
        "```\n",
        "\n",
        "\n",
        "\n",
        "\n",
        "```\n",
        "g- activation function=Relu\n",
        "```\n",
        "\n",
        "\n",
        "\n",
        "\n",
        "\n",
        "\n",
        "\n",
        "\n",
        "\n",
        "\n",
        "\n"
      ]
    },
    {
      "cell_type": "code",
      "metadata": {
        "id": "XBa5mK5Modxr",
        "colab_type": "code",
        "colab": {}
      },
      "source": [
        "from keras.models import Sequential\n",
        "from keras.layers import Dense, Activation"
      ],
      "execution_count": 0,
      "outputs": []
    },
    {
      "cell_type": "code",
      "metadata": {
        "id": "p4wIpOs9vwXX",
        "colab_type": "code",
        "colab": {}
      },
      "source": [
        "def build_model():\n",
        "  model =Sequential([\n",
        "    layers.Dense(units=64,input_shape=(784,), activation=tf.nn.relu),\n",
        "    layers.Dense(units=10, activation=tf.nn.softmax),\n",
        "    \n",
        "  ])\n",
        "  return model"
      ],
      "execution_count": 0,
      "outputs": []
    },
    {
      "cell_type": "code",
      "metadata": {
        "id": "-eAILvZoA87W",
        "colab_type": "code",
        "colab": {
          "base_uri": "https://localhost:8080/",
          "height": 312
        },
        "outputId": "fd9c3c24-1050-42f9-a358-68b9a0272a42"
      },
      "source": [
        "from keras.utils.vis_utils import plot_model\n",
        "model=build_model();\n",
        "plot_model(model, to_file='model_plot.png',expand_nested=True,show_shapes=True)\n",
        "\n"
      ],
      "execution_count": 108,
      "outputs": [
        {
          "output_type": "execute_result",
          "data": {
            "image/png": "[encoded data removed]",
            "text/plain": [
              "<IPython.core.display.Image object>"
            ]
          },
          "metadata": {
            "tags": []
          },
          "execution_count": 108
        }
      ]
    },
    {
      "cell_type": "markdown",
      "metadata": {
        "id": "tCqdW6YyA7lN",
        "colab_type": "text"
      },
      "source": [
        "3.Train the model"
      ]
    },
    {
      "cell_type": "code",
      "metadata": {
        "id": "JzbRiwfMBMGK",
        "colab_type": "code",
        "colab": {
          "base_uri": "https://localhost:8080/",
          "height": 1000
        },
        "outputId": "337b781b-23f9-40cd-963c-e6a86fb5172c"
      },
      "source": [
        "# train model\n",
        "model.compile(keras.optimizers.SGD(lr=0.01,momentum=0,decay=0,nesterov=False),loss='categorical_crossentropy', metrics=['accuracy'])\n",
        "train = model.fit(\n",
        "    x_train, y_train,\n",
        "    batch_size=32, epochs=50,\n",
        "    validation_split=0.1\n",
        ")"
      ],
      "execution_count": 109,
      "outputs": [
        {
          "output_type": "stream",
          "text": [
            "WARNING:tensorflow:From /usr/local/lib/python3.6/dist-packages/tensorflow_core/python/ops/math_grad.py:1424: where (from tensorflow.python.ops.array_ops) is deprecated and will be removed in a future version.\n",
            "Instructions for updating:\n",
            "Use tf.where in 2.0, which has the same broadcast rule as np.where\n",
            "WARNING:tensorflow:From /usr/local/lib/python3.6/dist-packages/keras/backend/tensorflow_backend.py:3005: The name tf.Session is deprecated. Please use tf.compat.v1.Session instead.\n",
            "\n",
            "Train on 54000 samples, validate on 6000 samples\n",
            "Epoch 1/50\n",
            "WARNING:tensorflow:From /usr/local/lib/python3.6/dist-packages/keras/backend/tensorflow_backend.py:190: The name tf.get_default_session is deprecated. Please use tf.compat.v1.get_default_session instead.\n",
            "\n",
            "WARNING:tensorflow:From /usr/local/lib/python3.6/dist-packages/keras/backend/tensorflow_backend.py:207: The name tf.global_variables is deprecated. Please use tf.compat.v1.global_variables instead.\n",
            "\n",
            "WARNING:tensorflow:From /usr/local/lib/python3.6/dist-packages/keras/backend/tensorflow_backend.py:216: The name tf.is_variable_initialized is deprecated. Please use tf.compat.v1.is_variable_initialized instead.\n",
            "\n",
            "WARNING:tensorflow:From /usr/local/lib/python3.6/dist-packages/keras/backend/tensorflow_backend.py:223: The name tf.variables_initializer is deprecated. Please use tf.compat.v1.variables_initializer instead.\n",
            "\n",
            "54000/54000 [==============================] - 4s 67us/step - loss: 0.7238 - acc: 0.8136 - val_loss: 0.3333 - val_acc: 0.9120\n",
            "Epoch 2/50\n",
            "54000/54000 [==============================] - 3s 50us/step - loss: 0.3600 - acc: 0.8991 - val_loss: 0.2683 - val_acc: 0.9262\n",
            "Epoch 3/50\n",
            "54000/54000 [==============================] - 3s 49us/step - loss: 0.3100 - acc: 0.9126 - val_loss: 0.2407 - val_acc: 0.9322\n",
            "Epoch 4/50\n",
            "54000/54000 [==============================] - 3s 49us/step - loss: 0.2806 - acc: 0.9209 - val_loss: 0.2189 - val_acc: 0.9388\n",
            "Epoch 5/50\n",
            "54000/54000 [==============================] - 3s 50us/step - loss: 0.2581 - acc: 0.9260 - val_loss: 0.2050 - val_acc: 0.9437\n",
            "Epoch 6/50\n",
            "54000/54000 [==============================] - 3s 50us/step - loss: 0.2396 - acc: 0.9321 - val_loss: 0.1912 - val_acc: 0.9475\n",
            "Epoch 7/50\n",
            "54000/54000 [==============================] - 3s 50us/step - loss: 0.2233 - acc: 0.9368 - val_loss: 0.1781 - val_acc: 0.9523\n",
            "Epoch 8/50\n",
            "54000/54000 [==============================] - 3s 49us/step - loss: 0.2094 - acc: 0.9407 - val_loss: 0.1696 - val_acc: 0.9542\n",
            "Epoch 9/50\n",
            "54000/54000 [==============================] - 3s 50us/step - loss: 0.1974 - acc: 0.9441 - val_loss: 0.1598 - val_acc: 0.9565\n",
            "Epoch 10/50\n",
            "54000/54000 [==============================] - 3s 49us/step - loss: 0.1868 - acc: 0.9468 - val_loss: 0.1526 - val_acc: 0.9602\n",
            "Epoch 11/50\n",
            "54000/54000 [==============================] - 3s 50us/step - loss: 0.1773 - acc: 0.9495 - val_loss: 0.1472 - val_acc: 0.9608\n",
            "Epoch 12/50\n",
            "54000/54000 [==============================] - 3s 50us/step - loss: 0.1689 - acc: 0.9521 - val_loss: 0.1414 - val_acc: 0.9620\n",
            "Epoch 13/50\n",
            "54000/54000 [==============================] - 3s 50us/step - loss: 0.1611 - acc: 0.9543 - val_loss: 0.1362 - val_acc: 0.9633\n",
            "Epoch 14/50\n",
            "54000/54000 [==============================] - 3s 51us/step - loss: 0.1543 - acc: 0.9563 - val_loss: 0.1326 - val_acc: 0.9638\n",
            "Epoch 15/50\n",
            "54000/54000 [==============================] - 3s 50us/step - loss: 0.1479 - acc: 0.9584 - val_loss: 0.1267 - val_acc: 0.9662\n",
            "Epoch 16/50\n",
            "54000/54000 [==============================] - 3s 50us/step - loss: 0.1420 - acc: 0.9603 - val_loss: 0.1246 - val_acc: 0.9662\n",
            "Epoch 17/50\n",
            "54000/54000 [==============================] - 3s 49us/step - loss: 0.1367 - acc: 0.9613 - val_loss: 0.1205 - val_acc: 0.9685\n",
            "Epoch 18/50\n",
            "54000/54000 [==============================] - 3s 49us/step - loss: 0.1319 - acc: 0.9632 - val_loss: 0.1177 - val_acc: 0.9675\n",
            "Epoch 19/50\n",
            "54000/54000 [==============================] - 3s 52us/step - loss: 0.1274 - acc: 0.9641 - val_loss: 0.1152 - val_acc: 0.9683\n",
            "Epoch 20/50\n",
            "54000/54000 [==============================] - 3s 54us/step - loss: 0.1229 - acc: 0.9657 - val_loss: 0.1117 - val_acc: 0.9700\n",
            "Epoch 21/50\n",
            "54000/54000 [==============================] - 3s 53us/step - loss: 0.1190 - acc: 0.9668 - val_loss: 0.1095 - val_acc: 0.9702\n",
            "Epoch 22/50\n",
            "54000/54000 [==============================] - 3s 54us/step - loss: 0.1153 - acc: 0.9676 - val_loss: 0.1074 - val_acc: 0.9707\n",
            "Epoch 23/50\n",
            "54000/54000 [==============================] - 3s 50us/step - loss: 0.1119 - acc: 0.9689 - val_loss: 0.1055 - val_acc: 0.9720\n",
            "Epoch 24/50\n",
            "54000/54000 [==============================] - 3s 50us/step - loss: 0.1086 - acc: 0.9695 - val_loss: 0.1048 - val_acc: 0.9712\n",
            "Epoch 25/50\n",
            "54000/54000 [==============================] - 3s 50us/step - loss: 0.1054 - acc: 0.9703 - val_loss: 0.1025 - val_acc: 0.9728\n",
            "Epoch 26/50\n",
            "54000/54000 [==============================] - 3s 50us/step - loss: 0.1028 - acc: 0.9714 - val_loss: 0.1008 - val_acc: 0.9728\n",
            "Epoch 27/50\n",
            "54000/54000 [==============================] - 3s 50us/step - loss: 0.0999 - acc: 0.9723 - val_loss: 0.0994 - val_acc: 0.9727\n",
            "Epoch 28/50\n",
            "54000/54000 [==============================] - 3s 50us/step - loss: 0.0973 - acc: 0.9732 - val_loss: 0.0991 - val_acc: 0.9725\n",
            "Epoch 29/50\n",
            "54000/54000 [==============================] - 3s 50us/step - loss: 0.0948 - acc: 0.9736 - val_loss: 0.0973 - val_acc: 0.9735\n",
            "Epoch 30/50\n",
            "54000/54000 [==============================] - 3s 49us/step - loss: 0.0924 - acc: 0.9745 - val_loss: 0.0970 - val_acc: 0.9747\n",
            "Epoch 31/50\n",
            "54000/54000 [==============================] - 3s 51us/step - loss: 0.0902 - acc: 0.9751 - val_loss: 0.0940 - val_acc: 0.9742\n",
            "Epoch 32/50\n",
            "54000/54000 [==============================] - 3s 50us/step - loss: 0.0879 - acc: 0.9758 - val_loss: 0.0953 - val_acc: 0.9747\n",
            "Epoch 33/50\n",
            "54000/54000 [==============================] - 3s 49us/step - loss: 0.0859 - acc: 0.9763 - val_loss: 0.0946 - val_acc: 0.9743\n",
            "Epoch 34/50\n",
            "54000/54000 [==============================] - 3s 49us/step - loss: 0.0841 - acc: 0.9770 - val_loss: 0.0929 - val_acc: 0.9745\n",
            "Epoch 35/50\n",
            "54000/54000 [==============================] - 3s 50us/step - loss: 0.0822 - acc: 0.9775 - val_loss: 0.0923 - val_acc: 0.9753\n",
            "Epoch 36/50\n",
            "54000/54000 [==============================] - 3s 49us/step - loss: 0.0802 - acc: 0.9784 - val_loss: 0.0902 - val_acc: 0.9750\n",
            "Epoch 37/50\n",
            "54000/54000 [==============================] - 3s 50us/step - loss: 0.0786 - acc: 0.9785 - val_loss: 0.0897 - val_acc: 0.9752\n",
            "Epoch 38/50\n",
            "54000/54000 [==============================] - 3s 50us/step - loss: 0.0768 - acc: 0.9789 - val_loss: 0.0892 - val_acc: 0.9753\n",
            "Epoch 39/50\n",
            "54000/54000 [==============================] - 3s 49us/step - loss: 0.0752 - acc: 0.9797 - val_loss: 0.0876 - val_acc: 0.9757\n",
            "Epoch 40/50\n",
            "54000/54000 [==============================] - 3s 50us/step - loss: 0.0736 - acc: 0.9800 - val_loss: 0.0876 - val_acc: 0.9763\n",
            "Epoch 41/50\n",
            "54000/54000 [==============================] - 3s 50us/step - loss: 0.0721 - acc: 0.9805 - val_loss: 0.0869 - val_acc: 0.9760\n",
            "Epoch 42/50\n",
            "54000/54000 [==============================] - 3s 50us/step - loss: 0.0708 - acc: 0.9810 - val_loss: 0.0860 - val_acc: 0.9752\n",
            "Epoch 43/50\n",
            "54000/54000 [==============================] - 3s 50us/step - loss: 0.0695 - acc: 0.9814 - val_loss: 0.0859 - val_acc: 0.9762\n",
            "Epoch 44/50\n",
            "54000/54000 [==============================] - 3s 50us/step - loss: 0.0678 - acc: 0.9821 - val_loss: 0.0874 - val_acc: 0.9762\n",
            "Epoch 45/50\n",
            "54000/54000 [==============================] - 3s 50us/step - loss: 0.0667 - acc: 0.9823 - val_loss: 0.0850 - val_acc: 0.9773\n",
            "Epoch 46/50\n",
            "54000/54000 [==============================] - 3s 50us/step - loss: 0.0656 - acc: 0.9827 - val_loss: 0.0861 - val_acc: 0.9762\n",
            "Epoch 47/50\n",
            "54000/54000 [==============================] - 3s 50us/step - loss: 0.0643 - acc: 0.9832 - val_loss: 0.0849 - val_acc: 0.9775\n",
            "Epoch 48/50\n",
            "54000/54000 [==============================] - 3s 50us/step - loss: 0.0630 - acc: 0.9830 - val_loss: 0.0840 - val_acc: 0.9772\n",
            "Epoch 49/50\n",
            "54000/54000 [==============================] - 3s 50us/step - loss: 0.0619 - acc: 0.9835 - val_loss: 0.0839 - val_acc: 0.9763\n",
            "Epoch 50/50\n",
            "54000/54000 [==============================] - 3s 50us/step - loss: 0.0608 - acc: 0.9838 - val_loss: 0.0826 - val_acc: 0.9767\n"
          ],
          "name": "stdout"
        }
      ]
    },
    {
      "cell_type": "markdown",
      "metadata": {
        "id": "IHK0lZ7kcN0c",
        "colab_type": "text"
      },
      "source": [
        "4.Evaluate the performance\n",
        "\n"
      ]
    },
    {
      "cell_type": "code",
      "metadata": {
        "id": "bOhUrNkmB-gW",
        "colab_type": "code",
        "colab": {
          "base_uri": "https://localhost:8080/",
          "height": 295
        },
        "outputId": "8be96d11-fdd0-4caf-f09a-bb03986f13bc"
      },
      "source": [
        "import matplotlib.pyplot as plot\n",
        "loss, accuracy  = model.evaluate(x_test, y_test, verbose=False)\n",
        "plot.plot(train.history['acc'])\n",
        "plot.plot(train.history['val_acc'])\n",
        "plot.title('model accuracy')\n",
        "plot.ylabel('accuracy')\n",
        "plot.xlabel('epoch')\n",
        "plot.legend(['training', 'validation'], loc='best')\n",
        "plot.show()"
      ],
      "execution_count": 114,
      "outputs": [
        {
          "output_type": "display_data",
          "data": {
            "image/png": "[encoded data removed]",
            "text/plain": [
              "<Figure size 432x288 with 1 Axes>"
            ]
          },
          "metadata": {
            "tags": []
          }
        }
      ]
    },
    {
      "cell_type": "code",
      "metadata": {
        "id": "AeLQ8lAbDTf6",
        "colab_type": "code",
        "colab": {}
      },
      "source": [
        ""
      ],
      "execution_count": 0,
      "outputs": []
    }
  ]
}