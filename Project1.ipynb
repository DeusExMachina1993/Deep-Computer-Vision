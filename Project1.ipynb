{
  "nbformat": 4,
  "nbformat_minor": 0,
  "metadata": {
    "colab": {
      "name": "Project1.ipynb",
      "provenance": [],
      "collapsed_sections": [],
      "include_colab_link": true
    },
    "kernelspec": {
      "name": "python3",
      "display_name": "Python 3"
    }
  },
  "cells": [
    {
      "cell_type": "markdown",
      "metadata": {
        "id": "view-in-github",
        "colab_type": "text"
      },
      "source": [
        "<a href=\"https://colab.research.google.com/github/DeusExMachina1993/Deep-Computer-Vision/blob/master/Project1.ipynb\" target=\"_parent\"><img src=\"https://colab.research.google.com/assets/colab-badge.svg\" alt=\"Open In Colab\"/></a>"
      ]
    },
    {
      "cell_type": "markdown",
      "metadata": {
        "id": "h8QJK1sietQq",
        "colab_type": "text"
      },
      "source": [
        "Project 1:**Multi-layer NN**"
      ]
    },
    {
      "cell_type": "markdown",
      "metadata": {
        "id": "HOlqLTcse6Dn",
        "colab_type": "text"
      },
      "source": [
        "Q.Use MNIST dataset for multi-class classification. Change the following parameters and report recognition accuracy and time on train, test, and validation sets."
      ]
    },
    {
      "cell_type": "markdown",
      "metadata": {
        "id": "D9a3aBlTkP23",
        "colab_type": "text"
      },
      "source": [
        "a- number of hidden layers\n",
        "b- number of neurons per layer\n",
        "c- optimization algorithm\n",
        "d- loss function\n",
        "e- number of epochs\n",
        "f- batch size\n"
      ]
    },
    {
      "cell_type": "markdown",
      "metadata": {
        "id": "KPpz1UosgbCR",
        "colab_type": "text"
      },
      "source": [
        "**Classifying Handwritten Digits with Neural Networks**"
      ]
    },
    {
      "cell_type": "markdown",
      "metadata": {
        "id": "qqHomGFzjt--",
        "colab_type": "text"
      },
      "source": [
        "![img](https://www.tensorflow.org/images/MNIST.png)"
      ]
    },
    {
      "cell_type": "markdown",
      "metadata": {
        "id": "bY90Gy74keJR",
        "colab_type": "text"
      },
      "source": [
        "The process will be broken down into the following steps:\n",
        "\n",
        "1.   Load and visualize the data\n",
        "2.   Define a neural network\n",
        "3.   Train the model\n",
        "4.   Evaluate the performance \n",
        "\n",
        "\n",
        "\n",
        "\n",
        "\n",
        "\n",
        "\n",
        "\n",
        "\n",
        "\n",
        "\n",
        "\n"
      ]
    },
    {
      "cell_type": "markdown",
      "metadata": {
        "id": "xtS_qR5HliOG",
        "colab_type": "text"
      },
      "source": [
        "Load necessary Library\n"
      ]
    },
    {
      "cell_type": "code",
      "metadata": {
        "id": "GGVTXlf2kd1Q",
        "colab_type": "code",
        "colab": {
          "base_uri": "https://localhost:8080/",
          "height": 80
        },
        "outputId": "00d5ce56-9b5a-42b0-8088-b704ddc81914"
      },
      "source": [
        "import numpy as np\n",
        "import os\n",
        "import tempfile\n",
        "\n",
        "import keras\n",
        "from keras import backend as K\n",
        "from keras import layers\n",
        "from keras.datasets import mnist\n",
        "\n",
        "import tensorflow as tf"
      ],
      "execution_count": 1,
      "outputs": [
        {
          "output_type": "stream",
          "text": [
            "Using TensorFlow backend.\n"
          ],
          "name": "stderr"
        },
        {
          "output_type": "display_data",
          "data": {
            "text/html": [
              "<p style=\"color: red;\">\n",
              "The default version of TensorFlow in Colab will soon switch to TensorFlow 2.x.<br>\n",
              "We recommend you <a href=\"https://www.tensorflow.org/guide/migrate\" target=\"_blank\">upgrade</a> now \n",
              "or ensure your notebook will continue to use TensorFlow 1.x via the <code>%tensorflow_version 1.x</code> magic:\n",
              "<a href=\"https://colab.research.google.com/notebooks/tensorflow_version.ipynb\" target=\"_blank\">more info</a>.</p>\n"
            ],
            "text/plain": [
              "<IPython.core.display.HTML object>"
            ]
          },
          "metadata": {
            "tags": []
          }
        }
      ]
    },
    {
      "cell_type": "markdown",
      "metadata": {
        "id": "QMeexpO-e_J0",
        "colab_type": "text"
      },
      "source": [
        "1.Load and visualize the data"
      ]
    },
    {
      "cell_type": "code",
      "metadata": {
        "id": "BP8-qSHBlwxr",
        "colab_type": "code",
        "colab": {
          "base_uri": "https://localhost:8080/",
          "height": 51
        },
        "outputId": "20379f42-84a6-4e3a-9048-464142662657"
      },
      "source": [
        "(x_train, y_train), (x_test, y_test) = mnist.load_data()"
      ],
      "execution_count": 2,
      "outputs": [
        {
          "output_type": "stream",
          "text": [
            "Downloading data from https://s3.amazonaws.com/img-datasets/mnist.npz\n",
            "11493376/11490434 [==============================] - 2s 0us/step\n"
          ],
          "name": "stdout"
        }
      ]
    },
    {
      "cell_type": "markdown",
      "metadata": {
        "id": "UrNjMN5fW2XL",
        "colab_type": "text"
      },
      "source": [
        " flatten the 28x28 pixels into a vector"
      ]
    },
    {
      "cell_type": "code",
      "metadata": {
        "id": "FkXjoF_Al2Jh",
        "colab_type": "code",
        "colab": {}
      },
      "source": [
        "x_train = x_train.reshape(x_train.shape[0], 784)\n",
        "x_test = x_test.reshape(x_test.shape[0], 784)"
      ],
      "execution_count": 0,
      "outputs": []
    },
    {
      "cell_type": "code",
      "metadata": {
        "id": "zTJVZ0VSmOcf",
        "colab_type": "code",
        "colab": {}
      },
      "source": [
        "# normalize pixel values\n",
        "x_train = x_train.astype('float32') / 255\n",
        "x_test = x_test.astype('float32') / 255"
      ],
      "execution_count": 0,
      "outputs": []
    },
    {
      "cell_type": "code",
      "metadata": {
        "id": "wMfRCaL6mxXG",
        "colab_type": "code",
        "colab": {}
      },
      "source": [
        "# one hot encode target values\n",
        "y_train = keras.utils.np_utils.to_categorical(y_train,10)\n",
        "y_test = keras.utils.np_utils.to_categorical(y_test,10)"
      ],
      "execution_count": 0,
      "outputs": []
    },
    {
      "cell_type": "markdown",
      "metadata": {
        "id": "Hhg-dnMPtVSz",
        "colab_type": "text"
      },
      "source": [
        "2.Define a neural network"
      ]
    },
    {
      "cell_type": "markdown",
      "metadata": {
        "id": "YnpnpmF15TYZ",
        "colab_type": "text"
      },
      "source": [
        "Expriement 1:\n",
        "\n",
        "\n",
        "```\n",
        "a- number of hidden layers=1\n",
        "```\n",
        "\n",
        "\n",
        "```\n",
        "b- number of neurons per layer=64\n",
        "```\n",
        "\n",
        "\n",
        "```\n",
        "c- optimization algorithm=SGD\n",
        "```\n",
        "\n",
        "\n",
        "\n",
        "```\n",
        "d- loss function= cross entropy loss function\n",
        "```\n",
        "\n",
        "\n",
        "\n",
        "```\n",
        "e- number of epochs=50\n",
        "```\n",
        "\n",
        "\n",
        "```\n",
        "f- batch size=32\n",
        "```\n",
        "\n",
        "\n",
        "\n",
        "\n",
        "```\n",
        "g- activation function=Relu\n",
        "```\n",
        "\n",
        "\n",
        "\n",
        "\n",
        "\n",
        "\n",
        "\n",
        "\n",
        "\n",
        "\n",
        "\n"
      ]
    },
    {
      "cell_type": "code",
      "metadata": {
        "id": "XBa5mK5Modxr",
        "colab_type": "code",
        "colab": {}
      },
      "source": [
        "from keras.models import Sequential\n",
        "from keras.layers import Dense, Activation"
      ],
      "execution_count": 0,
      "outputs": []
    },
    {
      "cell_type": "code",
      "metadata": {
        "id": "p4wIpOs9vwXX",
        "colab_type": "code",
        "colab": {}
      },
      "source": [
        "def build_model():\n",
        "  model =Sequential([\n",
        "    layers.Dense(units=64,input_shape=(784,), activation=tf.nn.relu),\n",
        "    layers.Dense(units=10, activation=tf.nn.softmax),\n",
        "    \n",
        "  ])\n",
        "  return model"
      ],
      "execution_count": 0,
      "outputs": []
    },
    {
      "cell_type": "code",
      "metadata": {
        "id": "-eAILvZoA87W",
        "colab_type": "code",
        "outputId": "25fb46e1-2dd5-4214-d554-6742c739dc87",
        "colab": {
          "base_uri": "https://localhost:8080/",
          "height": 312
        }
      },
      "source": [
        "from keras.utils.vis_utils import plot_model\n",
        "expriment1=build_model();\n",
        "plot_model(expriment1, to_file='model_plot.png',expand_nested=True,show_shapes=True)\n",
        "\n"
      ],
      "execution_count": 9,
      "outputs": [
        {
          "output_type": "execute_result",
          "data": {
            "image/png": "[encoded data removed]",
            "text/plain": [
              "<IPython.core.display.Image object>"
            ]
          },
          "metadata": {
            "tags": []
          },
          "execution_count": 9
        }
      ]
    },
    {
      "cell_type": "markdown",
      "metadata": {
        "id": "tCqdW6YyA7lN",
        "colab_type": "text"
      },
      "source": [
        "3.Train the model"
      ]
    },
    {
      "cell_type": "code",
      "metadata": {
        "id": "JzbRiwfMBMGK",
        "colab_type": "code",
        "outputId": "9e49e19e-c3d7-4411-f1ec-59278c689006",
        "colab": {
          "base_uri": "https://localhost:8080/",
          "height": 1000
        }
      },
      "source": [
        "# train model\n",
        "expriment1.compile(keras.optimizers.SGD(lr=0.01,momentum=0,decay=0,nesterov=False),loss='categorical_crossentropy', metrics=['accuracy'])\n",
        "expriment1_train = expriment1.fit(\n",
        "    x_train, y_train,\n",
        "    batch_size=32, epochs=50,\n",
        "    validation_split=0.1\n",
        ")"
      ],
      "execution_count": 11,
      "outputs": [
        {
          "output_type": "stream",
          "text": [
            "Train on 54000 samples, validate on 6000 samples\n",
            "Epoch 1/50\n",
            "54000/54000 [==============================] - 3s 56us/step - loss: 0.2195 - acc: 0.9373 - val_loss: 0.1792 - val_acc: 0.9490\n",
            "Epoch 2/50\n",
            "54000/54000 [==============================] - 3s 53us/step - loss: 0.2073 - acc: 0.9403 - val_loss: 0.1701 - val_acc: 0.9550\n",
            "Epoch 3/50\n",
            "54000/54000 [==============================] - 3s 54us/step - loss: 0.1971 - acc: 0.9437 - val_loss: 0.1643 - val_acc: 0.9545\n",
            "Epoch 4/50\n",
            "54000/54000 [==============================] - 3s 54us/step - loss: 0.1875 - acc: 0.9464 - val_loss: 0.1566 - val_acc: 0.9575\n",
            "Epoch 5/50\n",
            "54000/54000 [==============================] - 3s 54us/step - loss: 0.1790 - acc: 0.9483 - val_loss: 0.1505 - val_acc: 0.9592\n",
            "Epoch 6/50\n",
            "54000/54000 [==============================] - 3s 54us/step - loss: 0.1712 - acc: 0.9514 - val_loss: 0.1477 - val_acc: 0.9590\n",
            "Epoch 7/50\n",
            "54000/54000 [==============================] - 3s 55us/step - loss: 0.1645 - acc: 0.9532 - val_loss: 0.1410 - val_acc: 0.9618\n",
            "Epoch 8/50\n",
            "54000/54000 [==============================] - 3s 57us/step - loss: 0.1579 - acc: 0.9548 - val_loss: 0.1384 - val_acc: 0.9630\n",
            "Epoch 9/50\n",
            "54000/54000 [==============================] - 3s 59us/step - loss: 0.1520 - acc: 0.9568 - val_loss: 0.1335 - val_acc: 0.9632\n",
            "Epoch 10/50\n",
            "54000/54000 [==============================] - 3s 59us/step - loss: 0.1466 - acc: 0.9580 - val_loss: 0.1307 - val_acc: 0.9643\n",
            "Epoch 11/50\n",
            "54000/54000 [==============================] - 3s 58us/step - loss: 0.1415 - acc: 0.9601 - val_loss: 0.1272 - val_acc: 0.9648\n",
            "Epoch 12/50\n",
            "54000/54000 [==============================] - 3s 54us/step - loss: 0.1365 - acc: 0.9617 - val_loss: 0.1247 - val_acc: 0.9653\n",
            "Epoch 13/50\n",
            "54000/54000 [==============================] - 3s 54us/step - loss: 0.1322 - acc: 0.9629 - val_loss: 0.1221 - val_acc: 0.9663\n",
            "Epoch 14/50\n",
            "54000/54000 [==============================] - 3s 54us/step - loss: 0.1282 - acc: 0.9639 - val_loss: 0.1193 - val_acc: 0.9667\n",
            "Epoch 15/50\n",
            "54000/54000 [==============================] - 3s 54us/step - loss: 0.1241 - acc: 0.9653 - val_loss: 0.1171 - val_acc: 0.9673\n",
            "Epoch 16/50\n",
            "54000/54000 [==============================] - 3s 54us/step - loss: 0.1205 - acc: 0.9664 - val_loss: 0.1183 - val_acc: 0.9672\n",
            "Epoch 17/50\n",
            "54000/54000 [==============================] - 3s 55us/step - loss: 0.1172 - acc: 0.9669 - val_loss: 0.1124 - val_acc: 0.9680\n",
            "Epoch 18/50\n",
            "54000/54000 [==============================] - 3s 53us/step - loss: 0.1140 - acc: 0.9682 - val_loss: 0.1117 - val_acc: 0.9693\n",
            "Epoch 19/50\n",
            "54000/54000 [==============================] - 3s 54us/step - loss: 0.1109 - acc: 0.9685 - val_loss: 0.1102 - val_acc: 0.9692\n",
            "Epoch 20/50\n",
            "54000/54000 [==============================] - 3s 54us/step - loss: 0.1079 - acc: 0.9699 - val_loss: 0.1088 - val_acc: 0.9717\n",
            "Epoch 21/50\n",
            "54000/54000 [==============================] - 3s 55us/step - loss: 0.1052 - acc: 0.9709 - val_loss: 0.1063 - val_acc: 0.9720\n",
            "Epoch 22/50\n",
            "54000/54000 [==============================] - 3s 53us/step - loss: 0.1027 - acc: 0.9717 - val_loss: 0.1055 - val_acc: 0.9715\n",
            "Epoch 23/50\n",
            "54000/54000 [==============================] - 3s 53us/step - loss: 0.1000 - acc: 0.9725 - val_loss: 0.1040 - val_acc: 0.9717\n",
            "Epoch 24/50\n",
            "54000/54000 [==============================] - 3s 54us/step - loss: 0.0978 - acc: 0.9729 - val_loss: 0.1029 - val_acc: 0.9720\n",
            "Epoch 25/50\n",
            "54000/54000 [==============================] - 3s 54us/step - loss: 0.0954 - acc: 0.9741 - val_loss: 0.1023 - val_acc: 0.9722\n",
            "Epoch 26/50\n",
            "54000/54000 [==============================] - 3s 54us/step - loss: 0.0933 - acc: 0.9744 - val_loss: 0.1012 - val_acc: 0.9733\n",
            "Epoch 27/50\n",
            "54000/54000 [==============================] - 3s 54us/step - loss: 0.0914 - acc: 0.9749 - val_loss: 0.0988 - val_acc: 0.9723\n",
            "Epoch 28/50\n",
            "54000/54000 [==============================] - 3s 53us/step - loss: 0.0892 - acc: 0.9756 - val_loss: 0.0977 - val_acc: 0.9727\n",
            "Epoch 29/50\n",
            "54000/54000 [==============================] - 3s 54us/step - loss: 0.0874 - acc: 0.9758 - val_loss: 0.0971 - val_acc: 0.9733\n",
            "Epoch 30/50\n",
            "54000/54000 [==============================] - 3s 53us/step - loss: 0.0855 - acc: 0.9768 - val_loss: 0.0963 - val_acc: 0.9743\n",
            "Epoch 31/50\n",
            "54000/54000 [==============================] - 3s 53us/step - loss: 0.0837 - acc: 0.9773 - val_loss: 0.0945 - val_acc: 0.9745\n",
            "Epoch 32/50\n",
            "54000/54000 [==============================] - 3s 53us/step - loss: 0.0821 - acc: 0.9780 - val_loss: 0.0938 - val_acc: 0.9737\n",
            "Epoch 33/50\n",
            "54000/54000 [==============================] - 3s 54us/step - loss: 0.0803 - acc: 0.9778 - val_loss: 0.0933 - val_acc: 0.9745\n",
            "Epoch 34/50\n",
            "54000/54000 [==============================] - 3s 54us/step - loss: 0.0786 - acc: 0.9790 - val_loss: 0.0928 - val_acc: 0.9735\n",
            "Epoch 35/50\n",
            "54000/54000 [==============================] - 3s 54us/step - loss: 0.0773 - acc: 0.9794 - val_loss: 0.0922 - val_acc: 0.9735\n",
            "Epoch 36/50\n",
            "54000/54000 [==============================] - 3s 55us/step - loss: 0.0759 - acc: 0.9795 - val_loss: 0.0911 - val_acc: 0.9750\n",
            "Epoch 37/50\n",
            "54000/54000 [==============================] - 3s 54us/step - loss: 0.0744 - acc: 0.9800 - val_loss: 0.0910 - val_acc: 0.9738\n",
            "Epoch 38/50\n",
            "54000/54000 [==============================] - 3s 54us/step - loss: 0.0730 - acc: 0.9806 - val_loss: 0.0908 - val_acc: 0.9747\n",
            "Epoch 39/50\n",
            "54000/54000 [==============================] - 3s 54us/step - loss: 0.0717 - acc: 0.9806 - val_loss: 0.0909 - val_acc: 0.9733\n",
            "Epoch 40/50\n",
            "54000/54000 [==============================] - 3s 53us/step - loss: 0.0705 - acc: 0.9812 - val_loss: 0.0911 - val_acc: 0.9748\n",
            "Epoch 41/50\n",
            "54000/54000 [==============================] - 3s 53us/step - loss: 0.0691 - acc: 0.9816 - val_loss: 0.0888 - val_acc: 0.9757\n",
            "Epoch 42/50\n",
            "54000/54000 [==============================] - 3s 53us/step - loss: 0.0679 - acc: 0.9818 - val_loss: 0.0886 - val_acc: 0.9758\n",
            "Epoch 43/50\n",
            "54000/54000 [==============================] - 3s 54us/step - loss: 0.0668 - acc: 0.9823 - val_loss: 0.0875 - val_acc: 0.9747\n",
            "Epoch 44/50\n",
            "54000/54000 [==============================] - 3s 53us/step - loss: 0.0656 - acc: 0.9823 - val_loss: 0.0889 - val_acc: 0.9753\n",
            "Epoch 45/50\n",
            "54000/54000 [==============================] - 3s 54us/step - loss: 0.0645 - acc: 0.9829 - val_loss: 0.0870 - val_acc: 0.9753\n",
            "Epoch 46/50\n",
            "54000/54000 [==============================] - 3s 53us/step - loss: 0.0634 - acc: 0.9831 - val_loss: 0.0879 - val_acc: 0.9755\n",
            "Epoch 47/50\n",
            "54000/54000 [==============================] - 3s 54us/step - loss: 0.0623 - acc: 0.9839 - val_loss: 0.0865 - val_acc: 0.9767\n",
            "Epoch 48/50\n",
            "54000/54000 [==============================] - 3s 53us/step - loss: 0.0614 - acc: 0.9837 - val_loss: 0.0859 - val_acc: 0.9745\n",
            "Epoch 49/50\n",
            "54000/54000 [==============================] - 3s 53us/step - loss: 0.0604 - acc: 0.9841 - val_loss: 0.0863 - val_acc: 0.9755\n",
            "Epoch 50/50\n",
            "54000/54000 [==============================] - 3s 54us/step - loss: 0.0595 - acc: 0.9844 - val_loss: 0.0890 - val_acc: 0.9755\n"
          ],
          "name": "stdout"
        }
      ]
    },
    {
      "cell_type": "markdown",
      "metadata": {
        "id": "IHK0lZ7kcN0c",
        "colab_type": "text"
      },
      "source": [
        "4.Evaluate the performance\n",
        "\n"
      ]
    },
    {
      "cell_type": "code",
      "metadata": {
        "id": "bOhUrNkmB-gW",
        "colab_type": "code",
        "outputId": "3684acb8-a026-4a9d-d760-f1d25ee800d0",
        "colab": {
          "base_uri": "https://localhost:8080/",
          "height": 295
        }
      },
      "source": [
        "import matplotlib.pyplot as plot\n",
        "loss, accuracy  = expriment1.evaluate(x_test, y_test, verbose=False)\n",
        "plot.plot(expriment1_train.history['acc'])\n",
        "plot.plot(expriment1_train.history['val_acc'])\n",
        "plot.title('model accuracy')\n",
        "plot.ylabel('accuracy')\n",
        "plot.xlabel('epoch')\n",
        "plot.legend(['training', 'validation'], loc='best')\n",
        "plot.show()"
      ],
      "execution_count": 12,
      "outputs": [
        {
          "output_type": "display_data",
          "data": {
            "image/png": "[encoded data removed]",
            "text/plain": [
              "<Figure size 432x288 with 1 Axes>"
            ]
          },
          "metadata": {
            "tags": []
          }
        }
      ]
    },
    {
      "cell_type": "markdown",
      "metadata": {
        "id": "DHwb6SSCfHxc",
        "colab_type": "text"
      },
      "source": [
        "Expriement 2:\n",
        "\n",
        "\n",
        "```\n",
        "a- number of hidden layers=1\n",
        "```\n",
        "\n",
        "\n",
        "```\n",
        "b- number of neurons per layer=64\n",
        "```\n",
        "\n",
        "\n",
        "```\n",
        "c- optimization algorithm=rmsprop\n",
        "```\n",
        "\n",
        "\n",
        "\n",
        "```\n",
        "d- loss function= cross entropy loss function\n",
        "```\n",
        "\n",
        "\n",
        "\n",
        "```\n",
        "e- number of epochs=50\n",
        "```\n",
        "\n",
        "\n",
        "```\n",
        "f- batch size=32\n",
        "```\n",
        "\n",
        "\n",
        "\n",
        "\n",
        "```\n",
        "g- activation function=Relu\n",
        "```\n",
        "\n",
        "\n",
        "\n",
        "\n",
        "\n",
        "\n",
        "\n",
        "\n",
        "\n",
        "\n",
        "\n"
      ]
    },
    {
      "cell_type": "code",
      "metadata": {
        "id": "AjSMLYWP3nQ6",
        "colab_type": "code",
        "colab": {
          "base_uri": "https://localhost:8080/",
          "height": 312
        },
        "outputId": "8e9e2f2b-6b05-4202-f0c2-4cf39e3ca324"
      },
      "source": [
        "from keras.utils.vis_utils import plot_model\n",
        "expriment2=build_model();\n",
        "plot_model(expriment2, to_file='model_plot.png',expand_nested=True,show_shapes=True)"
      ],
      "execution_count": 20,
      "outputs": [
        {
          "output_type": "execute_result",
          "data": {
            "image/png": "[encoded data removed]",
            "text/plain": [
              "<IPython.core.display.Image object>"
            ]
          },
          "metadata": {
            "tags": []
          },
          "execution_count": 20
        }
      ]
    },
    {
      "cell_type": "code",
      "metadata": {
        "id": "6CCK71EHfnz6",
        "colab_type": "code",
        "outputId": "77f9e978-c454-4ad7-809e-90d4d7efed87",
        "colab": {
          "base_uri": "https://localhost:8080/",
          "height": 1000
        }
      },
      "source": [
        "expriment2.compile(keras.optimizers.rmsprop(lr=0.01),loss='categorical_crossentropy', metrics=['accuracy'])\n",
        "expriment2_train = expriment2.fit(\n",
        "    x_train, y_train,\n",
        "    batch_size=32, epochs=50,\n",
        "    validation_split=0.1\n",
        ")"
      ],
      "execution_count": 19,
      "outputs": [
        {
          "output_type": "stream",
          "text": [
            "Train on 54000 samples, validate on 6000 samples\n",
            "Epoch 1/50\n",
            "54000/54000 [==============================] - 3s 64us/step - loss: 0.3151 - acc: 0.9200 - val_loss: 0.2056 - val_acc: 0.9552\n",
            "Epoch 2/50\n",
            "54000/54000 [==============================] - 3s 64us/step - loss: 0.2312 - acc: 0.9553 - val_loss: 0.1973 - val_acc: 0.9637\n",
            "Epoch 3/50\n",
            "54000/54000 [==============================] - 3s 64us/step - loss: 0.2170 - acc: 0.9627 - val_loss: 0.2571 - val_acc: 0.9637\n",
            "Epoch 4/50\n",
            "54000/54000 [==============================] - 4s 66us/step - loss: 0.2107 - acc: 0.9673 - val_loss: 0.2300 - val_acc: 0.9707\n",
            "Epoch 5/50\n",
            "54000/54000 [==============================] - 3s 63us/step - loss: 0.2164 - acc: 0.9702 - val_loss: 0.2895 - val_acc: 0.9672\n",
            "Epoch 6/50\n",
            "54000/54000 [==============================] - 3s 61us/step - loss: 0.2248 - acc: 0.9725 - val_loss: 0.2789 - val_acc: 0.9705\n",
            "Epoch 7/50\n",
            "54000/54000 [==============================] - 3s 61us/step - loss: 0.2155 - acc: 0.9739 - val_loss: 0.3017 - val_acc: 0.9678\n",
            "Epoch 8/50\n",
            "54000/54000 [==============================] - 3s 61us/step - loss: 0.2154 - acc: 0.9752 - val_loss: 0.2969 - val_acc: 0.9685\n",
            "Epoch 9/50\n",
            "54000/54000 [==============================] - 3s 59us/step - loss: 0.2084 - acc: 0.9771 - val_loss: 0.2988 - val_acc: 0.9717\n",
            "Epoch 10/50\n",
            "54000/54000 [==============================] - 3s 60us/step - loss: 0.1993 - acc: 0.9789 - val_loss: 0.2677 - val_acc: 0.9743\n",
            "Epoch 11/50\n",
            "54000/54000 [==============================] - 3s 60us/step - loss: 0.2276 - acc: 0.9774 - val_loss: 0.3682 - val_acc: 0.9662\n",
            "Epoch 12/50\n",
            "54000/54000 [==============================] - 3s 60us/step - loss: 0.2061 - acc: 0.9790 - val_loss: 0.3262 - val_acc: 0.9693\n",
            "Epoch 13/50\n",
            "54000/54000 [==============================] - 3s 60us/step - loss: 0.2093 - acc: 0.9793 - val_loss: 0.2681 - val_acc: 0.9760\n",
            "Epoch 14/50\n",
            "54000/54000 [==============================] - 3s 61us/step - loss: 0.1951 - acc: 0.9808 - val_loss: 0.2842 - val_acc: 0.9745\n",
            "Epoch 15/50\n",
            "54000/54000 [==============================] - 3s 59us/step - loss: 0.1919 - acc: 0.9813 - val_loss: 0.3176 - val_acc: 0.9730\n",
            "Epoch 16/50\n",
            "54000/54000 [==============================] - 3s 60us/step - loss: 0.1930 - acc: 0.9818 - val_loss: 0.3024 - val_acc: 0.9742\n",
            "Epoch 17/50\n",
            "54000/54000 [==============================] - 3s 60us/step - loss: 0.1959 - acc: 0.9815 - val_loss: 0.2835 - val_acc: 0.9753\n",
            "Epoch 18/50\n",
            "54000/54000 [==============================] - 3s 60us/step - loss: 0.1928 - acc: 0.9827 - val_loss: 0.3276 - val_acc: 0.9732\n",
            "Epoch 19/50\n",
            "54000/54000 [==============================] - 3s 58us/step - loss: 0.1951 - acc: 0.9825 - val_loss: 0.3161 - val_acc: 0.9740\n",
            "Epoch 20/50\n",
            "54000/54000 [==============================] - 3s 59us/step - loss: 0.1757 - acc: 0.9839 - val_loss: 0.3165 - val_acc: 0.9752\n",
            "Epoch 21/50\n",
            "54000/54000 [==============================] - 3s 59us/step - loss: 0.2053 - acc: 0.9813 - val_loss: 0.3870 - val_acc: 0.9685\n",
            "Epoch 22/50\n",
            "54000/54000 [==============================] - 3s 60us/step - loss: 0.2083 - acc: 0.9819 - val_loss: 0.3546 - val_acc: 0.9707\n",
            "Epoch 23/50\n",
            "54000/54000 [==============================] - 3s 59us/step - loss: 0.1917 - acc: 0.9831 - val_loss: 0.3085 - val_acc: 0.9755\n",
            "Epoch 24/50\n",
            "54000/54000 [==============================] - 3s 61us/step - loss: 0.1929 - acc: 0.9830 - val_loss: 0.3825 - val_acc: 0.9693\n",
            "Epoch 25/50\n",
            "54000/54000 [==============================] - 3s 60us/step - loss: 0.1841 - acc: 0.9840 - val_loss: 0.3258 - val_acc: 0.9743\n",
            "Epoch 26/50\n",
            "54000/54000 [==============================] - 3s 61us/step - loss: 0.1765 - acc: 0.9846 - val_loss: 0.3355 - val_acc: 0.9737\n",
            "Epoch 27/50\n",
            "54000/54000 [==============================] - 3s 59us/step - loss: 0.1845 - acc: 0.9844 - val_loss: 0.3000 - val_acc: 0.9753\n",
            "Epoch 28/50\n",
            "54000/54000 [==============================] - 3s 59us/step - loss: 0.1806 - acc: 0.9846 - val_loss: 0.3195 - val_acc: 0.9747\n",
            "Epoch 29/50\n",
            "54000/54000 [==============================] - 3s 59us/step - loss: 0.1777 - acc: 0.9850 - val_loss: 0.3597 - val_acc: 0.9738\n",
            "Epoch 30/50\n",
            "54000/54000 [==============================] - 3s 59us/step - loss: 0.1900 - acc: 0.9847 - val_loss: 0.3301 - val_acc: 0.9747\n",
            "Epoch 31/50\n",
            "54000/54000 [==============================] - 3s 60us/step - loss: 0.1939 - acc: 0.9846 - val_loss: 0.3290 - val_acc: 0.9760\n",
            "Epoch 32/50\n",
            "54000/54000 [==============================] - 3s 60us/step - loss: 0.1830 - acc: 0.9849 - val_loss: 0.3553 - val_acc: 0.9745\n",
            "Epoch 33/50\n",
            "54000/54000 [==============================] - 3s 60us/step - loss: 0.1770 - acc: 0.9855 - val_loss: 0.3030 - val_acc: 0.9762\n",
            "Epoch 34/50\n",
            "54000/54000 [==============================] - 3s 60us/step - loss: 0.1867 - acc: 0.9847 - val_loss: 0.3418 - val_acc: 0.9733\n",
            "Epoch 35/50\n",
            "54000/54000 [==============================] - 3s 60us/step - loss: 0.1816 - acc: 0.9853 - val_loss: 0.3308 - val_acc: 0.9755\n",
            "Epoch 36/50\n",
            "54000/54000 [==============================] - 3s 61us/step - loss: 0.1932 - acc: 0.9848 - val_loss: 0.3681 - val_acc: 0.9732\n",
            "Epoch 37/50\n",
            "54000/54000 [==============================] - 3s 61us/step - loss: 0.1785 - acc: 0.9858 - val_loss: 0.3457 - val_acc: 0.9737\n",
            "Epoch 38/50\n",
            "54000/54000 [==============================] - 3s 60us/step - loss: 0.1823 - acc: 0.9853 - val_loss: 0.3150 - val_acc: 0.9765\n",
            "Epoch 39/50\n",
            "54000/54000 [==============================] - 3s 61us/step - loss: 0.1799 - acc: 0.9858 - val_loss: 0.3938 - val_acc: 0.9720\n",
            "Epoch 40/50\n",
            "54000/54000 [==============================] - 3s 61us/step - loss: 0.1847 - acc: 0.9854 - val_loss: 0.4201 - val_acc: 0.9702\n",
            "Epoch 41/50\n",
            "54000/54000 [==============================] - 3s 61us/step - loss: 0.1667 - acc: 0.9865 - val_loss: 0.3081 - val_acc: 0.9775\n",
            "Epoch 42/50\n",
            "54000/54000 [==============================] - 3s 61us/step - loss: 0.1705 - acc: 0.9862 - val_loss: 0.3701 - val_acc: 0.9725\n",
            "Epoch 43/50\n",
            "54000/54000 [==============================] - 3s 60us/step - loss: 0.1663 - acc: 0.9866 - val_loss: 0.3597 - val_acc: 0.9732\n",
            "Epoch 44/50\n",
            "54000/54000 [==============================] - 3s 61us/step - loss: 0.1625 - acc: 0.9871 - val_loss: 0.3786 - val_acc: 0.9718\n",
            "Epoch 45/50\n",
            "54000/54000 [==============================] - 3s 61us/step - loss: 0.1694 - acc: 0.9866 - val_loss: 0.4412 - val_acc: 0.9678\n",
            "Epoch 46/50\n",
            "54000/54000 [==============================] - 3s 60us/step - loss: 0.1721 - acc: 0.9864 - val_loss: 0.3843 - val_acc: 0.9725\n",
            "Epoch 47/50\n",
            "54000/54000 [==============================] - 3s 60us/step - loss: 0.1948 - acc: 0.9848 - val_loss: 0.3484 - val_acc: 0.9762\n",
            "Epoch 48/50\n",
            "54000/54000 [==============================] - 3s 60us/step - loss: 0.1840 - acc: 0.9857 - val_loss: 0.3967 - val_acc: 0.9715\n",
            "Epoch 49/50\n",
            "54000/54000 [==============================] - 3s 62us/step - loss: 0.1735 - acc: 0.9865 - val_loss: 0.3631 - val_acc: 0.9747\n",
            "Epoch 50/50\n",
            "54000/54000 [==============================] - 3s 61us/step - loss: 0.1823 - acc: 0.9863 - val_loss: 0.3118 - val_acc: 0.9768\n"
          ],
          "name": "stdout"
        }
      ]
    },
    {
      "cell_type": "code",
      "metadata": {
        "id": "INLcz35sfziN",
        "colab_type": "code",
        "outputId": "20719986-8ede-4a40-d752-7ba2ef7a653c",
        "colab": {
          "base_uri": "https://localhost:8080/",
          "height": 232
        }
      },
      "source": [
        "import matplotlib.pyplot as plot\n",
        "loss, accuracy  = expriment2.evaluate(x_test, y_test, verbose=False)\n",
        "plot.plot(expriment2_train.history['acc'])\n",
        "plot.plot(expriment2_train.history['val_acc'])\n",
        "plot.title('model accuracy')\n",
        "plot.ylabel('accuracy')\n",
        "plot.xlabel('epoch')\n",
        "plot.legend(['training', 'validation'], loc='best')\n",
        "plot.show()"
      ],
      "execution_count": 15,
      "outputs": [
        {
          "output_type": "error",
          "ename": "NameError",
          "evalue": "ignored",
          "traceback": [
            "\u001b[0;31m---------------------------------------------------------------------------\u001b[0m",
            "\u001b[0;31mNameError\u001b[0m                                 Traceback (most recent call last)",
            "\u001b[0;32m<ipython-input-15-1379a100107f>\u001b[0m in \u001b[0;36m<module>\u001b[0;34m()\u001b[0m\n\u001b[1;32m      1\u001b[0m \u001b[0;32mimport\u001b[0m \u001b[0mmatplotlib\u001b[0m\u001b[0;34m.\u001b[0m\u001b[0mpyplot\u001b[0m \u001b[0;32mas\u001b[0m \u001b[0mplot\u001b[0m\u001b[0;34m\u001b[0m\u001b[0;34m\u001b[0m\u001b[0m\n\u001b[1;32m      2\u001b[0m \u001b[0mloss\u001b[0m\u001b[0;34m,\u001b[0m \u001b[0maccuracy\u001b[0m  \u001b[0;34m=\u001b[0m \u001b[0mexpriment2\u001b[0m\u001b[0;34m.\u001b[0m\u001b[0mevaluate\u001b[0m\u001b[0;34m(\u001b[0m\u001b[0mx_test\u001b[0m\u001b[0;34m,\u001b[0m \u001b[0my_test\u001b[0m\u001b[0;34m,\u001b[0m \u001b[0mverbose\u001b[0m\u001b[0;34m=\u001b[0m\u001b[0;32mFalse\u001b[0m\u001b[0;34m)\u001b[0m\u001b[0;34m\u001b[0m\u001b[0;34m\u001b[0m\u001b[0m\n\u001b[0;32m----> 3\u001b[0;31m \u001b[0mplot\u001b[0m\u001b[0;34m.\u001b[0m\u001b[0mplot\u001b[0m\u001b[0;34m(\u001b[0m\u001b[0mexpriment2_train\u001b[0m\u001b[0;34m.\u001b[0m\u001b[0mhistory\u001b[0m\u001b[0;34m[\u001b[0m\u001b[0;34m'acc'\u001b[0m\u001b[0;34m]\u001b[0m\u001b[0;34m)\u001b[0m\u001b[0;34m\u001b[0m\u001b[0;34m\u001b[0m\u001b[0m\n\u001b[0m\u001b[1;32m      4\u001b[0m \u001b[0mplot\u001b[0m\u001b[0;34m.\u001b[0m\u001b[0mplot\u001b[0m\u001b[0;34m(\u001b[0m\u001b[0mexpriment2_train\u001b[0m\u001b[0;34m.\u001b[0m\u001b[0mhistory\u001b[0m\u001b[0;34m[\u001b[0m\u001b[0;34m'val_acc'\u001b[0m\u001b[0;34m]\u001b[0m\u001b[0;34m)\u001b[0m\u001b[0;34m\u001b[0m\u001b[0;34m\u001b[0m\u001b[0m\n\u001b[1;32m      5\u001b[0m \u001b[0mplot\u001b[0m\u001b[0;34m.\u001b[0m\u001b[0mtitle\u001b[0m\u001b[0;34m(\u001b[0m\u001b[0;34m'model accuracy'\u001b[0m\u001b[0;34m)\u001b[0m\u001b[0;34m\u001b[0m\u001b[0;34m\u001b[0m\u001b[0m\n",
            "\u001b[0;31mNameError\u001b[0m: name 'expriment2_train' is not defined"
          ]
        }
      ]
    },
    {
      "cell_type": "markdown",
      "metadata": {
        "id": "WwqG0Qth9P-U",
        "colab_type": "text"
      },
      "source": [
        "Expriement 3:\n",
        "\n",
        "\n",
        "```\n",
        "a- number of hidden layers=1\n",
        "```\n",
        "\n",
        "\n",
        "```\n",
        "b- number of neurons per layer=64\n",
        "```\n",
        "\n",
        "\n",
        "```\n",
        "c- optimization algorithm=adam\n",
        "```\n",
        "\n",
        "\n",
        "\n",
        "```\n",
        "d- loss function= cross entropy loss function\n",
        "```\n",
        "\n",
        "\n",
        "\n",
        "```\n",
        "e- number of epochs=50\n",
        "```\n",
        "\n",
        "\n",
        "```\n",
        "f- batch size=32\n",
        "```\n",
        "\n",
        "\n",
        "\n",
        "\n",
        "```\n",
        "g- activation function=Relu\n",
        "```\n",
        "\n",
        "\n",
        "\n",
        "\n",
        "\n",
        "\n",
        "\n",
        "\n",
        "\n",
        "\n",
        "\n"
      ]
    },
    {
      "cell_type": "code",
      "metadata": {
        "id": "BpU5s7wy3zZO",
        "colab_type": "code",
        "colab": {
          "base_uri": "https://localhost:8080/",
          "height": 312
        },
        "outputId": "0b0ff68e-a73f-4d70-9b95-ecac723fcee8"
      },
      "source": [
        "from keras.utils.vis_utils import plot_model\n",
        "expriment3=build_model();\n",
        "plot_model(expriment3, to_file='model_plot.png',expand_nested=True,show_shapes=True)"
      ],
      "execution_count": 16,
      "outputs": [
        {
          "output_type": "execute_result",
          "data": {
            "image/png": "[encoded data removed]",
            "text/plain": [
              "<IPython.core.display.Image object>"
            ]
          },
          "metadata": {
            "tags": []
          },
          "execution_count": 16
        }
      ]
    },
    {
      "cell_type": "code",
      "metadata": {
        "id": "vyo7nLOKf2m4",
        "colab_type": "code",
        "outputId": "b0ade03c-1c27-4805-885c-4b9aa3f3e94d",
        "colab": {
          "base_uri": "https://localhost:8080/",
          "height": 1000
        }
      },
      "source": [
        "expriment3.compile(keras.optimizers.adam(lr=0.01),loss='categorical_crossentropy', metrics=['accuracy'])\n",
        "expriment3_train = expriment3.fit(\n",
        "    x_train, y_train,\n",
        "    batch_size=32, epochs=50,\n",
        "    validation_split=0.1\n",
        ")"
      ],
      "execution_count": 17,
      "outputs": [
        {
          "output_type": "stream",
          "text": [
            "Train on 54000 samples, validate on 6000 samples\n",
            "Epoch 1/50\n",
            "54000/54000 [==============================] - 4s 66us/step - loss: 0.2571 - acc: 0.9229 - val_loss: 0.1713 - val_acc: 0.9545\n",
            "Epoch 2/50\n",
            "54000/54000 [==============================] - 3s 62us/step - loss: 0.1701 - acc: 0.9513 - val_loss: 0.1373 - val_acc: 0.9623\n",
            "Epoch 3/50\n",
            "54000/54000 [==============================] - 3s 64us/step - loss: 0.1479 - acc: 0.9586 - val_loss: 0.1303 - val_acc: 0.9620\n",
            "Epoch 4/50\n",
            "54000/54000 [==============================] - 3s 63us/step - loss: 0.1383 - acc: 0.9612 - val_loss: 0.1639 - val_acc: 0.9578\n",
            "Epoch 5/50\n",
            "54000/54000 [==============================] - 3s 61us/step - loss: 0.1274 - acc: 0.9649 - val_loss: 0.1589 - val_acc: 0.9622\n",
            "Epoch 6/50\n",
            "54000/54000 [==============================] - 3s 63us/step - loss: 0.1238 - acc: 0.9679 - val_loss: 0.1726 - val_acc: 0.9603\n",
            "Epoch 7/50\n",
            "54000/54000 [==============================] - 3s 62us/step - loss: 0.1223 - acc: 0.9692 - val_loss: 0.1544 - val_acc: 0.9628\n",
            "Epoch 8/50\n",
            "54000/54000 [==============================] - 3s 61us/step - loss: 0.1139 - acc: 0.9716 - val_loss: 0.1908 - val_acc: 0.9625\n",
            "Epoch 9/50\n",
            "54000/54000 [==============================] - 3s 62us/step - loss: 0.1181 - acc: 0.9724 - val_loss: 0.1565 - val_acc: 0.9687\n",
            "Epoch 10/50\n",
            "54000/54000 [==============================] - 3s 62us/step - loss: 0.1062 - acc: 0.9750 - val_loss: 0.2132 - val_acc: 0.9658\n",
            "Epoch 11/50\n",
            "54000/54000 [==============================] - 3s 63us/step - loss: 0.1111 - acc: 0.9750 - val_loss: 0.1825 - val_acc: 0.9667\n",
            "Epoch 12/50\n",
            "54000/54000 [==============================] - 3s 63us/step - loss: 0.1049 - acc: 0.9765 - val_loss: 0.2190 - val_acc: 0.9645\n",
            "Epoch 13/50\n",
            "54000/54000 [==============================] - 3s 63us/step - loss: 0.1057 - acc: 0.9766 - val_loss: 0.2090 - val_acc: 0.9668\n",
            "Epoch 14/50\n",
            "54000/54000 [==============================] - 3s 63us/step - loss: 0.1038 - acc: 0.9788 - val_loss: 0.2250 - val_acc: 0.9667\n",
            "Epoch 15/50\n",
            "54000/54000 [==============================] - 3s 64us/step - loss: 0.1045 - acc: 0.9790 - val_loss: 0.2543 - val_acc: 0.9642\n",
            "Epoch 16/50\n",
            "54000/54000 [==============================] - 3s 63us/step - loss: 0.1021 - acc: 0.9787 - val_loss: 0.2229 - val_acc: 0.9690\n",
            "Epoch 17/50\n",
            "54000/54000 [==============================] - 3s 62us/step - loss: 0.0954 - acc: 0.9814 - val_loss: 0.2375 - val_acc: 0.9655\n",
            "Epoch 18/50\n",
            "54000/54000 [==============================] - 3s 62us/step - loss: 0.0969 - acc: 0.9811 - val_loss: 0.2094 - val_acc: 0.9680\n",
            "Epoch 19/50\n",
            "54000/54000 [==============================] - 3s 62us/step - loss: 0.0971 - acc: 0.9815 - val_loss: 0.2364 - val_acc: 0.9680\n",
            "Epoch 20/50\n",
            "54000/54000 [==============================] - 3s 62us/step - loss: 0.0959 - acc: 0.9823 - val_loss: 0.2612 - val_acc: 0.9645\n",
            "Epoch 21/50\n",
            "54000/54000 [==============================] - 3s 64us/step - loss: 0.0873 - acc: 0.9831 - val_loss: 0.2568 - val_acc: 0.9685\n",
            "Epoch 22/50\n",
            "54000/54000 [==============================] - 3s 63us/step - loss: 0.0994 - acc: 0.9825 - val_loss: 0.2234 - val_acc: 0.9717\n",
            "Epoch 23/50\n",
            "54000/54000 [==============================] - 3s 62us/step - loss: 0.0914 - acc: 0.9841 - val_loss: 0.2531 - val_acc: 0.9713\n",
            "Epoch 24/50\n",
            "54000/54000 [==============================] - 3s 62us/step - loss: 0.1010 - acc: 0.9830 - val_loss: 0.2678 - val_acc: 0.9703\n",
            "Epoch 25/50\n",
            "54000/54000 [==============================] - 3s 62us/step - loss: 0.0936 - acc: 0.9846 - val_loss: 0.2891 - val_acc: 0.9683\n",
            "Epoch 26/50\n",
            "54000/54000 [==============================] - 3s 62us/step - loss: 0.0924 - acc: 0.9850 - val_loss: 0.2895 - val_acc: 0.9688\n",
            "Epoch 27/50\n",
            "54000/54000 [==============================] - 3s 64us/step - loss: 0.0974 - acc: 0.9852 - val_loss: 0.3062 - val_acc: 0.9650\n",
            "Epoch 28/50\n",
            "54000/54000 [==============================] - 3s 64us/step - loss: 0.0984 - acc: 0.9842 - val_loss: 0.2559 - val_acc: 0.9712\n",
            "Epoch 29/50\n",
            "54000/54000 [==============================] - 3s 64us/step - loss: 0.1012 - acc: 0.9846 - val_loss: 0.2992 - val_acc: 0.9685\n",
            "Epoch 30/50\n",
            "54000/54000 [==============================] - 3s 63us/step - loss: 0.0919 - acc: 0.9859 - val_loss: 0.3053 - val_acc: 0.9667\n",
            "Epoch 31/50\n",
            "54000/54000 [==============================] - 3s 62us/step - loss: 0.1004 - acc: 0.9854 - val_loss: 0.2999 - val_acc: 0.9695\n",
            "Epoch 32/50\n",
            "54000/54000 [==============================] - 3s 63us/step - loss: 0.0954 - acc: 0.9859 - val_loss: 0.2904 - val_acc: 0.9680\n",
            "Epoch 33/50\n",
            "54000/54000 [==============================] - 3s 62us/step - loss: 0.0977 - acc: 0.9864 - val_loss: 0.3007 - val_acc: 0.9697\n",
            "Epoch 34/50\n",
            "54000/54000 [==============================] - 3s 61us/step - loss: 0.0961 - acc: 0.9865 - val_loss: 0.3758 - val_acc: 0.9653\n",
            "Epoch 35/50\n",
            "54000/54000 [==============================] - 3s 63us/step - loss: 0.1142 - acc: 0.9857 - val_loss: 0.3166 - val_acc: 0.9720\n",
            "Epoch 36/50\n",
            "54000/54000 [==============================] - 4s 71us/step - loss: 0.0999 - acc: 0.9867 - val_loss: 0.3024 - val_acc: 0.9708\n",
            "Epoch 37/50\n",
            "54000/54000 [==============================] - 4s 65us/step - loss: 0.1023 - acc: 0.9864 - val_loss: 0.3148 - val_acc: 0.9692\n",
            "Epoch 38/50\n",
            "54000/54000 [==============================] - 3s 62us/step - loss: 0.1021 - acc: 0.9874 - val_loss: 0.3515 - val_acc: 0.9695\n",
            "Epoch 39/50\n",
            "54000/54000 [==============================] - 3s 62us/step - loss: 0.1055 - acc: 0.9875 - val_loss: 0.3316 - val_acc: 0.9687\n",
            "Epoch 40/50\n",
            "54000/54000 [==============================] - 3s 62us/step - loss: 0.0972 - acc: 0.9873 - val_loss: 0.3455 - val_acc: 0.9692\n",
            "Epoch 41/50\n",
            "54000/54000 [==============================] - 3s 61us/step - loss: 0.0974 - acc: 0.9882 - val_loss: 0.3614 - val_acc: 0.9693\n",
            "Epoch 42/50\n",
            "54000/54000 [==============================] - 3s 61us/step - loss: 0.0916 - acc: 0.9889 - val_loss: 0.3237 - val_acc: 0.9703\n",
            "Epoch 43/50\n",
            "54000/54000 [==============================] - 3s 61us/step - loss: 0.0995 - acc: 0.9885 - val_loss: 0.3474 - val_acc: 0.9727\n",
            "Epoch 44/50\n",
            "54000/54000 [==============================] - 3s 61us/step - loss: 0.0954 - acc: 0.9891 - val_loss: 0.3748 - val_acc: 0.9682\n",
            "Epoch 45/50\n",
            "54000/54000 [==============================] - 3s 61us/step - loss: 0.1117 - acc: 0.9879 - val_loss: 0.3709 - val_acc: 0.9702\n",
            "Epoch 46/50\n",
            "54000/54000 [==============================] - 3s 61us/step - loss: 0.1169 - acc: 0.9876 - val_loss: 0.3494 - val_acc: 0.9707\n",
            "Epoch 47/50\n",
            "54000/54000 [==============================] - 3s 62us/step - loss: 0.1124 - acc: 0.9886 - val_loss: 0.3590 - val_acc: 0.9720\n",
            "Epoch 48/50\n",
            "54000/54000 [==============================] - 3s 62us/step - loss: 0.1297 - acc: 0.9872 - val_loss: 0.3511 - val_acc: 0.9708\n",
            "Epoch 49/50\n",
            "54000/54000 [==============================] - 3s 61us/step - loss: 0.1181 - acc: 0.9888 - val_loss: 0.3838 - val_acc: 0.9710\n",
            "Epoch 50/50\n",
            "54000/54000 [==============================] - 3s 62us/step - loss: 0.1025 - acc: 0.9899 - val_loss: 0.3551 - val_acc: 0.9708\n"
          ],
          "name": "stdout"
        }
      ]
    },
    {
      "cell_type": "code",
      "metadata": {
        "id": "EfwrvJ6l9YRF",
        "colab_type": "code",
        "outputId": "ab82c902-c5c5-4ede-8a7d-ebc9c58520b8",
        "colab": {
          "base_uri": "https://localhost:8080/",
          "height": 295
        }
      },
      "source": [
        "import matplotlib.pyplot as plot\n",
        "loss, accuracy  = expriment3.evaluate(x_test, y_test, verbose=False)\n",
        "plot.plot(expriment3_train.history['acc'])\n",
        "plot.plot(expriment3_train.history['val_acc'])\n",
        "plot.title('model accuracy')\n",
        "plot.ylabel('accuracy')\n",
        "plot.xlabel('epoch')\n",
        "plot.legend(['training', 'validation'], loc='best')\n",
        "plot.show()"
      ],
      "execution_count": 18,
      "outputs": [
        {
          "output_type": "display_data",
          "data": {
            "image/png": "[encoded data removed]",
            "text/plain": [
              "<Figure size 432x288 with 1 Axes>"
            ]
          },
          "metadata": {
            "tags": []
          }
        }
      ]
    },
    {
      "cell_type": "markdown",
      "metadata": {
        "id": "-gLnP0MW-MaG",
        "colab_type": "text"
      },
      "source": [
        "Expriement 4:\n",
        "\n",
        "\n",
        "```\n",
        "a- number of hidden layers=1\n",
        "```\n",
        "\n",
        "\n",
        "```\n",
        "b- number of neurons per layer=64\n",
        "```\n",
        "\n",
        "\n",
        "```\n",
        "c- optimization algorithm=SGD\n",
        "```\n",
        "\n",
        "\n",
        "\n",
        "```\n",
        "d- loss function= cross entropy loss function\n",
        "```\n",
        "\n",
        "\n",
        "\n",
        "```\n",
        "e- number of epochs=100\n",
        "```\n",
        "\n",
        "\n",
        "```\n",
        "f- batch size=32\n",
        "```\n",
        "\n",
        "\n",
        "\n",
        "\n",
        "```\n",
        "g- activation function=Relu\n",
        "```\n",
        "\n",
        "\n",
        "\n",
        "\n",
        "\n",
        "\n",
        "\n",
        "\n",
        "\n",
        "\n",
        "\n"
      ]
    },
    {
      "cell_type": "code",
      "metadata": {
        "id": "pZTUKhcp4gfM",
        "colab_type": "code",
        "colab": {
          "base_uri": "https://localhost:8080/",
          "height": 312
        },
        "outputId": "7dc2f668-13d7-4dec-ce4f-9cd6631de401"
      },
      "source": [
        "from keras.utils.vis_utils import plot_model\n",
        "expriment4=build_model();\n",
        "plot_model(expriment4, to_file='model_plot.png',expand_nested=True,show_shapes=True)"
      ],
      "execution_count": 21,
      "outputs": [
        {
          "output_type": "execute_result",
          "data": {
            "image/png": "[encoded data removed]",
            "text/plain": [
              "<IPython.core.display.Image object>"
            ]
          },
          "metadata": {
            "tags": []
          },
          "execution_count": 21
        }
      ]
    },
    {
      "cell_type": "code",
      "metadata": {
        "id": "HsBS66CO-W5G",
        "colab_type": "code",
        "outputId": "c3000583-8fa7-4371-a077-d5ec9b33cf10",
        "colab": {
          "base_uri": "https://localhost:8080/",
          "height": 1000
        }
      },
      "source": [
        "# train model\n",
        "expriment4.compile(keras.optimizers.SGD(lr=0.01,momentum=0,decay=0,nesterov=False),loss='categorical_crossentropy', metrics=['accuracy'])\n",
        "expriment4_train = expriment4.fit(\n",
        "    x_train, y_train,\n",
        "    batch_size=32, epochs=100,\n",
        "    validation_split=0.1\n",
        ")"
      ],
      "execution_count": 22,
      "outputs": [
        {
          "output_type": "stream",
          "text": [
            "Train on 54000 samples, validate on 6000 samples\n",
            "Epoch 1/100\n",
            "54000/54000 [==============================] - 3s 61us/step - loss: 0.7241 - acc: 0.8153 - val_loss: 0.3351 - val_acc: 0.9120\n",
            "Epoch 2/100\n",
            "54000/54000 [==============================] - 3s 56us/step - loss: 0.3641 - acc: 0.8992 - val_loss: 0.2684 - val_acc: 0.9285\n",
            "Epoch 3/100\n",
            "54000/54000 [==============================] - 3s 55us/step - loss: 0.3134 - acc: 0.9107 - val_loss: 0.2404 - val_acc: 0.9358\n",
            "Epoch 4/100\n",
            "54000/54000 [==============================] - 3s 57us/step - loss: 0.2830 - acc: 0.9203 - val_loss: 0.2210 - val_acc: 0.9375\n",
            "Epoch 5/100\n",
            "54000/54000 [==============================] - 3s 55us/step - loss: 0.2603 - acc: 0.9264 - val_loss: 0.2064 - val_acc: 0.9435\n",
            "Epoch 6/100\n",
            "54000/54000 [==============================] - 3s 55us/step - loss: 0.2415 - acc: 0.9319 - val_loss: 0.1908 - val_acc: 0.9487\n",
            "Epoch 7/100\n",
            "54000/54000 [==============================] - 3s 55us/step - loss: 0.2257 - acc: 0.9367 - val_loss: 0.1811 - val_acc: 0.9510\n",
            "Epoch 8/100\n",
            "54000/54000 [==============================] - 3s 55us/step - loss: 0.2123 - acc: 0.9406 - val_loss: 0.1697 - val_acc: 0.9572\n",
            "Epoch 9/100\n",
            "54000/54000 [==============================] - 3s 56us/step - loss: 0.2006 - acc: 0.9441 - val_loss: 0.1612 - val_acc: 0.9573\n",
            "Epoch 10/100\n",
            "54000/54000 [==============================] - 3s 56us/step - loss: 0.1903 - acc: 0.9468 - val_loss: 0.1535 - val_acc: 0.9608\n",
            "Epoch 11/100\n",
            "54000/54000 [==============================] - 3s 57us/step - loss: 0.1811 - acc: 0.9491 - val_loss: 0.1503 - val_acc: 0.9618\n",
            "Epoch 12/100\n",
            "54000/54000 [==============================] - 3s 56us/step - loss: 0.1729 - acc: 0.9515 - val_loss: 0.1430 - val_acc: 0.9640\n",
            "Epoch 13/100\n",
            "54000/54000 [==============================] - 3s 56us/step - loss: 0.1655 - acc: 0.9539 - val_loss: 0.1361 - val_acc: 0.9648\n",
            "Epoch 14/100\n",
            "54000/54000 [==============================] - 3s 56us/step - loss: 0.1587 - acc: 0.9554 - val_loss: 0.1317 - val_acc: 0.9655\n",
            "Epoch 15/100\n",
            "54000/54000 [==============================] - 3s 56us/step - loss: 0.1523 - acc: 0.9574 - val_loss: 0.1280 - val_acc: 0.9662\n",
            "Epoch 16/100\n",
            "54000/54000 [==============================] - 3s 55us/step - loss: 0.1464 - acc: 0.9593 - val_loss: 0.1248 - val_acc: 0.9668\n",
            "Epoch 17/100\n",
            "54000/54000 [==============================] - 3s 57us/step - loss: 0.1411 - acc: 0.9607 - val_loss: 0.1208 - val_acc: 0.9688\n",
            "Epoch 18/100\n",
            "54000/54000 [==============================] - 3s 56us/step - loss: 0.1363 - acc: 0.9618 - val_loss: 0.1180 - val_acc: 0.9703\n",
            "Epoch 19/100\n",
            "54000/54000 [==============================] - 3s 56us/step - loss: 0.1314 - acc: 0.9634 - val_loss: 0.1147 - val_acc: 0.9698\n",
            "Epoch 20/100\n",
            "54000/54000 [==============================] - 3s 56us/step - loss: 0.1271 - acc: 0.9642 - val_loss: 0.1111 - val_acc: 0.9712\n",
            "Epoch 21/100\n",
            "54000/54000 [==============================] - 3s 55us/step - loss: 0.1230 - acc: 0.9653 - val_loss: 0.1095 - val_acc: 0.9723\n",
            "Epoch 22/100\n",
            "54000/54000 [==============================] - 3s 56us/step - loss: 0.1193 - acc: 0.9666 - val_loss: 0.1078 - val_acc: 0.9713\n",
            "Epoch 23/100\n",
            "54000/54000 [==============================] - 3s 56us/step - loss: 0.1156 - acc: 0.9676 - val_loss: 0.1056 - val_acc: 0.9727\n",
            "Epoch 24/100\n",
            "54000/54000 [==============================] - 3s 55us/step - loss: 0.1121 - acc: 0.9687 - val_loss: 0.1056 - val_acc: 0.9712\n",
            "Epoch 25/100\n",
            "54000/54000 [==============================] - 3s 56us/step - loss: 0.1089 - acc: 0.9698 - val_loss: 0.1021 - val_acc: 0.9723\n",
            "Epoch 26/100\n",
            "54000/54000 [==============================] - 3s 55us/step - loss: 0.1057 - acc: 0.9703 - val_loss: 0.1019 - val_acc: 0.9737\n",
            "Epoch 27/100\n",
            "54000/54000 [==============================] - 3s 57us/step - loss: 0.1028 - acc: 0.9714 - val_loss: 0.0985 - val_acc: 0.9732\n",
            "Epoch 28/100\n",
            "54000/54000 [==============================] - 3s 56us/step - loss: 0.1001 - acc: 0.9719 - val_loss: 0.0969 - val_acc: 0.9745\n",
            "Epoch 29/100\n",
            "54000/54000 [==============================] - 4s 65us/step - loss: 0.0975 - acc: 0.9731 - val_loss: 0.0968 - val_acc: 0.9737\n",
            "Epoch 30/100\n",
            "54000/54000 [==============================] - 3s 63us/step - loss: 0.0950 - acc: 0.9738 - val_loss: 0.0952 - val_acc: 0.9760\n",
            "Epoch 31/100\n",
            "54000/54000 [==============================] - 3s 56us/step - loss: 0.0927 - acc: 0.9739 - val_loss: 0.0939 - val_acc: 0.9753\n",
            "Epoch 32/100\n",
            "54000/54000 [==============================] - 3s 56us/step - loss: 0.0904 - acc: 0.9749 - val_loss: 0.0938 - val_acc: 0.9753\n",
            "Epoch 33/100\n",
            "54000/54000 [==============================] - 3s 55us/step - loss: 0.0883 - acc: 0.9753 - val_loss: 0.0911 - val_acc: 0.9758\n",
            "Epoch 34/100\n",
            "54000/54000 [==============================] - 3s 56us/step - loss: 0.0860 - acc: 0.9763 - val_loss: 0.0909 - val_acc: 0.9763\n",
            "Epoch 35/100\n",
            "54000/54000 [==============================] - 3s 56us/step - loss: 0.0841 - acc: 0.9769 - val_loss: 0.0900 - val_acc: 0.9757\n",
            "Epoch 36/100\n",
            "54000/54000 [==============================] - 3s 55us/step - loss: 0.0822 - acc: 0.9773 - val_loss: 0.0884 - val_acc: 0.9767\n",
            "Epoch 37/100\n",
            "54000/54000 [==============================] - 3s 56us/step - loss: 0.0802 - acc: 0.9779 - val_loss: 0.0880 - val_acc: 0.9758\n",
            "Epoch 38/100\n",
            "54000/54000 [==============================] - 3s 56us/step - loss: 0.0786 - acc: 0.9781 - val_loss: 0.0885 - val_acc: 0.9765\n",
            "Epoch 39/100\n",
            "54000/54000 [==============================] - 3s 56us/step - loss: 0.0769 - acc: 0.9791 - val_loss: 0.0866 - val_acc: 0.9765\n",
            "Epoch 40/100\n",
            "54000/54000 [==============================] - 3s 56us/step - loss: 0.0751 - acc: 0.9791 - val_loss: 0.0849 - val_acc: 0.9768\n",
            "Epoch 41/100\n",
            "54000/54000 [==============================] - 3s 55us/step - loss: 0.0737 - acc: 0.9799 - val_loss: 0.0853 - val_acc: 0.9768\n",
            "Epoch 42/100\n",
            "54000/54000 [==============================] - 3s 55us/step - loss: 0.0721 - acc: 0.9805 - val_loss: 0.0845 - val_acc: 0.9773\n",
            "Epoch 43/100\n",
            "54000/54000 [==============================] - 3s 56us/step - loss: 0.0707 - acc: 0.9807 - val_loss: 0.0837 - val_acc: 0.9767\n",
            "Epoch 44/100\n",
            "54000/54000 [==============================] - 3s 56us/step - loss: 0.0692 - acc: 0.9813 - val_loss: 0.0832 - val_acc: 0.9768\n",
            "Epoch 45/100\n",
            "54000/54000 [==============================] - 3s 55us/step - loss: 0.0678 - acc: 0.9818 - val_loss: 0.0834 - val_acc: 0.9770\n",
            "Epoch 46/100\n",
            "54000/54000 [==============================] - 3s 54us/step - loss: 0.0665 - acc: 0.9820 - val_loss: 0.0832 - val_acc: 0.9773\n",
            "Epoch 47/100\n",
            "54000/54000 [==============================] - 3s 56us/step - loss: 0.0651 - acc: 0.9823 - val_loss: 0.0822 - val_acc: 0.9777\n",
            "Epoch 48/100\n",
            "54000/54000 [==============================] - 3s 55us/step - loss: 0.0639 - acc: 0.9827 - val_loss: 0.0810 - val_acc: 0.9775\n",
            "Epoch 49/100\n",
            "54000/54000 [==============================] - 3s 58us/step - loss: 0.0628 - acc: 0.9828 - val_loss: 0.0806 - val_acc: 0.9778\n",
            "Epoch 50/100\n",
            "54000/54000 [==============================] - 3s 63us/step - loss: 0.0615 - acc: 0.9831 - val_loss: 0.0810 - val_acc: 0.9778\n",
            "Epoch 51/100\n",
            "54000/54000 [==============================] - 3s 61us/step - loss: 0.0605 - acc: 0.9838 - val_loss: 0.0804 - val_acc: 0.9775\n",
            "Epoch 52/100\n",
            "54000/54000 [==============================] - 3s 61us/step - loss: 0.0593 - acc: 0.9837 - val_loss: 0.0798 - val_acc: 0.9777\n",
            "Epoch 53/100\n",
            "54000/54000 [==============================] - 3s 55us/step - loss: 0.0582 - acc: 0.9844 - val_loss: 0.0777 - val_acc: 0.9787\n",
            "Epoch 54/100\n",
            "54000/54000 [==============================] - 3s 55us/step - loss: 0.0572 - acc: 0.9848 - val_loss: 0.0793 - val_acc: 0.9773\n",
            "Epoch 55/100\n",
            "54000/54000 [==============================] - 3s 55us/step - loss: 0.0563 - acc: 0.9848 - val_loss: 0.0784 - val_acc: 0.9780\n",
            "Epoch 56/100\n",
            "54000/54000 [==============================] - 3s 55us/step - loss: 0.0551 - acc: 0.9851 - val_loss: 0.0780 - val_acc: 0.9790\n",
            "Epoch 57/100\n",
            "54000/54000 [==============================] - 3s 55us/step - loss: 0.0542 - acc: 0.9851 - val_loss: 0.0774 - val_acc: 0.9785\n",
            "Epoch 58/100\n",
            "54000/54000 [==============================] - 3s 56us/step - loss: 0.0532 - acc: 0.9859 - val_loss: 0.0781 - val_acc: 0.9790\n",
            "Epoch 59/100\n",
            "54000/54000 [==============================] - 3s 55us/step - loss: 0.0524 - acc: 0.9860 - val_loss: 0.0771 - val_acc: 0.9790\n",
            "Epoch 60/100\n",
            "54000/54000 [==============================] - 3s 55us/step - loss: 0.0515 - acc: 0.9862 - val_loss: 0.0774 - val_acc: 0.9797\n",
            "Epoch 61/100\n",
            "54000/54000 [==============================] - 3s 55us/step - loss: 0.0506 - acc: 0.9866 - val_loss: 0.0767 - val_acc: 0.9793\n",
            "Epoch 62/100\n",
            "54000/54000 [==============================] - 3s 55us/step - loss: 0.0498 - acc: 0.9867 - val_loss: 0.0763 - val_acc: 0.9800\n",
            "Epoch 63/100\n",
            "54000/54000 [==============================] - 3s 55us/step - loss: 0.0489 - acc: 0.9873 - val_loss: 0.0763 - val_acc: 0.9787\n",
            "Epoch 64/100\n",
            "54000/54000 [==============================] - 3s 54us/step - loss: 0.0480 - acc: 0.9872 - val_loss: 0.0777 - val_acc: 0.9782\n",
            "Epoch 65/100\n",
            "54000/54000 [==============================] - 3s 55us/step - loss: 0.0473 - acc: 0.9874 - val_loss: 0.0759 - val_acc: 0.9795\n",
            "Epoch 66/100\n",
            "54000/54000 [==============================] - 3s 55us/step - loss: 0.0465 - acc: 0.9878 - val_loss: 0.0761 - val_acc: 0.9783\n",
            "Epoch 67/100\n",
            "54000/54000 [==============================] - 3s 55us/step - loss: 0.0459 - acc: 0.9879 - val_loss: 0.0746 - val_acc: 0.9790\n",
            "Epoch 68/100\n",
            "54000/54000 [==============================] - 3s 55us/step - loss: 0.0452 - acc: 0.9883 - val_loss: 0.0749 - val_acc: 0.9788\n",
            "Epoch 69/100\n",
            "54000/54000 [==============================] - 3s 55us/step - loss: 0.0444 - acc: 0.9886 - val_loss: 0.0747 - val_acc: 0.9792\n",
            "Epoch 70/100\n",
            "54000/54000 [==============================] - 3s 56us/step - loss: 0.0438 - acc: 0.9885 - val_loss: 0.0763 - val_acc: 0.9792\n",
            "Epoch 71/100\n",
            "54000/54000 [==============================] - 3s 55us/step - loss: 0.0431 - acc: 0.9889 - val_loss: 0.0748 - val_acc: 0.9792\n",
            "Epoch 72/100\n",
            "54000/54000 [==============================] - 3s 56us/step - loss: 0.0424 - acc: 0.9894 - val_loss: 0.0735 - val_acc: 0.9793\n",
            "Epoch 73/100\n",
            "54000/54000 [==============================] - 3s 55us/step - loss: 0.0418 - acc: 0.9891 - val_loss: 0.0739 - val_acc: 0.9795\n",
            "Epoch 74/100\n",
            "54000/54000 [==============================] - 3s 55us/step - loss: 0.0410 - acc: 0.9896 - val_loss: 0.0738 - val_acc: 0.9797\n",
            "Epoch 75/100\n",
            "54000/54000 [==============================] - 3s 56us/step - loss: 0.0405 - acc: 0.9901 - val_loss: 0.0739 - val_acc: 0.9793\n",
            "Epoch 76/100\n",
            "54000/54000 [==============================] - 3s 55us/step - loss: 0.0398 - acc: 0.9902 - val_loss: 0.0739 - val_acc: 0.9793\n",
            "Epoch 77/100\n",
            "54000/54000 [==============================] - 3s 55us/step - loss: 0.0393 - acc: 0.9901 - val_loss: 0.0737 - val_acc: 0.9787\n",
            "Epoch 78/100\n",
            "54000/54000 [==============================] - 3s 54us/step - loss: 0.0387 - acc: 0.9903 - val_loss: 0.0732 - val_acc: 0.9788\n",
            "Epoch 79/100\n",
            "54000/54000 [==============================] - 3s 56us/step - loss: 0.0382 - acc: 0.9904 - val_loss: 0.0725 - val_acc: 0.9792\n",
            "Epoch 80/100\n",
            "54000/54000 [==============================] - 3s 56us/step - loss: 0.0375 - acc: 0.9909 - val_loss: 0.0733 - val_acc: 0.9788\n",
            "Epoch 81/100\n",
            "54000/54000 [==============================] - 3s 56us/step - loss: 0.0370 - acc: 0.9910 - val_loss: 0.0729 - val_acc: 0.9798\n",
            "Epoch 82/100\n",
            "54000/54000 [==============================] - 3s 56us/step - loss: 0.0364 - acc: 0.9910 - val_loss: 0.0739 - val_acc: 0.9797\n",
            "Epoch 83/100\n",
            "54000/54000 [==============================] - 3s 55us/step - loss: 0.0360 - acc: 0.9910 - val_loss: 0.0735 - val_acc: 0.9790\n",
            "Epoch 84/100\n",
            "54000/54000 [==============================] - 3s 55us/step - loss: 0.0355 - acc: 0.9914 - val_loss: 0.0737 - val_acc: 0.9800\n",
            "Epoch 85/100\n",
            "54000/54000 [==============================] - 3s 54us/step - loss: 0.0350 - acc: 0.9917 - val_loss: 0.0726 - val_acc: 0.9793\n",
            "Epoch 86/100\n",
            "54000/54000 [==============================] - 3s 55us/step - loss: 0.0345 - acc: 0.9916 - val_loss: 0.0725 - val_acc: 0.9792\n",
            "Epoch 87/100\n",
            "54000/54000 [==============================] - 3s 55us/step - loss: 0.0340 - acc: 0.9920 - val_loss: 0.0725 - val_acc: 0.9797\n",
            "Epoch 88/100\n",
            "54000/54000 [==============================] - 3s 55us/step - loss: 0.0336 - acc: 0.9920 - val_loss: 0.0726 - val_acc: 0.9792\n",
            "Epoch 89/100\n",
            "54000/54000 [==============================] - 3s 56us/step - loss: 0.0332 - acc: 0.9924 - val_loss: 0.0721 - val_acc: 0.9795\n",
            "Epoch 90/100\n",
            "54000/54000 [==============================] - 3s 55us/step - loss: 0.0327 - acc: 0.9926 - val_loss: 0.0723 - val_acc: 0.9798\n",
            "Epoch 91/100\n",
            "54000/54000 [==============================] - 3s 55us/step - loss: 0.0321 - acc: 0.9928 - val_loss: 0.0734 - val_acc: 0.9797\n",
            "Epoch 92/100\n",
            "54000/54000 [==============================] - 3s 55us/step - loss: 0.0318 - acc: 0.9931 - val_loss: 0.0721 - val_acc: 0.9798\n",
            "Epoch 93/100\n",
            "54000/54000 [==============================] - 3s 56us/step - loss: 0.0314 - acc: 0.9932 - val_loss: 0.0721 - val_acc: 0.9797\n",
            "Epoch 94/100\n",
            "54000/54000 [==============================] - 3s 54us/step - loss: 0.0310 - acc: 0.9928 - val_loss: 0.0724 - val_acc: 0.9800\n",
            "Epoch 95/100\n",
            "54000/54000 [==============================] - 3s 55us/step - loss: 0.0305 - acc: 0.9934 - val_loss: 0.0734 - val_acc: 0.9800\n",
            "Epoch 96/100\n",
            "54000/54000 [==============================] - 3s 55us/step - loss: 0.0302 - acc: 0.9935 - val_loss: 0.0724 - val_acc: 0.9797\n",
            "Epoch 97/100\n",
            "54000/54000 [==============================] - 3s 57us/step - loss: 0.0297 - acc: 0.9936 - val_loss: 0.0724 - val_acc: 0.9803\n",
            "Epoch 98/100\n",
            "54000/54000 [==============================] - 3s 55us/step - loss: 0.0293 - acc: 0.9936 - val_loss: 0.0713 - val_acc: 0.9797\n",
            "Epoch 99/100\n",
            "54000/54000 [==============================] - 3s 55us/step - loss: 0.0290 - acc: 0.9938 - val_loss: 0.0713 - val_acc: 0.9793\n",
            "Epoch 100/100\n",
            "54000/54000 [==============================] - 3s 56us/step - loss: 0.0286 - acc: 0.9940 - val_loss: 0.0720 - val_acc: 0.9802\n"
          ],
          "name": "stdout"
        }
      ]
    },
    {
      "cell_type": "code",
      "metadata": {
        "id": "P0w892Vj-fQL",
        "colab_type": "code",
        "outputId": "6f9ec529-4b2e-4e02-c331-c6b56ad5bd3b",
        "colab": {
          "base_uri": "https://localhost:8080/",
          "height": 295
        }
      },
      "source": [
        "import matplotlib.pyplot as plot\n",
        "loss, accuracy  = expriment4.evaluate(x_test, y_test, verbose=False)\n",
        "plot.plot(expriment4_train.history['acc'])\n",
        "plot.plot(expriment4_train.history['val_acc'])\n",
        "plot.title('model accuracy')\n",
        "plot.ylabel('accuracy')\n",
        "plot.xlabel('epoch')\n",
        "plot.legend(['training', 'validation'], loc='best')\n",
        "plot.show()"
      ],
      "execution_count": 23,
      "outputs": [
        {
          "output_type": "display_data",
          "data": {
            "image/png": "[encoded data removed]",
            "text/plain": [
              "<Figure size 432x288 with 1 Axes>"
            ]
          },
          "metadata": {
            "tags": []
          }
        }
      ]
    },
    {
      "cell_type": "markdown",
      "metadata": {
        "id": "HU58RFH8_unC",
        "colab_type": "text"
      },
      "source": [
        "Expriement 5:\n",
        "\n",
        "\n",
        "```\n",
        "a- number of hidden layers=1\n",
        "```\n",
        "\n",
        "\n",
        "```\n",
        "b- number of neurons per layer=64\n",
        "```\n",
        "\n",
        "\n",
        "```\n",
        "c- optimization algorithm=rmsprop\n",
        "```\n",
        "\n",
        "\n",
        "\n",
        "```\n",
        "d- loss function= cross entropy loss function\n",
        "```\n",
        "\n",
        "\n",
        "\n",
        "```\n",
        "e- number of epochs=100\n",
        "```\n",
        "\n",
        "\n",
        "```\n",
        "f- batch size=32\n",
        "```\n",
        "\n",
        "\n",
        "\n",
        "\n",
        "```\n",
        "g- activation function=Relu\n",
        "```\n",
        "\n",
        "\n",
        "\n",
        "\n",
        "\n",
        "\n",
        "\n",
        "\n",
        "\n",
        "\n",
        "\n"
      ]
    },
    {
      "cell_type": "code",
      "metadata": {
        "id": "qMAgvA514tHk",
        "colab_type": "code",
        "colab": {
          "base_uri": "https://localhost:8080/",
          "height": 312
        },
        "outputId": "eb35e718-c181-4452-d807-7cb4d6586eee"
      },
      "source": [
        "from keras.utils.vis_utils import plot_model\n",
        "expriment5=build_model();\n",
        "plot_model(expriment5, to_file='model_plot.png',expand_nested=True,show_shapes=True)"
      ],
      "execution_count": 24,
      "outputs": [
        {
          "output_type": "execute_result",
          "data": {
            "image/png": "[encoded data removed]",
            "text/plain": [
              "<IPython.core.display.Image object>"
            ]
          },
          "metadata": {
            "tags": []
          },
          "execution_count": 24
        }
      ]
    },
    {
      "cell_type": "code",
      "metadata": {
        "id": "tCcWBXNK__jG",
        "colab_type": "code",
        "outputId": "3e3230df-233d-42be-ac21-1a295d0d2e82",
        "colab": {
          "base_uri": "https://localhost:8080/",
          "height": 1000
        }
      },
      "source": [
        "expriment5.compile(keras.optimizers.rmsprop(lr=0.01),loss='categorical_crossentropy', metrics=['accuracy'])\n",
        "expriment5_train = expriment5.fit(\n",
        "    x_train, y_train,\n",
        "    batch_size=32, epochs=100,\n",
        "    validation_split=0.1\n",
        ")"
      ],
      "execution_count": 25,
      "outputs": [
        {
          "output_type": "stream",
          "text": [
            "Train on 54000 samples, validate on 6000 samples\n",
            "Epoch 1/100\n",
            "54000/54000 [==============================] - 4s 68us/step - loss: 0.3259 - acc: 0.9157 - val_loss: 0.2289 - val_acc: 0.9475\n",
            "Epoch 2/100\n",
            "54000/54000 [==============================] - 3s 61us/step - loss: 0.2451 - acc: 0.9521 - val_loss: 0.2542 - val_acc: 0.9585\n",
            "Epoch 3/100\n",
            "54000/54000 [==============================] - 3s 59us/step - loss: 0.2466 - acc: 0.9595 - val_loss: 0.2209 - val_acc: 0.9687\n",
            "Epoch 4/100\n",
            "54000/54000 [==============================] - 3s 61us/step - loss: 0.2478 - acc: 0.9636 - val_loss: 0.2755 - val_acc: 0.9623\n",
            "Epoch 5/100\n",
            "54000/54000 [==============================] - 3s 61us/step - loss: 0.2342 - acc: 0.9686 - val_loss: 0.2965 - val_acc: 0.9660\n",
            "Epoch 6/100\n",
            "54000/54000 [==============================] - 3s 61us/step - loss: 0.2426 - acc: 0.9700 - val_loss: 0.2403 - val_acc: 0.9700\n",
            "Epoch 7/100\n",
            "54000/54000 [==============================] - 3s 63us/step - loss: 0.2286 - acc: 0.9715 - val_loss: 0.2629 - val_acc: 0.9710\n",
            "Epoch 8/100\n",
            "54000/54000 [==============================] - 3s 62us/step - loss: 0.2297 - acc: 0.9729 - val_loss: 0.3015 - val_acc: 0.9672\n",
            "Epoch 9/100\n",
            "54000/54000 [==============================] - 3s 61us/step - loss: 0.2204 - acc: 0.9752 - val_loss: 0.2680 - val_acc: 0.9742\n",
            "Epoch 10/100\n",
            "54000/54000 [==============================] - 3s 60us/step - loss: 0.2090 - acc: 0.9777 - val_loss: 0.3414 - val_acc: 0.9680\n",
            "Epoch 11/100\n",
            "54000/54000 [==============================] - 3s 61us/step - loss: 0.2167 - acc: 0.9771 - val_loss: 0.3024 - val_acc: 0.9720\n",
            "Epoch 12/100\n",
            "54000/54000 [==============================] - 3s 60us/step - loss: 0.2152 - acc: 0.9777 - val_loss: 0.3564 - val_acc: 0.9678\n",
            "Epoch 13/100\n",
            "54000/54000 [==============================] - 3s 61us/step - loss: 0.2053 - acc: 0.9795 - val_loss: 0.3512 - val_acc: 0.9698\n",
            "Epoch 14/100\n",
            "54000/54000 [==============================] - 3s 61us/step - loss: 0.2090 - acc: 0.9794 - val_loss: 0.2897 - val_acc: 0.9738\n",
            "Epoch 15/100\n",
            "54000/54000 [==============================] - 3s 62us/step - loss: 0.2028 - acc: 0.9804 - val_loss: 0.3023 - val_acc: 0.9732\n",
            "Epoch 16/100\n",
            "54000/54000 [==============================] - 3s 61us/step - loss: 0.2026 - acc: 0.9805 - val_loss: 0.3312 - val_acc: 0.9723\n",
            "Epoch 17/100\n",
            "54000/54000 [==============================] - 3s 61us/step - loss: 0.2031 - acc: 0.9810 - val_loss: 0.3039 - val_acc: 0.9735\n",
            "Epoch 18/100\n",
            "54000/54000 [==============================] - 3s 62us/step - loss: 0.1905 - acc: 0.9825 - val_loss: 0.2884 - val_acc: 0.9765\n",
            "Epoch 19/100\n",
            "54000/54000 [==============================] - 3s 61us/step - loss: 0.1930 - acc: 0.9824 - val_loss: 0.3202 - val_acc: 0.9738\n",
            "Epoch 20/100\n",
            "54000/54000 [==============================] - 3s 62us/step - loss: 0.1990 - acc: 0.9821 - val_loss: 0.3726 - val_acc: 0.9685\n",
            "Epoch 21/100\n",
            "54000/54000 [==============================] - 3s 60us/step - loss: 0.1856 - acc: 0.9831 - val_loss: 0.2891 - val_acc: 0.9742\n",
            "Epoch 22/100\n",
            "54000/54000 [==============================] - 3s 60us/step - loss: 0.1948 - acc: 0.9832 - val_loss: 0.4135 - val_acc: 0.9642\n",
            "Epoch 23/100\n",
            "54000/54000 [==============================] - 3s 60us/step - loss: 0.1827 - acc: 0.9836 - val_loss: 0.3208 - val_acc: 0.9742\n",
            "Epoch 24/100\n",
            "54000/54000 [==============================] - 3s 62us/step - loss: 0.1943 - acc: 0.9829 - val_loss: 0.3479 - val_acc: 0.9720\n",
            "Epoch 25/100\n",
            "54000/54000 [==============================] - 3s 61us/step - loss: 0.1835 - acc: 0.9842 - val_loss: 0.3527 - val_acc: 0.9712\n",
            "Epoch 26/100\n",
            "54000/54000 [==============================] - 3s 62us/step - loss: 0.1832 - acc: 0.9844 - val_loss: 0.3056 - val_acc: 0.9757\n",
            "Epoch 27/100\n",
            "54000/54000 [==============================] - 4s 68us/step - loss: 0.1873 - acc: 0.9841 - val_loss: 0.3347 - val_acc: 0.9740\n",
            "Epoch 28/100\n",
            "54000/54000 [==============================] - 4s 65us/step - loss: 0.1854 - acc: 0.9841 - val_loss: 0.3550 - val_acc: 0.9713\n",
            "Epoch 29/100\n",
            "54000/54000 [==============================] - 3s 60us/step - loss: 0.1845 - acc: 0.9841 - val_loss: 0.3395 - val_acc: 0.9742\n",
            "Epoch 30/100\n",
            "54000/54000 [==============================] - 3s 60us/step - loss: 0.1843 - acc: 0.9844 - val_loss: 0.3477 - val_acc: 0.9725\n",
            "Epoch 31/100\n",
            "54000/54000 [==============================] - 3s 61us/step - loss: 0.1782 - acc: 0.9850 - val_loss: 0.3929 - val_acc: 0.9692\n",
            "Epoch 32/100\n",
            "54000/54000 [==============================] - 3s 61us/step - loss: 0.1898 - acc: 0.9845 - val_loss: 0.3569 - val_acc: 0.9720\n",
            "Epoch 33/100\n",
            "54000/54000 [==============================] - 3s 61us/step - loss: 0.1899 - acc: 0.9846 - val_loss: 0.3206 - val_acc: 0.9753\n",
            "Epoch 34/100\n",
            "54000/54000 [==============================] - 3s 62us/step - loss: 0.1816 - acc: 0.9852 - val_loss: 0.3135 - val_acc: 0.9762\n",
            "Epoch 35/100\n",
            "54000/54000 [==============================] - 3s 61us/step - loss: 0.1755 - acc: 0.9857 - val_loss: 0.2882 - val_acc: 0.9775\n",
            "Epoch 36/100\n",
            "54000/54000 [==============================] - 3s 61us/step - loss: 0.1759 - acc: 0.9859 - val_loss: 0.3495 - val_acc: 0.9730\n",
            "Epoch 37/100\n",
            "54000/54000 [==============================] - 3s 62us/step - loss: 0.1739 - acc: 0.9861 - val_loss: 0.4862 - val_acc: 0.9652\n",
            "Epoch 38/100\n",
            "54000/54000 [==============================] - 3s 61us/step - loss: 0.1817 - acc: 0.9858 - val_loss: 0.3976 - val_acc: 0.9707\n",
            "Epoch 39/100\n",
            "54000/54000 [==============================] - 3s 60us/step - loss: 0.1725 - acc: 0.9863 - val_loss: 0.3656 - val_acc: 0.9728\n",
            "Epoch 40/100\n",
            "54000/54000 [==============================] - 3s 61us/step - loss: 0.1760 - acc: 0.9853 - val_loss: 0.3188 - val_acc: 0.9758\n",
            "Epoch 41/100\n",
            "54000/54000 [==============================] - 3s 61us/step - loss: 0.1763 - acc: 0.9858 - val_loss: 0.3715 - val_acc: 0.9722\n",
            "Epoch 42/100\n",
            "54000/54000 [==============================] - 3s 61us/step - loss: 0.1784 - acc: 0.9857 - val_loss: 0.3417 - val_acc: 0.9747\n",
            "Epoch 43/100\n",
            "54000/54000 [==============================] - 3s 62us/step - loss: 0.1764 - acc: 0.9860 - val_loss: 0.3448 - val_acc: 0.9742\n",
            "Epoch 44/100\n",
            "54000/54000 [==============================] - 3s 61us/step - loss: 0.1710 - acc: 0.9864 - val_loss: 0.3464 - val_acc: 0.9740\n",
            "Epoch 45/100\n",
            "54000/54000 [==============================] - 3s 60us/step - loss: 0.1785 - acc: 0.9858 - val_loss: 0.3163 - val_acc: 0.9767\n",
            "Epoch 46/100\n",
            "54000/54000 [==============================] - 3s 62us/step - loss: 0.1812 - acc: 0.9860 - val_loss: 0.3547 - val_acc: 0.9732\n",
            "Epoch 47/100\n",
            "54000/54000 [==============================] - 4s 65us/step - loss: 0.1809 - acc: 0.9857 - val_loss: 0.3340 - val_acc: 0.9748\n",
            "Epoch 48/100\n",
            "54000/54000 [==============================] - 4s 66us/step - loss: 0.1650 - acc: 0.9871 - val_loss: 0.3802 - val_acc: 0.9720\n",
            "Epoch 49/100\n",
            "54000/54000 [==============================] - 4s 66us/step - loss: 0.1691 - acc: 0.9868 - val_loss: 0.3787 - val_acc: 0.9725\n",
            "Epoch 50/100\n",
            "54000/54000 [==============================] - 3s 61us/step - loss: 0.1710 - acc: 0.9865 - val_loss: 0.3692 - val_acc: 0.9725\n",
            "Epoch 51/100\n",
            "54000/54000 [==============================] - 3s 60us/step - loss: 0.1601 - acc: 0.9873 - val_loss: 0.3478 - val_acc: 0.9747\n",
            "Epoch 52/100\n",
            "54000/54000 [==============================] - 3s 61us/step - loss: 0.1572 - acc: 0.9876 - val_loss: 0.3504 - val_acc: 0.9763\n",
            "Epoch 53/100\n",
            "54000/54000 [==============================] - 3s 62us/step - loss: 0.1647 - acc: 0.9875 - val_loss: 0.3545 - val_acc: 0.9750\n",
            "Epoch 54/100\n",
            "54000/54000 [==============================] - 3s 60us/step - loss: 0.1587 - acc: 0.9879 - val_loss: 0.3608 - val_acc: 0.9743\n",
            "Epoch 55/100\n",
            "54000/54000 [==============================] - 3s 61us/step - loss: 0.1724 - acc: 0.9869 - val_loss: 0.3258 - val_acc: 0.9773\n",
            "Epoch 56/100\n",
            "54000/54000 [==============================] - 3s 60us/step - loss: 0.1698 - acc: 0.9872 - val_loss: 0.3268 - val_acc: 0.9770\n",
            "Epoch 57/100\n",
            "54000/54000 [==============================] - 3s 61us/step - loss: 0.1671 - acc: 0.9873 - val_loss: 0.3190 - val_acc: 0.9767\n",
            "Epoch 58/100\n",
            "54000/54000 [==============================] - 3s 60us/step - loss: 0.1619 - acc: 0.9876 - val_loss: 0.3814 - val_acc: 0.9725\n",
            "Epoch 59/100\n",
            "54000/54000 [==============================] - 3s 61us/step - loss: 0.1779 - acc: 0.9863 - val_loss: 0.3757 - val_acc: 0.9732\n",
            "Epoch 60/100\n",
            "54000/54000 [==============================] - 3s 61us/step - loss: 0.1604 - acc: 0.9878 - val_loss: 0.3416 - val_acc: 0.9762\n",
            "Epoch 61/100\n",
            "54000/54000 [==============================] - 3s 61us/step - loss: 0.1571 - acc: 0.9879 - val_loss: 0.3228 - val_acc: 0.9763\n",
            "Epoch 62/100\n",
            "54000/54000 [==============================] - 3s 61us/step - loss: 0.1606 - acc: 0.9877 - val_loss: 0.3412 - val_acc: 0.9752\n",
            "Epoch 63/100\n",
            "54000/54000 [==============================] - 3s 62us/step - loss: 0.1551 - acc: 0.9881 - val_loss: 0.3840 - val_acc: 0.9727\n",
            "Epoch 64/100\n",
            "54000/54000 [==============================] - 3s 62us/step - loss: 0.1724 - acc: 0.9869 - val_loss: 0.3497 - val_acc: 0.9752\n",
            "Epoch 65/100\n",
            "54000/54000 [==============================] - 3s 62us/step - loss: 0.1683 - acc: 0.9873 - val_loss: 0.3540 - val_acc: 0.9747\n",
            "Epoch 66/100\n",
            "54000/54000 [==============================] - 3s 60us/step - loss: 0.1656 - acc: 0.9878 - val_loss: 0.3603 - val_acc: 0.9748\n",
            "Epoch 67/100\n",
            "54000/54000 [==============================] - 3s 60us/step - loss: 0.1626 - acc: 0.9879 - val_loss: 0.3855 - val_acc: 0.9730\n",
            "Epoch 68/100\n",
            "54000/54000 [==============================] - 3s 60us/step - loss: 0.1531 - acc: 0.9885 - val_loss: 0.3438 - val_acc: 0.9748\n",
            "Epoch 69/100\n",
            "54000/54000 [==============================] - 3s 61us/step - loss: 0.1555 - acc: 0.9885 - val_loss: 0.3529 - val_acc: 0.9750\n",
            "Epoch 70/100\n",
            "54000/54000 [==============================] - 3s 62us/step - loss: 0.1548 - acc: 0.9884 - val_loss: 0.3815 - val_acc: 0.9737\n",
            "Epoch 71/100\n",
            "54000/54000 [==============================] - 3s 61us/step - loss: 0.1601 - acc: 0.9883 - val_loss: 0.3913 - val_acc: 0.9720\n",
            "Epoch 72/100\n",
            "54000/54000 [==============================] - 3s 62us/step - loss: 0.1601 - acc: 0.9881 - val_loss: 0.3305 - val_acc: 0.9770\n",
            "Epoch 73/100\n",
            "54000/54000 [==============================] - 3s 61us/step - loss: 0.1572 - acc: 0.9881 - val_loss: 0.3488 - val_acc: 0.9750\n",
            "Epoch 74/100\n",
            "54000/54000 [==============================] - 3s 61us/step - loss: 0.1534 - acc: 0.9886 - val_loss: 0.3837 - val_acc: 0.9727\n",
            "Epoch 75/100\n",
            "54000/54000 [==============================] - 3s 61us/step - loss: 0.1741 - acc: 0.9872 - val_loss: 0.4069 - val_acc: 0.9722\n",
            "Epoch 76/100\n",
            "54000/54000 [==============================] - 3s 61us/step - loss: 0.1696 - acc: 0.9873 - val_loss: 0.3810 - val_acc: 0.9728\n",
            "Epoch 77/100\n",
            "54000/54000 [==============================] - 3s 60us/step - loss: 0.1542 - acc: 0.9886 - val_loss: 0.3529 - val_acc: 0.9750\n",
            "Epoch 78/100\n",
            "54000/54000 [==============================] - 3s 61us/step - loss: 0.1588 - acc: 0.9882 - val_loss: 0.3723 - val_acc: 0.9737\n",
            "Epoch 79/100\n",
            "54000/54000 [==============================] - 3s 61us/step - loss: 0.1584 - acc: 0.9882 - val_loss: 0.3289 - val_acc: 0.9767\n",
            "Epoch 80/100\n",
            "54000/54000 [==============================] - 3s 61us/step - loss: 0.1507 - acc: 0.9888 - val_loss: 0.4595 - val_acc: 0.9687\n",
            "Epoch 81/100\n",
            "54000/54000 [==============================] - 3s 61us/step - loss: 0.1587 - acc: 0.9884 - val_loss: 0.3234 - val_acc: 0.9773\n",
            "Epoch 82/100\n",
            "54000/54000 [==============================] - 3s 62us/step - loss: 0.1605 - acc: 0.9882 - val_loss: 0.3612 - val_acc: 0.9730\n",
            "Epoch 83/100\n",
            "54000/54000 [==============================] - 3s 61us/step - loss: 0.1553 - acc: 0.9885 - val_loss: 0.3688 - val_acc: 0.9743\n",
            "Epoch 84/100\n",
            "54000/54000 [==============================] - 3s 60us/step - loss: 0.1550 - acc: 0.9886 - val_loss: 0.3619 - val_acc: 0.9748\n",
            "Epoch 85/100\n",
            "54000/54000 [==============================] - 3s 61us/step - loss: 0.1518 - acc: 0.9887 - val_loss: 0.3840 - val_acc: 0.9737\n",
            "Epoch 86/100\n",
            "54000/54000 [==============================] - 3s 61us/step - loss: 0.1598 - acc: 0.9883 - val_loss: 0.4356 - val_acc: 0.9698\n",
            "Epoch 87/100\n",
            "54000/54000 [==============================] - 3s 60us/step - loss: 0.1512 - acc: 0.9888 - val_loss: 0.3940 - val_acc: 0.9728\n",
            "Epoch 88/100\n",
            "54000/54000 [==============================] - 3s 63us/step - loss: 0.1482 - acc: 0.9889 - val_loss: 0.3895 - val_acc: 0.9735\n",
            "Epoch 89/100\n",
            "54000/54000 [==============================] - 3s 61us/step - loss: 0.1605 - acc: 0.9881 - val_loss: 0.3663 - val_acc: 0.9747\n",
            "Epoch 90/100\n",
            "54000/54000 [==============================] - 3s 60us/step - loss: 0.1542 - acc: 0.9886 - val_loss: 0.3967 - val_acc: 0.9723\n",
            "Epoch 91/100\n",
            "54000/54000 [==============================] - 3s 61us/step - loss: 0.1645 - acc: 0.9880 - val_loss: 0.3693 - val_acc: 0.9743\n",
            "Epoch 92/100\n",
            "54000/54000 [==============================] - 3s 61us/step - loss: 0.1596 - acc: 0.9882 - val_loss: 0.3928 - val_acc: 0.9737\n",
            "Epoch 93/100\n",
            "54000/54000 [==============================] - 3s 60us/step - loss: 0.1643 - acc: 0.9880 - val_loss: 0.3738 - val_acc: 0.9745\n",
            "Epoch 94/100\n",
            "54000/54000 [==============================] - 3s 60us/step - loss: 0.1607 - acc: 0.9883 - val_loss: 0.3755 - val_acc: 0.9740\n",
            "Epoch 95/100\n",
            "54000/54000 [==============================] - 3s 60us/step - loss: 0.1600 - acc: 0.9885 - val_loss: 0.4172 - val_acc: 0.9722\n",
            "Epoch 96/100\n",
            "54000/54000 [==============================] - 3s 60us/step - loss: 0.1715 - acc: 0.9875 - val_loss: 0.4120 - val_acc: 0.9718\n",
            "Epoch 97/100\n",
            "54000/54000 [==============================] - 3s 62us/step - loss: 0.1675 - acc: 0.9879 - val_loss: 0.3987 - val_acc: 0.9725\n",
            "Epoch 98/100\n",
            "54000/54000 [==============================] - 3s 61us/step - loss: 0.1682 - acc: 0.9875 - val_loss: 0.3707 - val_acc: 0.9747\n",
            "Epoch 99/100\n",
            "54000/54000 [==============================] - 3s 60us/step - loss: 0.1631 - acc: 0.9880 - val_loss: 0.3993 - val_acc: 0.9727\n",
            "Epoch 100/100\n",
            "54000/54000 [==============================] - 3s 61us/step - loss: 0.1642 - acc: 0.9881 - val_loss: 0.4082 - val_acc: 0.9713\n"
          ],
          "name": "stdout"
        }
      ]
    },
    {
      "cell_type": "code",
      "metadata": {
        "id": "qrC-sXgwABS5",
        "colab_type": "code",
        "outputId": "13bb5054-c1d5-4259-ce17-95b1e843a100",
        "colab": {
          "base_uri": "https://localhost:8080/",
          "height": 295
        }
      },
      "source": [
        "import matplotlib.pyplot as plot\n",
        "loss, accuracy  = expriment5.evaluate(x_test, y_test, verbose=False)\n",
        "plot.plot(expriment5_train.history['acc'])\n",
        "plot.plot(expriment5_train.history['val_acc'])\n",
        "plot.title('model accuracy')\n",
        "plot.ylabel('accuracy')\n",
        "plot.xlabel('epoch')\n",
        "plot.legend(['training', 'validation'], loc='best')\n",
        "plot.show()"
      ],
      "execution_count": 26,
      "outputs": [
        {
          "output_type": "display_data",
          "data": {
            "image/png": "[encoded data removed]",
            "text/plain": [
              "<Figure size 432x288 with 1 Axes>"
            ]
          },
          "metadata": {
            "tags": []
          }
        }
      ]
    },
    {
      "cell_type": "markdown",
      "metadata": {
        "id": "KVBzlvyuBjJO",
        "colab_type": "text"
      },
      "source": [
        "Expriement 6:\n",
        "\n",
        "\n",
        "```\n",
        "a- number of hidden layers=1\n",
        "```\n",
        "\n",
        "\n",
        "```\n",
        "b- number of neurons per layer=64\n",
        "```\n",
        "\n",
        "\n",
        "```\n",
        "c- optimization algorithm=adam\n",
        "```\n",
        "\n",
        "\n",
        "\n",
        "```\n",
        "d- loss function= cross entropy loss function\n",
        "```\n",
        "\n",
        "\n",
        "\n",
        "```\n",
        "e- number of epochs=100\n",
        "```\n",
        "\n",
        "\n",
        "```\n",
        "f- batch size=32\n",
        "```\n",
        "\n",
        "\n",
        "\n",
        "\n",
        "```\n",
        "g- activation function=Relu\n",
        "```\n",
        "\n",
        "\n",
        "\n",
        "\n",
        "\n",
        "\n",
        "\n",
        "\n",
        "\n",
        "\n",
        "\n"
      ]
    },
    {
      "cell_type": "code",
      "metadata": {
        "id": "bnIWSjQ943KH",
        "colab_type": "code",
        "colab": {
          "base_uri": "https://localhost:8080/",
          "height": 312
        },
        "outputId": "3f309f4e-99dd-4fb6-d271-e8c7935a910f"
      },
      "source": [
        "from keras.utils.vis_utils import plot_model\n",
        "expriment6=build_model();\n",
        "plot_model(expriment6, to_file='model_plot.png',expand_nested=True,show_shapes=True)"
      ],
      "execution_count": 27,
      "outputs": [
        {
          "output_type": "execute_result",
          "data": {
            "image/png": "[encoded data removed]",
            "text/plain": [
              "<IPython.core.display.Image object>"
            ]
          },
          "metadata": {
            "tags": []
          },
          "execution_count": 27
        }
      ]
    },
    {
      "cell_type": "code",
      "metadata": {
        "id": "8L3SqU-LADII",
        "colab_type": "code",
        "outputId": "3662ec98-149c-4a49-b184-a37fea9ba680",
        "colab": {
          "base_uri": "https://localhost:8080/",
          "height": 1000
        }
      },
      "source": [
        "expriment6.compile(keras.optimizers.adam(lr=0.01),loss='categorical_crossentropy', metrics=['accuracy'])\n",
        "expriment6_train = expriment6.fit(\n",
        "    x_train, y_train,\n",
        "    batch_size=32, epochs=100,\n",
        "    validation_split=0.1\n",
        ")"
      ],
      "execution_count": 28,
      "outputs": [
        {
          "output_type": "stream",
          "text": [
            "Train on 54000 samples, validate on 6000 samples\n",
            "Epoch 1/100\n",
            "54000/54000 [==============================] - 4s 69us/step - loss: 0.2576 - acc: 0.9231 - val_loss: 0.1486 - val_acc: 0.9555\n",
            "Epoch 2/100\n",
            "54000/54000 [==============================] - 3s 62us/step - loss: 0.1705 - acc: 0.9506 - val_loss: 0.1426 - val_acc: 0.9638\n",
            "Epoch 3/100\n",
            "54000/54000 [==============================] - 3s 61us/step - loss: 0.1525 - acc: 0.9573 - val_loss: 0.1229 - val_acc: 0.9660\n",
            "Epoch 4/100\n",
            "54000/54000 [==============================] - 3s 62us/step - loss: 0.1427 - acc: 0.9612 - val_loss: 0.1417 - val_acc: 0.9593\n",
            "Epoch 5/100\n",
            "54000/54000 [==============================] - 3s 63us/step - loss: 0.1319 - acc: 0.9646 - val_loss: 0.1402 - val_acc: 0.9683\n",
            "Epoch 6/100\n",
            "54000/54000 [==============================] - 3s 63us/step - loss: 0.1261 - acc: 0.9666 - val_loss: 0.1713 - val_acc: 0.9603\n",
            "Epoch 7/100\n",
            "54000/54000 [==============================] - 3s 62us/step - loss: 0.1209 - acc: 0.9686 - val_loss: 0.1667 - val_acc: 0.9633\n",
            "Epoch 8/100\n",
            "54000/54000 [==============================] - 3s 62us/step - loss: 0.1155 - acc: 0.9701 - val_loss: 0.1683 - val_acc: 0.9658\n",
            "Epoch 9/100\n",
            "54000/54000 [==============================] - 3s 63us/step - loss: 0.1142 - acc: 0.9714 - val_loss: 0.1717 - val_acc: 0.9638\n",
            "Epoch 10/100\n",
            "54000/54000 [==============================] - 3s 65us/step - loss: 0.1025 - acc: 0.9749 - val_loss: 0.1732 - val_acc: 0.9660\n",
            "Epoch 11/100\n",
            "54000/54000 [==============================] - 3s 62us/step - loss: 0.1058 - acc: 0.9743 - val_loss: 0.2010 - val_acc: 0.9650\n",
            "Epoch 12/100\n",
            "54000/54000 [==============================] - 3s 62us/step - loss: 0.1087 - acc: 0.9736 - val_loss: 0.1927 - val_acc: 0.9670\n",
            "Epoch 13/100\n",
            "54000/54000 [==============================] - 3s 62us/step - loss: 0.0983 - acc: 0.9768 - val_loss: 0.2078 - val_acc: 0.9663\n",
            "Epoch 14/100\n",
            "54000/54000 [==============================] - 3s 63us/step - loss: 0.1024 - acc: 0.9759 - val_loss: 0.2061 - val_acc: 0.9662\n",
            "Epoch 15/100\n",
            "54000/54000 [==============================] - 3s 62us/step - loss: 0.0950 - acc: 0.9784 - val_loss: 0.1782 - val_acc: 0.9700\n",
            "Epoch 16/100\n",
            "54000/54000 [==============================] - 3s 63us/step - loss: 0.1010 - acc: 0.9780 - val_loss: 0.2043 - val_acc: 0.9682\n",
            "Epoch 17/100\n",
            "54000/54000 [==============================] - 3s 65us/step - loss: 0.0927 - acc: 0.9802 - val_loss: 0.2267 - val_acc: 0.9670\n",
            "Epoch 18/100\n",
            "54000/54000 [==============================] - 4s 70us/step - loss: 0.1040 - acc: 0.9796 - val_loss: 0.2080 - val_acc: 0.9705\n",
            "Epoch 19/100\n",
            "54000/54000 [==============================] - 3s 63us/step - loss: 0.0920 - acc: 0.9809 - val_loss: 0.2006 - val_acc: 0.9690\n",
            "Epoch 20/100\n",
            "54000/54000 [==============================] - 3s 61us/step - loss: 0.0925 - acc: 0.9803 - val_loss: 0.2173 - val_acc: 0.9673\n",
            "Epoch 21/100\n",
            "54000/54000 [==============================] - 3s 62us/step - loss: 0.0880 - acc: 0.9825 - val_loss: 0.2150 - val_acc: 0.9703\n",
            "Epoch 22/100\n",
            "54000/54000 [==============================] - 3s 61us/step - loss: 0.0969 - acc: 0.9824 - val_loss: 0.2324 - val_acc: 0.9715\n",
            "Epoch 23/100\n",
            "54000/54000 [==============================] - 3s 62us/step - loss: 0.0980 - acc: 0.9814 - val_loss: 0.2118 - val_acc: 0.9677\n",
            "Epoch 24/100\n",
            "54000/54000 [==============================] - 3s 61us/step - loss: 0.0904 - acc: 0.9833 - val_loss: 0.2859 - val_acc: 0.9665\n",
            "Epoch 25/100\n",
            "54000/54000 [==============================] - 3s 62us/step - loss: 0.0970 - acc: 0.9826 - val_loss: 0.2180 - val_acc: 0.9720\n",
            "Epoch 26/100\n",
            "54000/54000 [==============================] - 3s 62us/step - loss: 0.0932 - acc: 0.9823 - val_loss: 0.2593 - val_acc: 0.9677\n",
            "Epoch 27/100\n",
            "54000/54000 [==============================] - 3s 62us/step - loss: 0.0975 - acc: 0.9834 - val_loss: 0.2543 - val_acc: 0.9707\n",
            "Epoch 28/100\n",
            "54000/54000 [==============================] - 3s 62us/step - loss: 0.0873 - acc: 0.9848 - val_loss: 0.2961 - val_acc: 0.9685\n",
            "Epoch 29/100\n",
            "54000/54000 [==============================] - 3s 61us/step - loss: 0.0964 - acc: 0.9845 - val_loss: 0.2513 - val_acc: 0.9700\n",
            "Epoch 30/100\n",
            "54000/54000 [==============================] - 3s 62us/step - loss: 0.0844 - acc: 0.9846 - val_loss: 0.2737 - val_acc: 0.9683\n",
            "Epoch 31/100\n",
            "54000/54000 [==============================] - 3s 62us/step - loss: 0.0917 - acc: 0.9844 - val_loss: 0.2885 - val_acc: 0.9680\n",
            "Epoch 32/100\n",
            "54000/54000 [==============================] - 3s 62us/step - loss: 0.0872 - acc: 0.9861 - val_loss: 0.2815 - val_acc: 0.9690\n",
            "Epoch 33/100\n",
            "54000/54000 [==============================] - 3s 63us/step - loss: 0.0893 - acc: 0.9862 - val_loss: 0.2799 - val_acc: 0.9712\n",
            "Epoch 34/100\n",
            "54000/54000 [==============================] - 3s 62us/step - loss: 0.0932 - acc: 0.9855 - val_loss: 0.2867 - val_acc: 0.9703\n",
            "Epoch 35/100\n",
            "54000/54000 [==============================] - 3s 61us/step - loss: 0.0929 - acc: 0.9858 - val_loss: 0.2639 - val_acc: 0.9717\n",
            "Epoch 36/100\n",
            "54000/54000 [==============================] - 3s 60us/step - loss: 0.0908 - acc: 0.9862 - val_loss: 0.2672 - val_acc: 0.9717\n",
            "Epoch 37/100\n",
            "54000/54000 [==============================] - 3s 61us/step - loss: 0.0933 - acc: 0.9863 - val_loss: 0.2996 - val_acc: 0.9680\n",
            "Epoch 38/100\n",
            "54000/54000 [==============================] - 3s 61us/step - loss: 0.0872 - acc: 0.9873 - val_loss: 0.3114 - val_acc: 0.9715\n",
            "Epoch 39/100\n",
            "54000/54000 [==============================] - 4s 66us/step - loss: 0.0848 - acc: 0.9871 - val_loss: 0.2903 - val_acc: 0.9730\n",
            "Epoch 40/100\n",
            "54000/54000 [==============================] - 4s 68us/step - loss: 0.0957 - acc: 0.9866 - val_loss: 0.2651 - val_acc: 0.9745\n",
            "Epoch 41/100\n",
            "54000/54000 [==============================] - 4s 68us/step - loss: 0.0830 - acc: 0.9876 - val_loss: 0.2738 - val_acc: 0.9728\n",
            "Epoch 42/100\n",
            "54000/54000 [==============================] - 3s 61us/step - loss: 0.0950 - acc: 0.9869 - val_loss: 0.2786 - val_acc: 0.9723\n",
            "Epoch 43/100\n",
            "54000/54000 [==============================] - 3s 63us/step - loss: 0.0872 - acc: 0.9878 - val_loss: 0.2904 - val_acc: 0.9727\n",
            "Epoch 44/100\n",
            "54000/54000 [==============================] - 3s 61us/step - loss: 0.0804 - acc: 0.9889 - val_loss: 0.3337 - val_acc: 0.9678\n",
            "Epoch 45/100\n",
            "54000/54000 [==============================] - 3s 62us/step - loss: 0.1043 - acc: 0.9861 - val_loss: 0.3014 - val_acc: 0.9725\n",
            "Epoch 46/100\n",
            "54000/54000 [==============================] - 3s 62us/step - loss: 0.0902 - acc: 0.9884 - val_loss: 0.3178 - val_acc: 0.9713\n",
            "Epoch 47/100\n",
            "54000/54000 [==============================] - 3s 61us/step - loss: 0.0894 - acc: 0.9886 - val_loss: 0.3444 - val_acc: 0.9680\n",
            "Epoch 48/100\n",
            "54000/54000 [==============================] - 3s 62us/step - loss: 0.0970 - acc: 0.9876 - val_loss: 0.3227 - val_acc: 0.9702\n",
            "Epoch 49/100\n",
            "54000/54000 [==============================] - 3s 63us/step - loss: 0.0956 - acc: 0.9877 - val_loss: 0.3344 - val_acc: 0.9703\n",
            "Epoch 50/100\n",
            "54000/54000 [==============================] - 3s 62us/step - loss: 0.0886 - acc: 0.9885 - val_loss: 0.3268 - val_acc: 0.9715\n",
            "Epoch 51/100\n",
            "54000/54000 [==============================] - 3s 61us/step - loss: 0.0946 - acc: 0.9883 - val_loss: 0.3624 - val_acc: 0.9700\n",
            "Epoch 52/100\n",
            "54000/54000 [==============================] - 3s 63us/step - loss: 0.1045 - acc: 0.9875 - val_loss: 0.3538 - val_acc: 0.9688\n",
            "Epoch 53/100\n",
            "54000/54000 [==============================] - 3s 62us/step - loss: 0.0916 - acc: 0.9890 - val_loss: 0.3967 - val_acc: 0.9667\n",
            "Epoch 54/100\n",
            "54000/54000 [==============================] - 3s 62us/step - loss: 0.0973 - acc: 0.9890 - val_loss: 0.3351 - val_acc: 0.9707\n",
            "Epoch 55/100\n",
            "54000/54000 [==============================] - 3s 61us/step - loss: 0.1068 - acc: 0.9885 - val_loss: 0.2950 - val_acc: 0.9735\n",
            "Epoch 56/100\n",
            "54000/54000 [==============================] - 3s 63us/step - loss: 0.1018 - acc: 0.9890 - val_loss: 0.3435 - val_acc: 0.9718\n",
            "Epoch 57/100\n",
            "54000/54000 [==============================] - 3s 62us/step - loss: 0.1126 - acc: 0.9881 - val_loss: 0.3386 - val_acc: 0.9710\n",
            "Epoch 58/100\n",
            "54000/54000 [==============================] - 3s 63us/step - loss: 0.1039 - acc: 0.9887 - val_loss: 0.3265 - val_acc: 0.9728\n",
            "Epoch 59/100\n",
            "54000/54000 [==============================] - 3s 62us/step - loss: 0.1018 - acc: 0.9893 - val_loss: 0.3456 - val_acc: 0.9712\n",
            "Epoch 60/100\n",
            "54000/54000 [==============================] - 3s 62us/step - loss: 0.1178 - acc: 0.9879 - val_loss: 0.4230 - val_acc: 0.9662\n",
            "Epoch 61/100\n",
            "54000/54000 [==============================] - 3s 63us/step - loss: 0.1177 - acc: 0.9885 - val_loss: 0.3483 - val_acc: 0.9728\n",
            "Epoch 62/100\n",
            "54000/54000 [==============================] - 3s 62us/step - loss: 0.1031 - acc: 0.9894 - val_loss: 0.3259 - val_acc: 0.9732\n",
            "Epoch 63/100\n",
            "54000/54000 [==============================] - 3s 61us/step - loss: 0.1084 - acc: 0.9891 - val_loss: 0.3440 - val_acc: 0.9727\n",
            "Epoch 64/100\n",
            "54000/54000 [==============================] - 3s 62us/step - loss: 0.1104 - acc: 0.9897 - val_loss: 0.3279 - val_acc: 0.9730\n",
            "Epoch 65/100\n",
            "54000/54000 [==============================] - 3s 62us/step - loss: 0.1060 - acc: 0.9899 - val_loss: 0.3279 - val_acc: 0.9737\n",
            "Epoch 66/100\n",
            "54000/54000 [==============================] - 3s 63us/step - loss: 0.1271 - acc: 0.9884 - val_loss: 0.3567 - val_acc: 0.9728\n",
            "Epoch 67/100\n",
            "54000/54000 [==============================] - 3s 64us/step - loss: 0.1184 - acc: 0.9894 - val_loss: 0.3499 - val_acc: 0.9732\n",
            "Epoch 68/100\n",
            "54000/54000 [==============================] - 3s 63us/step - loss: 0.1235 - acc: 0.9886 - val_loss: 0.3706 - val_acc: 0.9732\n",
            "Epoch 69/100\n",
            "54000/54000 [==============================] - 3s 62us/step - loss: 0.1139 - acc: 0.9892 - val_loss: 0.3959 - val_acc: 0.9705\n",
            "Epoch 70/100\n",
            "54000/54000 [==============================] - 3s 63us/step - loss: 0.1082 - acc: 0.9903 - val_loss: 0.4193 - val_acc: 0.9698\n",
            "Epoch 71/100\n",
            "54000/54000 [==============================] - 3s 63us/step - loss: 0.1296 - acc: 0.9884 - val_loss: 0.3660 - val_acc: 0.9727\n",
            "Epoch 72/100\n",
            "54000/54000 [==============================] - 3s 61us/step - loss: 0.1265 - acc: 0.9889 - val_loss: 0.3956 - val_acc: 0.9715\n",
            "Epoch 73/100\n",
            "54000/54000 [==============================] - 3s 61us/step - loss: 0.1188 - acc: 0.9893 - val_loss: 0.3569 - val_acc: 0.9733\n",
            "Epoch 74/100\n",
            "54000/54000 [==============================] - 3s 62us/step - loss: 0.1120 - acc: 0.9900 - val_loss: 0.3703 - val_acc: 0.9722\n",
            "Epoch 75/100\n",
            "54000/54000 [==============================] - 3s 62us/step - loss: 0.1121 - acc: 0.9898 - val_loss: 0.4217 - val_acc: 0.9690\n",
            "Epoch 76/100\n",
            "54000/54000 [==============================] - 3s 62us/step - loss: 0.1261 - acc: 0.9892 - val_loss: 0.4195 - val_acc: 0.9698\n",
            "Epoch 77/100\n",
            "54000/54000 [==============================] - 3s 63us/step - loss: 0.1408 - acc: 0.9884 - val_loss: 0.3901 - val_acc: 0.9727\n",
            "Epoch 78/100\n",
            "54000/54000 [==============================] - 3s 62us/step - loss: 0.1316 - acc: 0.9894 - val_loss: 0.3559 - val_acc: 0.9745\n",
            "Epoch 79/100\n",
            "54000/54000 [==============================] - 3s 63us/step - loss: 0.1258 - acc: 0.9898 - val_loss: 0.3621 - val_acc: 0.9747\n",
            "Epoch 80/100\n",
            "54000/54000 [==============================] - 3s 62us/step - loss: 0.1281 - acc: 0.9895 - val_loss: 0.3969 - val_acc: 0.9717\n",
            "Epoch 81/100\n",
            "54000/54000 [==============================] - 3s 62us/step - loss: 0.1216 - acc: 0.9895 - val_loss: 0.3676 - val_acc: 0.9725\n",
            "Epoch 82/100\n",
            "54000/54000 [==============================] - 3s 61us/step - loss: 0.1277 - acc: 0.9891 - val_loss: 0.3755 - val_acc: 0.9733\n",
            "Epoch 83/100\n",
            "54000/54000 [==============================] - 3s 61us/step - loss: 0.1282 - acc: 0.9897 - val_loss: 0.3987 - val_acc: 0.9735\n",
            "Epoch 84/100\n",
            "54000/54000 [==============================] - 3s 62us/step - loss: 0.1313 - acc: 0.9894 - val_loss: 0.3601 - val_acc: 0.9742\n",
            "Epoch 85/100\n",
            "54000/54000 [==============================] - 3s 62us/step - loss: 0.1280 - acc: 0.9895 - val_loss: 0.3714 - val_acc: 0.9740\n",
            "Epoch 86/100\n",
            "54000/54000 [==============================] - 3s 62us/step - loss: 0.1197 - acc: 0.9901 - val_loss: 0.3810 - val_acc: 0.9730\n",
            "Epoch 87/100\n",
            "54000/54000 [==============================] - 3s 63us/step - loss: 0.1391 - acc: 0.9889 - val_loss: 0.4566 - val_acc: 0.9675\n",
            "Epoch 88/100\n",
            "54000/54000 [==============================] - 3s 62us/step - loss: 0.1205 - acc: 0.9899 - val_loss: 0.3860 - val_acc: 0.9737\n",
            "Epoch 89/100\n",
            "54000/54000 [==============================] - 3s 61us/step - loss: 0.1310 - acc: 0.9897 - val_loss: 0.3860 - val_acc: 0.9713\n",
            "Epoch 90/100\n",
            "54000/54000 [==============================] - 3s 62us/step - loss: 0.1420 - acc: 0.9888 - val_loss: 0.4212 - val_acc: 0.9713\n",
            "Epoch 91/100\n",
            "54000/54000 [==============================] - 3s 61us/step - loss: 0.1275 - acc: 0.9900 - val_loss: 0.4150 - val_acc: 0.9713\n",
            "Epoch 92/100\n",
            "54000/54000 [==============================] - 3s 62us/step - loss: 0.1319 - acc: 0.9895 - val_loss: 0.4164 - val_acc: 0.9707\n",
            "Epoch 93/100\n",
            "54000/54000 [==============================] - 3s 63us/step - loss: 0.1171 - acc: 0.9908 - val_loss: 0.3555 - val_acc: 0.9745\n",
            "Epoch 94/100\n",
            "54000/54000 [==============================] - 3s 62us/step - loss: 0.1322 - acc: 0.9900 - val_loss: 0.4025 - val_acc: 0.9712\n",
            "Epoch 95/100\n",
            "54000/54000 [==============================] - 3s 63us/step - loss: 0.1404 - acc: 0.9894 - val_loss: 0.4084 - val_acc: 0.9730\n",
            "Epoch 96/100\n",
            "54000/54000 [==============================] - 3s 62us/step - loss: 0.1498 - acc: 0.9890 - val_loss: 0.4513 - val_acc: 0.9690\n",
            "Epoch 97/100\n",
            "54000/54000 [==============================] - 3s 62us/step - loss: 0.1604 - acc: 0.9881 - val_loss: 0.4529 - val_acc: 0.9698\n",
            "Epoch 98/100\n",
            "54000/54000 [==============================] - 3s 61us/step - loss: 0.1249 - acc: 0.9903 - val_loss: 0.4056 - val_acc: 0.9715\n",
            "Epoch 99/100\n",
            "54000/54000 [==============================] - 3s 62us/step - loss: 0.1509 - acc: 0.9891 - val_loss: 0.4712 - val_acc: 0.9685\n",
            "Epoch 100/100\n",
            "54000/54000 [==============================] - 3s 61us/step - loss: 0.1447 - acc: 0.9893 - val_loss: 0.4446 - val_acc: 0.9698\n"
          ],
          "name": "stdout"
        }
      ]
    },
    {
      "cell_type": "code",
      "metadata": {
        "id": "ufJRbbPsBsdz",
        "colab_type": "code",
        "outputId": "1c00ac2a-da07-493b-d84b-38c973c93ef4",
        "colab": {
          "base_uri": "https://localhost:8080/",
          "height": 295
        }
      },
      "source": [
        "import matplotlib.pyplot as plot\n",
        "loss, accuracy  = expriment6.evaluate(x_test, y_test, verbose=False)\n",
        "plot.plot(expriment6_train.history['acc'])\n",
        "plot.plot(expriment6_train.history['val_acc'])\n",
        "plot.title('model accuracy')\n",
        "plot.ylabel('accuracy')\n",
        "plot.xlabel('epoch')\n",
        "plot.legend(['training', 'validation'], loc='best')\n",
        "plot.show()"
      ],
      "execution_count": 29,
      "outputs": [
        {
          "output_type": "display_data",
          "data": {
            "image/png": "[encoded data removed]",
            "text/plain": [
              "<Figure size 432x288 with 1 Axes>"
            ]
          },
          "metadata": {
            "tags": []
          }
        }
      ]
    },
    {
      "cell_type": "code",
      "metadata": {
        "id": "K51pTYY8ByPU",
        "colab_type": "code",
        "colab": {}
      },
      "source": [
        ""
      ],
      "execution_count": 0,
      "outputs": []
    },
    {
      "cell_type": "markdown",
      "metadata": {
        "id": "ZiM--rizDQOI",
        "colab_type": "text"
      },
      "source": [
        "Expriement 7:\n",
        "\n",
        "\n",
        "```\n",
        "a- number of hidden layers=1\n",
        "```\n",
        "\n",
        "\n",
        "```\n",
        "b- number of neurons per layer=400\n",
        "```\n",
        "\n",
        "\n",
        "```\n",
        "c- optimization algorithm=SGD\n",
        "```\n",
        "\n",
        "\n",
        "\n",
        "```\n",
        "d- loss function= cross entropy loss function\n",
        "```\n",
        "\n",
        "\n",
        "\n",
        "```\n",
        "e- number of epochs=50\n",
        "```\n",
        "\n",
        "\n",
        "```\n",
        "f- batch size=32\n",
        "```\n",
        "\n",
        "\n",
        "\n",
        "\n",
        "```\n",
        "g- activation function=Relu\n",
        "```\n",
        "\n",
        "\n",
        "\n",
        "\n",
        "\n",
        "\n",
        "\n",
        "\n",
        "\n",
        "\n",
        "\n"
      ]
    },
    {
      "cell_type": "code",
      "metadata": {
        "id": "8qxhXZt4DbA6",
        "colab_type": "code",
        "colab": {}
      },
      "source": [
        "def build_model(x):\n",
        "  model =Sequential([\n",
        "    layers.Dense(units=x,input_shape=(784,), activation=tf.nn.relu),\n",
        "    layers.Dense(units=10, activation=tf.nn.softmax),\n",
        "    \n",
        "  ])\n",
        "  return model"
      ],
      "execution_count": 0,
      "outputs": []
    },
    {
      "cell_type": "code",
      "metadata": {
        "id": "RK2bQLkCDdxt",
        "colab_type": "code",
        "outputId": "1c091d50-5498-4392-c7d5-3022f67d8952",
        "colab": {
          "base_uri": "https://localhost:8080/",
          "height": 312
        }
      },
      "source": [
        "expriment7=build_model(400);\n",
        "plot_model(expriment7, to_file='model_plot.png',expand_nested=True,show_shapes=True)"
      ],
      "execution_count": 31,
      "outputs": [
        {
          "output_type": "execute_result",
          "data": {
            "image/png": "[encoded data removed]",
            "text/plain": [
              "<IPython.core.display.Image object>"
            ]
          },
          "metadata": {
            "tags": []
          },
          "execution_count": 31
        }
      ]
    },
    {
      "cell_type": "code",
      "metadata": {
        "id": "wT8fVhPMDtcN",
        "colab_type": "code",
        "outputId": "ef1de789-b7be-4136-c1b7-1b9a99ec7ebc",
        "colab": {
          "base_uri": "https://localhost:8080/",
          "height": 1000
        }
      },
      "source": [
        "# train model\n",
        "expriment7.compile(keras.optimizers.SGD(lr=0.01,momentum=0,decay=0,nesterov=False),loss='categorical_crossentropy', metrics=['accuracy'])\n",
        "expriment7_train = expriment7.fit(\n",
        "    x_train, y_train,\n",
        "    batch_size=32, epochs=50,\n",
        "    validation_split=0.1\n",
        ")"
      ],
      "execution_count": 32,
      "outputs": [
        {
          "output_type": "stream",
          "text": [
            "Train on 54000 samples, validate on 6000 samples\n",
            "Epoch 1/50\n",
            "54000/54000 [==============================] - 8s 152us/step - loss: 0.6391 - acc: 0.8454 - val_loss: 0.3141 - val_acc: 0.9157\n",
            "Epoch 2/50\n",
            "54000/54000 [==============================] - 8s 143us/step - loss: 0.3391 - acc: 0.9061 - val_loss: 0.2525 - val_acc: 0.9320\n",
            "Epoch 3/50\n",
            "54000/54000 [==============================] - 8s 143us/step - loss: 0.2888 - acc: 0.9189 - val_loss: 0.2215 - val_acc: 0.9402\n",
            "Epoch 4/50\n",
            "54000/54000 [==============================] - 8s 150us/step - loss: 0.2579 - acc: 0.9277 - val_loss: 0.2026 - val_acc: 0.9467\n",
            "Epoch 5/50\n",
            "54000/54000 [==============================] - 8s 143us/step - loss: 0.2347 - acc: 0.9346 - val_loss: 0.1834 - val_acc: 0.9522\n",
            "Epoch 6/50\n",
            "54000/54000 [==============================] - 8s 145us/step - loss: 0.2159 - acc: 0.9400 - val_loss: 0.1726 - val_acc: 0.9543\n",
            "Epoch 7/50\n",
            "54000/54000 [==============================] - 8s 142us/step - loss: 0.2004 - acc: 0.9445 - val_loss: 0.1615 - val_acc: 0.9578\n",
            "Epoch 8/50\n",
            "54000/54000 [==============================] - 8s 140us/step - loss: 0.1869 - acc: 0.9481 - val_loss: 0.1518 - val_acc: 0.9612\n",
            "Epoch 9/50\n",
            "54000/54000 [==============================] - 8s 142us/step - loss: 0.1752 - acc: 0.9507 - val_loss: 0.1433 - val_acc: 0.9648\n",
            "Epoch 10/50\n",
            "54000/54000 [==============================] - 8s 145us/step - loss: 0.1648 - acc: 0.9540 - val_loss: 0.1361 - val_acc: 0.9643\n",
            "Epoch 11/50\n",
            "54000/54000 [==============================] - 8s 139us/step - loss: 0.1553 - acc: 0.9567 - val_loss: 0.1295 - val_acc: 0.9660\n",
            "Epoch 12/50\n",
            "54000/54000 [==============================] - 8s 142us/step - loss: 0.1475 - acc: 0.9586 - val_loss: 0.1250 - val_acc: 0.9672\n",
            "Epoch 13/50\n",
            "54000/54000 [==============================] - 8s 149us/step - loss: 0.1400 - acc: 0.9609 - val_loss: 0.1211 - val_acc: 0.9672\n",
            "Epoch 14/50\n",
            "54000/54000 [==============================] - 9s 161us/step - loss: 0.1332 - acc: 0.9636 - val_loss: 0.1173 - val_acc: 0.9687\n",
            "Epoch 15/50\n",
            "54000/54000 [==============================] - 8s 139us/step - loss: 0.1270 - acc: 0.9651 - val_loss: 0.1121 - val_acc: 0.9703\n",
            "Epoch 16/50\n",
            "54000/54000 [==============================] - 8s 141us/step - loss: 0.1213 - acc: 0.9667 - val_loss: 0.1095 - val_acc: 0.9708\n",
            "Epoch 17/50\n",
            "54000/54000 [==============================] - 8s 143us/step - loss: 0.1160 - acc: 0.9678 - val_loss: 0.1072 - val_acc: 0.9692\n",
            "Epoch 18/50\n",
            "54000/54000 [==============================] - 8s 142us/step - loss: 0.1110 - acc: 0.9697 - val_loss: 0.1042 - val_acc: 0.9718\n",
            "Epoch 19/50\n",
            "54000/54000 [==============================] - 8s 139us/step - loss: 0.1066 - acc: 0.9710 - val_loss: 0.1035 - val_acc: 0.9738\n",
            "Epoch 20/50\n",
            "54000/54000 [==============================] - 8s 144us/step - loss: 0.1024 - acc: 0.9724 - val_loss: 0.0985 - val_acc: 0.9740\n",
            "Epoch 21/50\n",
            "54000/54000 [==============================] - 8s 144us/step - loss: 0.0984 - acc: 0.9734 - val_loss: 0.0975 - val_acc: 0.9743\n",
            "Epoch 22/50\n",
            "54000/54000 [==============================] - 8s 142us/step - loss: 0.0948 - acc: 0.9745 - val_loss: 0.0943 - val_acc: 0.9748\n",
            "Epoch 23/50\n",
            "54000/54000 [==============================] - 8s 141us/step - loss: 0.0913 - acc: 0.9756 - val_loss: 0.0928 - val_acc: 0.9757\n",
            "Epoch 24/50\n",
            "54000/54000 [==============================] - 8s 144us/step - loss: 0.0880 - acc: 0.9764 - val_loss: 0.0920 - val_acc: 0.9755\n",
            "Epoch 25/50\n",
            "54000/54000 [==============================] - 8s 143us/step - loss: 0.0851 - acc: 0.9774 - val_loss: 0.0902 - val_acc: 0.9762\n",
            "Epoch 26/50\n",
            "54000/54000 [==============================] - 8s 142us/step - loss: 0.0822 - acc: 0.9780 - val_loss: 0.0879 - val_acc: 0.9773\n",
            "Epoch 27/50\n",
            "54000/54000 [==============================] - 8s 139us/step - loss: 0.0794 - acc: 0.9789 - val_loss: 0.0868 - val_acc: 0.9755\n",
            "Epoch 28/50\n",
            "54000/54000 [==============================] - 8s 140us/step - loss: 0.0770 - acc: 0.9793 - val_loss: 0.0856 - val_acc: 0.9768\n",
            "Epoch 29/50\n",
            "54000/54000 [==============================] - 8s 141us/step - loss: 0.0745 - acc: 0.9806 - val_loss: 0.0844 - val_acc: 0.9770\n",
            "Epoch 30/50\n",
            "54000/54000 [==============================] - 8s 141us/step - loss: 0.0722 - acc: 0.9813 - val_loss: 0.0840 - val_acc: 0.9778\n",
            "Epoch 31/50\n",
            "54000/54000 [==============================] - 8s 141us/step - loss: 0.0700 - acc: 0.9817 - val_loss: 0.0836 - val_acc: 0.9775\n",
            "Epoch 32/50\n",
            "54000/54000 [==============================] - 8s 141us/step - loss: 0.0679 - acc: 0.9822 - val_loss: 0.0820 - val_acc: 0.9782\n",
            "Epoch 33/50\n",
            "54000/54000 [==============================] - 8s 141us/step - loss: 0.0659 - acc: 0.9827 - val_loss: 0.0803 - val_acc: 0.9778\n",
            "Epoch 34/50\n",
            "54000/54000 [==============================] - 8s 141us/step - loss: 0.0641 - acc: 0.9833 - val_loss: 0.0816 - val_acc: 0.9770\n",
            "Epoch 35/50\n",
            "54000/54000 [==============================] - 8s 140us/step - loss: 0.0622 - acc: 0.9838 - val_loss: 0.0788 - val_acc: 0.9785\n",
            "Epoch 36/50\n",
            "54000/54000 [==============================] - 8s 139us/step - loss: 0.0606 - acc: 0.9842 - val_loss: 0.0781 - val_acc: 0.9790\n",
            "Epoch 37/50\n",
            "54000/54000 [==============================] - 7s 139us/step - loss: 0.0588 - acc: 0.9851 - val_loss: 0.0783 - val_acc: 0.9797\n",
            "Epoch 38/50\n",
            "54000/54000 [==============================] - 8s 140us/step - loss: 0.0573 - acc: 0.9850 - val_loss: 0.0783 - val_acc: 0.9785\n",
            "Epoch 39/50\n",
            "54000/54000 [==============================] - 8s 141us/step - loss: 0.0559 - acc: 0.9859 - val_loss: 0.0770 - val_acc: 0.9778\n",
            "Epoch 40/50\n",
            "54000/54000 [==============================] - 8s 142us/step - loss: 0.0544 - acc: 0.9864 - val_loss: 0.0760 - val_acc: 0.9788\n",
            "Epoch 41/50\n",
            "54000/54000 [==============================] - 8s 143us/step - loss: 0.0529 - acc: 0.9867 - val_loss: 0.0760 - val_acc: 0.9790\n",
            "Epoch 42/50\n",
            "54000/54000 [==============================] - 8s 139us/step - loss: 0.0515 - acc: 0.9871 - val_loss: 0.0748 - val_acc: 0.9798\n",
            "Epoch 43/50\n",
            "54000/54000 [==============================] - 8s 145us/step - loss: 0.0504 - acc: 0.9874 - val_loss: 0.0742 - val_acc: 0.9788\n",
            "Epoch 44/50\n",
            "54000/54000 [==============================] - 8s 149us/step - loss: 0.0491 - acc: 0.9877 - val_loss: 0.0742 - val_acc: 0.9800\n",
            "Epoch 45/50\n",
            "54000/54000 [==============================] - 8s 141us/step - loss: 0.0479 - acc: 0.9882 - val_loss: 0.0734 - val_acc: 0.9793\n",
            "Epoch 46/50\n",
            "54000/54000 [==============================] - 8s 139us/step - loss: 0.0468 - acc: 0.9885 - val_loss: 0.0724 - val_acc: 0.9798\n",
            "Epoch 47/50\n",
            "54000/54000 [==============================] - 8s 141us/step - loss: 0.0456 - acc: 0.9888 - val_loss: 0.0736 - val_acc: 0.9790\n",
            "Epoch 48/50\n",
            "54000/54000 [==============================] - 8s 141us/step - loss: 0.0445 - acc: 0.9892 - val_loss: 0.0726 - val_acc: 0.9793\n",
            "Epoch 49/50\n",
            "54000/54000 [==============================] - 8s 144us/step - loss: 0.0435 - acc: 0.9895 - val_loss: 0.0727 - val_acc: 0.9802\n",
            "Epoch 50/50\n",
            "54000/54000 [==============================] - 8s 140us/step - loss: 0.0425 - acc: 0.9901 - val_loss: 0.0727 - val_acc: 0.9802\n"
          ],
          "name": "stdout"
        }
      ]
    },
    {
      "cell_type": "code",
      "metadata": {
        "id": "z1HlJJauD15O",
        "colab_type": "code",
        "outputId": "3592653e-3f0c-4c79-d6d4-249fd6bf05b7",
        "colab": {
          "base_uri": "https://localhost:8080/",
          "height": 295
        }
      },
      "source": [
        "import matplotlib.pyplot as plot\n",
        "loss, accuracy  = expriment7.evaluate(x_test, y_test, verbose=False)\n",
        "plot.plot(expriment7_train.history['acc'])\n",
        "plot.plot(expriment7_train.history['val_acc'])\n",
        "plot.title('model accuracy')\n",
        "plot.ylabel('accuracy')\n",
        "plot.xlabel('epoch')\n",
        "plot.legend(['training', 'validation'], loc='best')\n",
        "plot.show()"
      ],
      "execution_count": 33,
      "outputs": [
        {
          "output_type": "display_data",
          "data": {
            "image/png": "[encoded data removed]",
            "text/plain": [
              "<Figure size 432x288 with 1 Axes>"
            ]
          },
          "metadata": {
            "tags": []
          }
        }
      ]
    },
    {
      "cell_type": "code",
      "metadata": {
        "id": "4XAfuDr9D4Ta",
        "colab_type": "code",
        "colab": {}
      },
      "source": [
        ""
      ],
      "execution_count": 0,
      "outputs": []
    },
    {
      "cell_type": "markdown",
      "metadata": {
        "id": "lYYVDV40H7CD",
        "colab_type": "text"
      },
      "source": [
        "Expriement 8:\n",
        "\n",
        "\n",
        "```\n",
        "a- number of hidden layers=1\n",
        "```\n",
        "\n",
        "\n",
        "```\n",
        "b- number of neurons per layer=400\n",
        "```\n",
        "\n",
        "\n",
        "```\n",
        "c- optimization algorithm=SGD\n",
        "```\n",
        "\n",
        "\n",
        "\n",
        "```\n",
        "d- loss function= cross entropy loss function\n",
        "```\n",
        "\n",
        "\n",
        "\n",
        "```\n",
        "e- number of epochs=50\n",
        "```\n",
        "\n",
        "\n",
        "```\n",
        "f- batch size=32\n",
        "```\n",
        "\n",
        "\n",
        "\n",
        "\n",
        "```\n",
        "g- activation function=Relu\n",
        "```\n",
        "\n",
        "\n",
        "\n",
        "\n",
        "\n",
        "\n",
        "\n",
        "\n",
        "\n",
        "\n",
        "\n"
      ]
    },
    {
      "cell_type": "code",
      "metadata": {
        "id": "5ghmcgOq5cKG",
        "colab_type": "code",
        "colab": {
          "base_uri": "https://localhost:8080/",
          "height": 312
        },
        "outputId": "87100827-197c-4867-98dd-db49488b1b44"
      },
      "source": [
        "expriment8=build_model(400);\n",
        "plot_model(expriment8, to_file='model_plot.png',expand_nested=True,show_shapes=True)"
      ],
      "execution_count": 34,
      "outputs": [
        {
          "output_type": "execute_result",
          "data": {
            "image/png": "[encoded data removed]",
            "text/plain": [
              "<IPython.core.display.Image object>"
            ]
          },
          "metadata": {
            "tags": []
          },
          "execution_count": 34
        }
      ]
    },
    {
      "cell_type": "code",
      "metadata": {
        "id": "aKuK9n8fIJxh",
        "colab_type": "code",
        "outputId": "daf73740-4730-4358-b220-4af7d11fd114",
        "colab": {
          "base_uri": "https://localhost:8080/",
          "height": 1000
        }
      },
      "source": [
        "expriment8.compile(keras.optimizers.rmsprop(lr=0.01),loss='categorical_crossentropy', metrics=['accuracy'])\n",
        "expriment8_train = expriment8.fit(\n",
        "    x_train, y_train,\n",
        "    batch_size=32, epochs=50,\n",
        "    validation_split=0.1\n",
        ")"
      ],
      "execution_count": 35,
      "outputs": [
        {
          "output_type": "stream",
          "text": [
            "Train on 54000 samples, validate on 6000 samples\n",
            "Epoch 1/50\n",
            "54000/54000 [==============================] - 11s 202us/step - loss: 2.1687 - acc: 0.8188 - val_loss: 0.4430 - val_acc: 0.9502\n",
            "Epoch 2/50\n",
            "54000/54000 [==============================] - 10s 194us/step - loss: 0.4827 - acc: 0.9504 - val_loss: 0.3798 - val_acc: 0.9640\n",
            "Epoch 3/50\n",
            "54000/54000 [==============================] - 11s 206us/step - loss: 0.5066 - acc: 0.9567 - val_loss: 0.4025 - val_acc: 0.9682\n",
            "Epoch 4/50\n",
            "54000/54000 [==============================] - 10s 188us/step - loss: 0.4749 - acc: 0.9618 - val_loss: 0.4303 - val_acc: 0.9672\n",
            "Epoch 5/50\n",
            "54000/54000 [==============================] - 10s 188us/step - loss: 0.4524 - acc: 0.9643 - val_loss: 0.4387 - val_acc: 0.9672\n",
            "Epoch 6/50\n",
            "54000/54000 [==============================] - 10s 187us/step - loss: 0.4338 - acc: 0.9670 - val_loss: 0.4224 - val_acc: 0.9682\n",
            "Epoch 7/50\n",
            "54000/54000 [==============================] - 10s 190us/step - loss: 0.4384 - acc: 0.9675 - val_loss: 0.4272 - val_acc: 0.9687\n",
            "Epoch 8/50\n",
            "54000/54000 [==============================] - 10s 189us/step - loss: 0.4463 - acc: 0.9677 - val_loss: 0.3703 - val_acc: 0.9735\n",
            "Epoch 9/50\n",
            "54000/54000 [==============================] - 10s 186us/step - loss: 0.4282 - acc: 0.9695 - val_loss: 0.4227 - val_acc: 0.9692\n",
            "Epoch 10/50\n",
            "54000/54000 [==============================] - 10s 190us/step - loss: 0.4168 - acc: 0.9704 - val_loss: 0.3725 - val_acc: 0.9735\n",
            "Epoch 11/50\n",
            "54000/54000 [==============================] - 10s 188us/step - loss: 0.4010 - acc: 0.9719 - val_loss: 0.4387 - val_acc: 0.9693\n",
            "Epoch 12/50\n",
            "54000/54000 [==============================] - 10s 187us/step - loss: 0.3918 - acc: 0.9724 - val_loss: 0.3739 - val_acc: 0.9740\n",
            "Epoch 13/50\n",
            "54000/54000 [==============================] - 10s 190us/step - loss: 0.3661 - acc: 0.9744 - val_loss: 0.4015 - val_acc: 0.9717\n",
            "Epoch 14/50\n",
            "54000/54000 [==============================] - 10s 187us/step - loss: 0.3424 - acc: 0.9759 - val_loss: 0.3560 - val_acc: 0.9753\n",
            "Epoch 15/50\n",
            "54000/54000 [==============================] - 10s 190us/step - loss: 0.3630 - acc: 0.9746 - val_loss: 0.3403 - val_acc: 0.9758\n",
            "Epoch 16/50\n",
            "54000/54000 [==============================] - 10s 192us/step - loss: 0.3498 - acc: 0.9759 - val_loss: 0.3519 - val_acc: 0.9752\n",
            "Epoch 17/50\n",
            "54000/54000 [==============================] - 10s 190us/step - loss: 0.3660 - acc: 0.9750 - val_loss: 0.3971 - val_acc: 0.9727\n",
            "Epoch 18/50\n",
            "54000/54000 [==============================] - 10s 190us/step - loss: 0.3429 - acc: 0.9764 - val_loss: 0.3873 - val_acc: 0.9735\n",
            "Epoch 19/50\n",
            "54000/54000 [==============================] - 10s 189us/step - loss: 0.3400 - acc: 0.9764 - val_loss: 0.4570 - val_acc: 0.9693\n",
            "Epoch 20/50\n",
            "54000/54000 [==============================] - 10s 185us/step - loss: 0.3380 - acc: 0.9769 - val_loss: 0.4213 - val_acc: 0.9713\n",
            "Epoch 21/50\n",
            "54000/54000 [==============================] - 10s 189us/step - loss: 0.3448 - acc: 0.9766 - val_loss: 0.3800 - val_acc: 0.9747\n",
            "Epoch 22/50\n",
            "54000/54000 [==============================] - 10s 188us/step - loss: 0.3271 - acc: 0.9778 - val_loss: 0.3753 - val_acc: 0.9743\n",
            "Epoch 23/50\n",
            "54000/54000 [==============================] - 10s 185us/step - loss: 0.3364 - acc: 0.9772 - val_loss: 0.3786 - val_acc: 0.9755\n",
            "Epoch 24/50\n",
            "54000/54000 [==============================] - 10s 190us/step - loss: 0.3094 - acc: 0.9785 - val_loss: 0.3591 - val_acc: 0.9760\n",
            "Epoch 25/50\n",
            "54000/54000 [==============================] - 11s 204us/step - loss: 0.3031 - acc: 0.9795 - val_loss: 0.3989 - val_acc: 0.9727\n",
            "Epoch 26/50\n",
            "54000/54000 [==============================] - 10s 190us/step - loss: 0.3007 - acc: 0.9799 - val_loss: 0.3907 - val_acc: 0.9732\n",
            "Epoch 27/50\n",
            "54000/54000 [==============================] - 10s 192us/step - loss: 0.3172 - acc: 0.9784 - val_loss: 0.4148 - val_acc: 0.9715\n",
            "Epoch 28/50\n",
            "54000/54000 [==============================] - 10s 191us/step - loss: 0.3410 - acc: 0.9771 - val_loss: 0.3449 - val_acc: 0.9775\n",
            "Epoch 29/50\n",
            "54000/54000 [==============================] - 10s 187us/step - loss: 0.3254 - acc: 0.9783 - val_loss: 0.4106 - val_acc: 0.9727\n",
            "Epoch 30/50\n",
            "54000/54000 [==============================] - 10s 191us/step - loss: 0.3152 - acc: 0.9790 - val_loss: 0.4151 - val_acc: 0.9727\n",
            "Epoch 31/50\n",
            "54000/54000 [==============================] - 10s 187us/step - loss: 0.2837 - acc: 0.9810 - val_loss: 0.3945 - val_acc: 0.9738\n",
            "Epoch 32/50\n",
            "54000/54000 [==============================] - 10s 184us/step - loss: 0.3174 - acc: 0.9786 - val_loss: 0.3983 - val_acc: 0.9733\n",
            "Epoch 33/50\n",
            "54000/54000 [==============================] - 11s 198us/step - loss: 0.2869 - acc: 0.9808 - val_loss: 0.3178 - val_acc: 0.9792\n",
            "Epoch 34/50\n",
            "54000/54000 [==============================] - 10s 193us/step - loss: 0.2905 - acc: 0.9807 - val_loss: 0.3442 - val_acc: 0.9768\n",
            "Epoch 35/50\n",
            "54000/54000 [==============================] - 10s 185us/step - loss: 0.2950 - acc: 0.9804 - val_loss: 0.4116 - val_acc: 0.9722\n",
            "Epoch 36/50\n",
            "54000/54000 [==============================] - 10s 189us/step - loss: 0.2441 - acc: 0.9837 - val_loss: 0.4136 - val_acc: 0.9718\n",
            "Epoch 37/50\n",
            "54000/54000 [==============================] - 10s 188us/step - loss: 0.2559 - acc: 0.9829 - val_loss: 0.3546 - val_acc: 0.9765\n",
            "Epoch 38/50\n",
            "54000/54000 [==============================] - 10s 186us/step - loss: 0.2657 - acc: 0.9823 - val_loss: 0.3913 - val_acc: 0.9748\n",
            "Epoch 39/50\n",
            "54000/54000 [==============================] - 10s 190us/step - loss: 0.2557 - acc: 0.9829 - val_loss: 0.3598 - val_acc: 0.9765\n",
            "Epoch 40/50\n",
            "54000/54000 [==============================] - 10s 189us/step - loss: 0.2724 - acc: 0.9818 - val_loss: 0.3616 - val_acc: 0.9757\n",
            "Epoch 41/50\n",
            "54000/54000 [==============================] - 10s 188us/step - loss: 0.2792 - acc: 0.9811 - val_loss: 0.7060 - val_acc: 0.9537\n",
            "Epoch 42/50\n",
            "54000/54000 [==============================] - 10s 188us/step - loss: 0.2901 - acc: 0.9806 - val_loss: 0.3693 - val_acc: 0.9757\n",
            "Epoch 43/50\n",
            "54000/54000 [==============================] - 10s 187us/step - loss: 0.2627 - acc: 0.9826 - val_loss: 0.3360 - val_acc: 0.9773\n",
            "Epoch 44/50\n",
            "54000/54000 [==============================] - 10s 185us/step - loss: 0.2805 - acc: 0.9812 - val_loss: 0.3482 - val_acc: 0.9763\n",
            "Epoch 45/50\n",
            "54000/54000 [==============================] - 10s 188us/step - loss: 0.2604 - acc: 0.9828 - val_loss: 0.3580 - val_acc: 0.9760\n",
            "Epoch 46/50\n",
            "54000/54000 [==============================] - 10s 188us/step - loss: 0.2535 - acc: 0.9829 - val_loss: 0.3580 - val_acc: 0.9762\n",
            "Epoch 47/50\n",
            "54000/54000 [==============================] - 10s 185us/step - loss: 0.2490 - acc: 0.9836 - val_loss: 0.3469 - val_acc: 0.9772\n",
            "Epoch 48/50\n",
            "54000/54000 [==============================] - 10s 191us/step - loss: 0.2483 - acc: 0.9836 - val_loss: 0.3217 - val_acc: 0.9787\n",
            "Epoch 49/50\n",
            "54000/54000 [==============================] - 10s 187us/step - loss: 0.2393 - acc: 0.9840 - val_loss: 0.4509 - val_acc: 0.9703\n",
            "Epoch 50/50\n",
            "54000/54000 [==============================] - 10s 185us/step - loss: 0.2553 - acc: 0.9829 - val_loss: 0.3551 - val_acc: 0.9775\n"
          ],
          "name": "stdout"
        }
      ]
    },
    {
      "cell_type": "code",
      "metadata": {
        "id": "R4SZ52LAILYL",
        "colab_type": "code",
        "outputId": "0d535601-8a0e-4ed3-f930-0aed1c751c6e",
        "colab": {
          "base_uri": "https://localhost:8080/",
          "height": 295
        }
      },
      "source": [
        "import matplotlib.pyplot as plot\n",
        "loss, accuracy  = expriment8.evaluate(x_test, y_test, verbose=False)\n",
        "plot.plot(expriment8_train.history['acc'])\n",
        "plot.plot(expriment8_train.history['val_acc'])\n",
        "plot.title('model accuracy')\n",
        "plot.ylabel('accuracy')\n",
        "plot.xlabel('epoch')\n",
        "plot.legend(['training', 'validation'], loc='best')\n",
        "plot.show()"
      ],
      "execution_count": 36,
      "outputs": [
        {
          "output_type": "display_data",
          "data": {
            "image/png": "[encoded data removed]",
            "text/plain": [
              "<Figure size 432x288 with 1 Axes>"
            ]
          },
          "metadata": {
            "tags": []
          }
        }
      ]
    },
    {
      "cell_type": "code",
      "metadata": {
        "id": "PEwlPmQuINAA",
        "colab_type": "code",
        "colab": {}
      },
      "source": [
        ""
      ],
      "execution_count": 0,
      "outputs": []
    },
    {
      "cell_type": "markdown",
      "metadata": {
        "id": "IA_Wy7nUJUk2",
        "colab_type": "text"
      },
      "source": [
        "Expriement 9:\n",
        "\n",
        "\n",
        "```\n",
        "a- number of hidden layers=1\n",
        "```\n",
        "\n",
        "\n",
        "```\n",
        "b- number of neurons per layer=400\n",
        "```\n",
        "\n",
        "\n",
        "```\n",
        "c- optimization algorithm=adam\n",
        "```\n",
        "\n",
        "\n",
        "\n",
        "```\n",
        "d- loss function= cross entropy loss function\n",
        "```\n",
        "\n",
        "\n",
        "\n",
        "```\n",
        "e- number of epochs=50\n",
        "```\n",
        "\n",
        "\n",
        "```\n",
        "f- batch size=32\n",
        "```\n",
        "\n",
        "\n",
        "\n",
        "\n",
        "```\n",
        "g- activation function=Relu\n",
        "```\n",
        "\n",
        "\n",
        "\n",
        "\n",
        "\n",
        "\n",
        "\n",
        "\n",
        "\n",
        "\n",
        "\n"
      ]
    },
    {
      "cell_type": "code",
      "metadata": {
        "id": "NUsmlTTH5kpL",
        "colab_type": "code",
        "colab": {
          "base_uri": "https://localhost:8080/",
          "height": 312
        },
        "outputId": "6a1e1d39-bcd0-42e6-a5cb-db65b0d685de"
      },
      "source": [
        "expriment9=build_model(400);\n",
        "plot_model(expriment9, to_file='model_plot.png',expand_nested=True,show_shapes=True)"
      ],
      "execution_count": 37,
      "outputs": [
        {
          "output_type": "execute_result",
          "data": {
            "image/png": "[encoded data removed]",
            "text/plain": [
              "<IPython.core.display.Image object>"
            ]
          },
          "metadata": {
            "tags": []
          },
          "execution_count": 37
        }
      ]
    },
    {
      "cell_type": "code",
      "metadata": {
        "id": "EGhVZMh0JfEm",
        "colab_type": "code",
        "outputId": "805f9f38-0422-4c7e-d277-0f82ca26f3e0",
        "colab": {
          "base_uri": "https://localhost:8080/",
          "height": 1000
        }
      },
      "source": [
        "expriment9.compile(keras.optimizers.adam(lr=0.01),loss='categorical_crossentropy', metrics=['accuracy'])\n",
        "expriment9_train = expriment9.fit(\n",
        "    x_train, y_train,\n",
        "    batch_size=32, epochs=50,\n",
        "    validation_split=0.1\n",
        ")"
      ],
      "execution_count": 38,
      "outputs": [
        {
          "output_type": "stream",
          "text": [
            "Train on 54000 samples, validate on 6000 samples\n",
            "Epoch 1/50\n",
            "54000/54000 [==============================] - 12s 228us/step - loss: 0.2638 - acc: 0.9236 - val_loss: 0.2198 - val_acc: 0.9453\n",
            "Epoch 2/50\n",
            "54000/54000 [==============================] - 11s 210us/step - loss: 0.1786 - acc: 0.9526 - val_loss: 0.1709 - val_acc: 0.9562\n",
            "Epoch 3/50\n",
            "54000/54000 [==============================] - 12s 216us/step - loss: 0.1551 - acc: 0.9608 - val_loss: 0.1813 - val_acc: 0.9547\n",
            "Epoch 4/50\n",
            "54000/54000 [==============================] - 12s 219us/step - loss: 0.1405 - acc: 0.9654 - val_loss: 0.1440 - val_acc: 0.9680\n",
            "Epoch 5/50\n",
            "54000/54000 [==============================] - 11s 210us/step - loss: 0.1308 - acc: 0.9686 - val_loss: 0.1714 - val_acc: 0.9678\n",
            "Epoch 6/50\n",
            "54000/54000 [==============================] - 11s 212us/step - loss: 0.1283 - acc: 0.9710 - val_loss: 0.1902 - val_acc: 0.9613\n",
            "Epoch 7/50\n",
            "54000/54000 [==============================] - 11s 208us/step - loss: 0.1295 - acc: 0.9724 - val_loss: 0.1997 - val_acc: 0.9618\n",
            "Epoch 8/50\n",
            "54000/54000 [==============================] - 11s 211us/step - loss: 0.1195 - acc: 0.9736 - val_loss: 0.2106 - val_acc: 0.9613\n",
            "Epoch 9/50\n",
            "54000/54000 [==============================] - 11s 211us/step - loss: 0.1077 - acc: 0.9776 - val_loss: 0.1921 - val_acc: 0.9683\n",
            "Epoch 10/50\n",
            "54000/54000 [==============================] - 11s 212us/step - loss: 0.1174 - acc: 0.9768 - val_loss: 0.1674 - val_acc: 0.9732\n",
            "Epoch 11/50\n",
            "54000/54000 [==============================] - 12s 213us/step - loss: 0.1033 - acc: 0.9787 - val_loss: 0.2221 - val_acc: 0.9670\n",
            "Epoch 12/50\n",
            "54000/54000 [==============================] - 12s 228us/step - loss: 0.1122 - acc: 0.9798 - val_loss: 0.2196 - val_acc: 0.9688\n",
            "Epoch 13/50\n",
            "54000/54000 [==============================] - 12s 229us/step - loss: 0.1063 - acc: 0.9811 - val_loss: 0.2227 - val_acc: 0.9667\n",
            "Epoch 14/50\n",
            "54000/54000 [==============================] - 11s 212us/step - loss: 0.1139 - acc: 0.9809 - val_loss: 0.2614 - val_acc: 0.9660\n",
            "Epoch 15/50\n",
            "54000/54000 [==============================] - 11s 209us/step - loss: 0.1140 - acc: 0.9818 - val_loss: 0.2759 - val_acc: 0.9670\n",
            "Epoch 16/50\n",
            "54000/54000 [==============================] - 11s 212us/step - loss: 0.1011 - acc: 0.9832 - val_loss: 0.2607 - val_acc: 0.9700\n",
            "Epoch 17/50\n",
            "54000/54000 [==============================] - 11s 212us/step - loss: 0.1203 - acc: 0.9823 - val_loss: 0.2605 - val_acc: 0.9663\n",
            "Epoch 18/50\n",
            "54000/54000 [==============================] - 11s 209us/step - loss: 0.0968 - acc: 0.9846 - val_loss: 0.2328 - val_acc: 0.9730\n",
            "Epoch 19/50\n",
            "54000/54000 [==============================] - 11s 213us/step - loss: 0.1231 - acc: 0.9828 - val_loss: 0.2780 - val_acc: 0.9668\n",
            "Epoch 20/50\n",
            "54000/54000 [==============================] - 11s 211us/step - loss: 0.1127 - acc: 0.9842 - val_loss: 0.3077 - val_acc: 0.9693\n",
            "Epoch 21/50\n",
            "54000/54000 [==============================] - 11s 213us/step - loss: 0.1102 - acc: 0.9854 - val_loss: 0.3224 - val_acc: 0.9675\n",
            "Epoch 22/50\n",
            "54000/54000 [==============================] - 12s 215us/step - loss: 0.1130 - acc: 0.9845 - val_loss: 0.3066 - val_acc: 0.9680\n",
            "Epoch 23/50\n",
            "54000/54000 [==============================] - 11s 212us/step - loss: 0.1187 - acc: 0.9842 - val_loss: 0.2523 - val_acc: 0.9730\n",
            "Epoch 24/50\n",
            "54000/54000 [==============================] - 11s 213us/step - loss: 0.1108 - acc: 0.9854 - val_loss: 0.3203 - val_acc: 0.9687\n",
            "Epoch 25/50\n",
            "54000/54000 [==============================] - 11s 210us/step - loss: 0.1151 - acc: 0.9862 - val_loss: 0.2842 - val_acc: 0.9712\n",
            "Epoch 26/50\n",
            "54000/54000 [==============================] - 11s 212us/step - loss: 0.1329 - acc: 0.9848 - val_loss: 0.3310 - val_acc: 0.9705\n",
            "Epoch 27/50\n",
            "54000/54000 [==============================] - 12s 214us/step - loss: 0.1210 - acc: 0.9864 - val_loss: 0.3101 - val_acc: 0.9727\n",
            "Epoch 28/50\n",
            "54000/54000 [==============================] - 11s 208us/step - loss: 0.1188 - acc: 0.9875 - val_loss: 0.3129 - val_acc: 0.9725\n",
            "Epoch 29/50\n",
            "54000/54000 [==============================] - 11s 213us/step - loss: 0.1324 - acc: 0.9865 - val_loss: 0.3325 - val_acc: 0.9732\n",
            "Epoch 30/50\n",
            "54000/54000 [==============================] - 12s 215us/step - loss: 0.1294 - acc: 0.9875 - val_loss: 0.3104 - val_acc: 0.9732\n",
            "Epoch 31/50\n",
            "54000/54000 [==============================] - 12s 218us/step - loss: 0.1370 - acc: 0.9870 - val_loss: 0.3145 - val_acc: 0.9732\n",
            "Epoch 32/50\n",
            "54000/54000 [==============================] - 11s 213us/step - loss: 0.1345 - acc: 0.9877 - val_loss: 0.3696 - val_acc: 0.9715\n",
            "Epoch 33/50\n",
            "54000/54000 [==============================] - 11s 209us/step - loss: 0.1585 - acc: 0.9859 - val_loss: 0.3640 - val_acc: 0.9717\n",
            "Epoch 34/50\n",
            "54000/54000 [==============================] - 11s 212us/step - loss: 0.1460 - acc: 0.9871 - val_loss: 0.3939 - val_acc: 0.9705\n",
            "Epoch 35/50\n",
            "54000/54000 [==============================] - 11s 210us/step - loss: 0.1569 - acc: 0.9866 - val_loss: 0.3422 - val_acc: 0.9747\n",
            "Epoch 36/50\n",
            "54000/54000 [==============================] - 11s 206us/step - loss: 0.1746 - acc: 0.9859 - val_loss: 0.3441 - val_acc: 0.9753\n",
            "Epoch 37/50\n",
            "54000/54000 [==============================] - 11s 211us/step - loss: 0.1742 - acc: 0.9859 - val_loss: 0.4079 - val_acc: 0.9718\n",
            "Epoch 38/50\n",
            "54000/54000 [==============================] - 11s 210us/step - loss: 0.1691 - acc: 0.9865 - val_loss: 0.4434 - val_acc: 0.9682\n",
            "Epoch 39/50\n",
            "54000/54000 [==============================] - 11s 208us/step - loss: 0.1612 - acc: 0.9873 - val_loss: 0.3453 - val_acc: 0.9743\n",
            "Epoch 40/50\n",
            "54000/54000 [==============================] - 12s 228us/step - loss: 0.1647 - acc: 0.9868 - val_loss: 0.3643 - val_acc: 0.9742\n",
            "Epoch 41/50\n",
            "54000/54000 [==============================] - 12s 229us/step - loss: 0.1580 - acc: 0.9880 - val_loss: 0.3017 - val_acc: 0.9783\n",
            "Epoch 42/50\n",
            "54000/54000 [==============================] - 12s 221us/step - loss: 0.1593 - acc: 0.9878 - val_loss: 0.3701 - val_acc: 0.9743\n",
            "Epoch 43/50\n",
            "54000/54000 [==============================] - 12s 218us/step - loss: 0.1683 - acc: 0.9875 - val_loss: 0.3040 - val_acc: 0.9787\n",
            "Epoch 44/50\n",
            "54000/54000 [==============================] - 12s 215us/step - loss: 0.2020 - acc: 0.9855 - val_loss: 0.4039 - val_acc: 0.9722\n",
            "Epoch 45/50\n",
            "54000/54000 [==============================] - 11s 212us/step - loss: 0.1774 - acc: 0.9869 - val_loss: 0.3491 - val_acc: 0.9752\n",
            "Epoch 46/50\n",
            "54000/54000 [==============================] - 11s 208us/step - loss: 0.1620 - acc: 0.9880 - val_loss: 0.3725 - val_acc: 0.9747\n",
            "Epoch 47/50\n",
            "54000/54000 [==============================] - 11s 208us/step - loss: 0.1768 - acc: 0.9872 - val_loss: 0.3474 - val_acc: 0.9765\n",
            "Epoch 48/50\n",
            "54000/54000 [==============================] - 11s 212us/step - loss: 0.1864 - acc: 0.9864 - val_loss: 0.3928 - val_acc: 0.9735\n",
            "Epoch 49/50\n",
            "54000/54000 [==============================] - 11s 211us/step - loss: 0.2066 - acc: 0.9856 - val_loss: 0.4176 - val_acc: 0.9722\n",
            "Epoch 50/50\n",
            "54000/54000 [==============================] - 12s 216us/step - loss: 0.1945 - acc: 0.9859 - val_loss: 0.3650 - val_acc: 0.9750\n"
          ],
          "name": "stdout"
        }
      ]
    },
    {
      "cell_type": "code",
      "metadata": {
        "id": "g4dfdN0XJnBb",
        "colab_type": "code",
        "outputId": "9830d223-2a13-4d1e-f405-9cf44b2d84ac",
        "colab": {
          "base_uri": "https://localhost:8080/",
          "height": 295
        }
      },
      "source": [
        "import matplotlib.pyplot as plot\n",
        "loss, accuracy  = expriment9.evaluate(x_test, y_test, verbose=False)\n",
        "plot.plot(expriment9_train.history['acc'])\n",
        "plot.plot(expriment9_train.history['val_acc'])\n",
        "plot.title('model accuracy')\n",
        "plot.ylabel('accuracy')\n",
        "plot.xlabel('epoch')\n",
        "plot.legend(['training', 'validation'], loc='best')\n",
        "plot.show()"
      ],
      "execution_count": 39,
      "outputs": [
        {
          "output_type": "display_data",
          "data": {
            "image/png": "[encoded data removed]",
            "text/plain": [
              "<Figure size 432x288 with 1 Axes>"
            ]
          },
          "metadata": {
            "tags": []
          }
        }
      ]
    },
    {
      "cell_type": "markdown",
      "metadata": {
        "id": "4w-yMxbeNGaw",
        "colab_type": "text"
      },
      "source": [
        "Expriement 10:\n",
        "\n",
        "\n",
        "```\n",
        "a- number of hidden layers=1\n",
        "```\n",
        "\n",
        "\n",
        "```\n",
        "b- number of neurons per layer=400\n",
        "```\n",
        "\n",
        "\n",
        "```\n",
        "c- optimization algorithm=SGD\n",
        "```\n",
        "\n",
        "\n",
        "\n",
        "```\n",
        "d- loss function= cross entropy loss function\n",
        "```\n",
        "\n",
        "\n",
        "\n",
        "```\n",
        "e- number of epochs=100\n",
        "```\n",
        "\n",
        "\n",
        "```\n",
        "f- batch size=32\n",
        "```\n",
        "\n",
        "\n",
        "\n",
        "\n",
        "```\n",
        "g- activation function=Relu\n",
        "```\n",
        "\n",
        "\n",
        "\n",
        "\n",
        "\n",
        "\n",
        "\n",
        "\n",
        "\n",
        "\n",
        "\n"
      ]
    },
    {
      "cell_type": "code",
      "metadata": {
        "id": "kFLrTX655sFp",
        "colab_type": "code",
        "colab": {
          "base_uri": "https://localhost:8080/",
          "height": 312
        },
        "outputId": "6b9b8ba3-b493-480a-ab4e-de0f757e82e2"
      },
      "source": [
        "expriment10=build_model(400);\n",
        "plot_model(expriment10, to_file='model_plot.png',expand_nested=True,show_shapes=True)"
      ],
      "execution_count": 40,
      "outputs": [
        {
          "output_type": "execute_result",
          "data": {
            "image/png": "[encoded data removed]",
            "text/plain": [
              "<IPython.core.display.Image object>"
            ]
          },
          "metadata": {
            "tags": []
          },
          "execution_count": 40
        }
      ]
    },
    {
      "cell_type": "code",
      "metadata": {
        "id": "Rwr127YlJoWG",
        "colab_type": "code",
        "outputId": "d6aa6c8d-97d2-4139-a2e0-bbe2548276d4",
        "colab": {
          "base_uri": "https://localhost:8080/",
          "height": 1000
        }
      },
      "source": [
        "# train model\n",
        "expriment10.compile(keras.optimizers.SGD(lr=0.01,momentum=0,decay=0,nesterov=False),loss='categorical_crossentropy', metrics=['accuracy'])\n",
        "expriment10_train = expriment10.fit(\n",
        "    x_train, y_train,\n",
        "    batch_size=32, epochs=100,\n",
        "    validation_split=0.1\n",
        ")"
      ],
      "execution_count": 41,
      "outputs": [
        {
          "output_type": "stream",
          "text": [
            "Train on 54000 samples, validate on 6000 samples\n",
            "Epoch 1/100\n",
            "54000/54000 [==============================] - 8s 157us/step - loss: 0.6577 - acc: 0.8392 - val_loss: 0.3140 - val_acc: 0.9192\n",
            "Epoch 2/100\n",
            "54000/54000 [==============================] - 8s 147us/step - loss: 0.3391 - acc: 0.9063 - val_loss: 0.2513 - val_acc: 0.9327\n",
            "Epoch 3/100\n",
            "54000/54000 [==============================] - 8s 152us/step - loss: 0.2878 - acc: 0.9199 - val_loss: 0.2205 - val_acc: 0.9407\n",
            "Epoch 4/100\n",
            "54000/54000 [==============================] - 8s 147us/step - loss: 0.2563 - acc: 0.9282 - val_loss: 0.2002 - val_acc: 0.9458\n",
            "Epoch 5/100\n",
            "54000/54000 [==============================] - 8s 144us/step - loss: 0.2335 - acc: 0.9347 - val_loss: 0.1844 - val_acc: 0.9505\n",
            "Epoch 6/100\n",
            "54000/54000 [==============================] - 8s 144us/step - loss: 0.2150 - acc: 0.9398 - val_loss: 0.1704 - val_acc: 0.9552\n",
            "Epoch 7/100\n",
            "54000/54000 [==============================] - 8s 145us/step - loss: 0.1993 - acc: 0.9444 - val_loss: 0.1602 - val_acc: 0.9578\n",
            "Epoch 8/100\n",
            "54000/54000 [==============================] - 8s 143us/step - loss: 0.1857 - acc: 0.9477 - val_loss: 0.1504 - val_acc: 0.9613\n",
            "Epoch 9/100\n",
            "54000/54000 [==============================] - 8s 143us/step - loss: 0.1739 - acc: 0.9508 - val_loss: 0.1431 - val_acc: 0.9622\n",
            "Epoch 10/100\n",
            "54000/54000 [==============================] - 8s 153us/step - loss: 0.1635 - acc: 0.9539 - val_loss: 0.1366 - val_acc: 0.9647\n",
            "Epoch 11/100\n",
            "54000/54000 [==============================] - 8s 143us/step - loss: 0.1539 - acc: 0.9564 - val_loss: 0.1299 - val_acc: 0.9660\n",
            "Epoch 12/100\n",
            "54000/54000 [==============================] - 8s 143us/step - loss: 0.1456 - acc: 0.9594 - val_loss: 0.1249 - val_acc: 0.9677\n",
            "Epoch 13/100\n",
            "54000/54000 [==============================] - 8s 141us/step - loss: 0.1382 - acc: 0.9614 - val_loss: 0.1198 - val_acc: 0.9687\n",
            "Epoch 14/100\n",
            "54000/54000 [==============================] - 8s 145us/step - loss: 0.1313 - acc: 0.9640 - val_loss: 0.1166 - val_acc: 0.9685\n",
            "Epoch 15/100\n",
            "54000/54000 [==============================] - 8s 141us/step - loss: 0.1250 - acc: 0.9653 - val_loss: 0.1128 - val_acc: 0.9700\n",
            "Epoch 16/100\n",
            "54000/54000 [==============================] - 8s 143us/step - loss: 0.1194 - acc: 0.9672 - val_loss: 0.1093 - val_acc: 0.9717\n",
            "Epoch 17/100\n",
            "54000/54000 [==============================] - 8s 140us/step - loss: 0.1140 - acc: 0.9684 - val_loss: 0.1073 - val_acc: 0.9713\n",
            "Epoch 18/100\n",
            "54000/54000 [==============================] - 8s 144us/step - loss: 0.1093 - acc: 0.9707 - val_loss: 0.1043 - val_acc: 0.9733\n",
            "Epoch 19/100\n",
            "54000/54000 [==============================] - 8s 142us/step - loss: 0.1048 - acc: 0.9717 - val_loss: 0.1010 - val_acc: 0.9735\n",
            "Epoch 20/100\n",
            "54000/54000 [==============================] - 8s 140us/step - loss: 0.1007 - acc: 0.9730 - val_loss: 0.0996 - val_acc: 0.9738\n",
            "Epoch 21/100\n",
            "54000/54000 [==============================] - 8s 143us/step - loss: 0.0968 - acc: 0.9739 - val_loss: 0.0967 - val_acc: 0.9743\n",
            "Epoch 22/100\n",
            "54000/54000 [==============================] - 8s 142us/step - loss: 0.0932 - acc: 0.9750 - val_loss: 0.0943 - val_acc: 0.9752\n",
            "Epoch 23/100\n",
            "54000/54000 [==============================] - 7s 139us/step - loss: 0.0898 - acc: 0.9758 - val_loss: 0.0928 - val_acc: 0.9750\n",
            "Epoch 24/100\n",
            "54000/54000 [==============================] - 7s 138us/step - loss: 0.0867 - acc: 0.9764 - val_loss: 0.0908 - val_acc: 0.9752\n",
            "Epoch 25/100\n",
            "54000/54000 [==============================] - 8s 143us/step - loss: 0.0838 - acc: 0.9778 - val_loss: 0.0890 - val_acc: 0.9770\n",
            "Epoch 26/100\n",
            "54000/54000 [==============================] - 9s 159us/step - loss: 0.0810 - acc: 0.9784 - val_loss: 0.0883 - val_acc: 0.9765\n",
            "Epoch 27/100\n",
            "54000/54000 [==============================] - 8s 145us/step - loss: 0.0783 - acc: 0.9790 - val_loss: 0.0865 - val_acc: 0.9775\n",
            "Epoch 28/100\n",
            "54000/54000 [==============================] - 8s 140us/step - loss: 0.0758 - acc: 0.9800 - val_loss: 0.0858 - val_acc: 0.9763\n",
            "Epoch 29/100\n",
            "54000/54000 [==============================] - 8s 141us/step - loss: 0.0734 - acc: 0.9804 - val_loss: 0.0843 - val_acc: 0.9768\n",
            "Epoch 30/100\n",
            "54000/54000 [==============================] - 8s 142us/step - loss: 0.0712 - acc: 0.9811 - val_loss: 0.0826 - val_acc: 0.9780\n",
            "Epoch 31/100\n",
            "54000/54000 [==============================] - 8s 140us/step - loss: 0.0691 - acc: 0.9817 - val_loss: 0.0823 - val_acc: 0.9785\n",
            "Epoch 32/100\n",
            "54000/54000 [==============================] - 8s 141us/step - loss: 0.0671 - acc: 0.9825 - val_loss: 0.0804 - val_acc: 0.9780\n",
            "Epoch 33/100\n",
            "54000/54000 [==============================] - 8s 143us/step - loss: 0.0654 - acc: 0.9828 - val_loss: 0.0804 - val_acc: 0.9788\n",
            "Epoch 34/100\n",
            "54000/54000 [==============================] - 8s 142us/step - loss: 0.0633 - acc: 0.9832 - val_loss: 0.0790 - val_acc: 0.9798\n",
            "Epoch 35/100\n",
            "54000/54000 [==============================] - 8s 142us/step - loss: 0.0616 - acc: 0.9840 - val_loss: 0.0783 - val_acc: 0.9790\n",
            "Epoch 36/100\n",
            "54000/54000 [==============================] - 8s 142us/step - loss: 0.0599 - acc: 0.9846 - val_loss: 0.0778 - val_acc: 0.9793\n",
            "Epoch 37/100\n",
            "54000/54000 [==============================] - 8s 142us/step - loss: 0.0583 - acc: 0.9847 - val_loss: 0.0776 - val_acc: 0.9802\n",
            "Epoch 38/100\n",
            "54000/54000 [==============================] - 8s 142us/step - loss: 0.0568 - acc: 0.9851 - val_loss: 0.0749 - val_acc: 0.9802\n",
            "Epoch 39/100\n",
            "54000/54000 [==============================] - 8s 140us/step - loss: 0.0554 - acc: 0.9859 - val_loss: 0.0746 - val_acc: 0.9795\n",
            "Epoch 40/100\n",
            "54000/54000 [==============================] - 8s 139us/step - loss: 0.0539 - acc: 0.9864 - val_loss: 0.0744 - val_acc: 0.9800\n",
            "Epoch 41/100\n",
            "54000/54000 [==============================] - 8s 140us/step - loss: 0.0525 - acc: 0.9869 - val_loss: 0.0750 - val_acc: 0.9807\n",
            "Epoch 42/100\n",
            "54000/54000 [==============================] - 8s 143us/step - loss: 0.0512 - acc: 0.9872 - val_loss: 0.0746 - val_acc: 0.9810\n",
            "Epoch 43/100\n",
            "54000/54000 [==============================] - 8s 143us/step - loss: 0.0500 - acc: 0.9874 - val_loss: 0.0729 - val_acc: 0.9805\n",
            "Epoch 44/100\n",
            "54000/54000 [==============================] - 7s 138us/step - loss: 0.0487 - acc: 0.9878 - val_loss: 0.0718 - val_acc: 0.9803\n",
            "Epoch 45/100\n",
            "54000/54000 [==============================] - 8s 142us/step - loss: 0.0476 - acc: 0.9879 - val_loss: 0.0718 - val_acc: 0.9813\n",
            "Epoch 46/100\n",
            "54000/54000 [==============================] - 8s 141us/step - loss: 0.0465 - acc: 0.9883 - val_loss: 0.0713 - val_acc: 0.9808\n",
            "Epoch 47/100\n",
            "54000/54000 [==============================] - 8s 142us/step - loss: 0.0454 - acc: 0.9887 - val_loss: 0.0705 - val_acc: 0.9813\n",
            "Epoch 48/100\n",
            "54000/54000 [==============================] - 8s 141us/step - loss: 0.0443 - acc: 0.9893 - val_loss: 0.0696 - val_acc: 0.9808\n",
            "Epoch 49/100\n",
            "54000/54000 [==============================] - 8s 147us/step - loss: 0.0433 - acc: 0.9894 - val_loss: 0.0703 - val_acc: 0.9803\n",
            "Epoch 50/100\n",
            "54000/54000 [==============================] - 8s 153us/step - loss: 0.0423 - acc: 0.9898 - val_loss: 0.0692 - val_acc: 0.9820\n",
            "Epoch 51/100\n",
            "54000/54000 [==============================] - 8s 143us/step - loss: 0.0412 - acc: 0.9900 - val_loss: 0.0697 - val_acc: 0.9812\n",
            "Epoch 52/100\n",
            "54000/54000 [==============================] - 8s 140us/step - loss: 0.0404 - acc: 0.9901 - val_loss: 0.0695 - val_acc: 0.9808\n",
            "Epoch 53/100\n",
            "54000/54000 [==============================] - 8s 142us/step - loss: 0.0394 - acc: 0.9910 - val_loss: 0.0689 - val_acc: 0.9810\n",
            "Epoch 54/100\n",
            "54000/54000 [==============================] - 8s 140us/step - loss: 0.0387 - acc: 0.9910 - val_loss: 0.0682 - val_acc: 0.9807\n",
            "Epoch 55/100\n",
            "54000/54000 [==============================] - 8s 141us/step - loss: 0.0377 - acc: 0.9913 - val_loss: 0.0685 - val_acc: 0.9818\n",
            "Epoch 56/100\n",
            "54000/54000 [==============================] - 8s 140us/step - loss: 0.0369 - acc: 0.9916 - val_loss: 0.0695 - val_acc: 0.9803\n",
            "Epoch 57/100\n",
            "54000/54000 [==============================] - 8s 143us/step - loss: 0.0362 - acc: 0.9922 - val_loss: 0.0678 - val_acc: 0.9813\n",
            "Epoch 58/100\n",
            "54000/54000 [==============================] - 8s 142us/step - loss: 0.0353 - acc: 0.9922 - val_loss: 0.0665 - val_acc: 0.9818\n",
            "Epoch 59/100\n",
            "54000/54000 [==============================] - 8s 142us/step - loss: 0.0346 - acc: 0.9924 - val_loss: 0.0670 - val_acc: 0.9803\n",
            "Epoch 60/100\n",
            "54000/54000 [==============================] - 8s 141us/step - loss: 0.0339 - acc: 0.9926 - val_loss: 0.0667 - val_acc: 0.9812\n",
            "Epoch 61/100\n",
            "54000/54000 [==============================] - 8s 141us/step - loss: 0.0332 - acc: 0.9927 - val_loss: 0.0660 - val_acc: 0.9817\n",
            "Epoch 62/100\n",
            "54000/54000 [==============================] - 8s 144us/step - loss: 0.0325 - acc: 0.9931 - val_loss: 0.0657 - val_acc: 0.9818\n",
            "Epoch 63/100\n",
            "54000/54000 [==============================] - 8s 142us/step - loss: 0.0319 - acc: 0.9933 - val_loss: 0.0651 - val_acc: 0.9818\n",
            "Epoch 64/100\n",
            "54000/54000 [==============================] - 8s 142us/step - loss: 0.0311 - acc: 0.9935 - val_loss: 0.0657 - val_acc: 0.9818\n",
            "Epoch 65/100\n",
            "54000/54000 [==============================] - 8s 144us/step - loss: 0.0306 - acc: 0.9936 - val_loss: 0.0657 - val_acc: 0.9812\n",
            "Epoch 66/100\n",
            "54000/54000 [==============================] - 8s 150us/step - loss: 0.0300 - acc: 0.9939 - val_loss: 0.0651 - val_acc: 0.9813\n",
            "Epoch 67/100\n",
            "54000/54000 [==============================] - 8s 147us/step - loss: 0.0293 - acc: 0.9941 - val_loss: 0.0652 - val_acc: 0.9822\n",
            "Epoch 68/100\n",
            "54000/54000 [==============================] - 8s 141us/step - loss: 0.0287 - acc: 0.9941 - val_loss: 0.0652 - val_acc: 0.9822\n",
            "Epoch 69/100\n",
            "54000/54000 [==============================] - 8s 142us/step - loss: 0.0282 - acc: 0.9944 - val_loss: 0.0643 - val_acc: 0.9817\n",
            "Epoch 70/100\n",
            "54000/54000 [==============================] - 8s 141us/step - loss: 0.0276 - acc: 0.9945 - val_loss: 0.0639 - val_acc: 0.9825\n",
            "Epoch 71/100\n",
            "54000/54000 [==============================] - 8s 139us/step - loss: 0.0271 - acc: 0.9948 - val_loss: 0.0646 - val_acc: 0.9822\n",
            "Epoch 72/100\n",
            "54000/54000 [==============================] - 8s 141us/step - loss: 0.0265 - acc: 0.9949 - val_loss: 0.0642 - val_acc: 0.9815\n",
            "Epoch 73/100\n",
            "54000/54000 [==============================] - 8s 141us/step - loss: 0.0260 - acc: 0.9952 - val_loss: 0.0647 - val_acc: 0.9813\n",
            "Epoch 74/100\n",
            "54000/54000 [==============================] - 8s 142us/step - loss: 0.0256 - acc: 0.9953 - val_loss: 0.0641 - val_acc: 0.9818\n",
            "Epoch 75/100\n",
            "54000/54000 [==============================] - 8s 140us/step - loss: 0.0251 - acc: 0.9954 - val_loss: 0.0644 - val_acc: 0.9818\n",
            "Epoch 76/100\n",
            "54000/54000 [==============================] - 8s 144us/step - loss: 0.0246 - acc: 0.9956 - val_loss: 0.0636 - val_acc: 0.9823\n",
            "Epoch 77/100\n",
            "54000/54000 [==============================] - 8s 145us/step - loss: 0.0241 - acc: 0.9959 - val_loss: 0.0633 - val_acc: 0.9822\n",
            "Epoch 78/100\n",
            "54000/54000 [==============================] - 8s 146us/step - loss: 0.0237 - acc: 0.9961 - val_loss: 0.0635 - val_acc: 0.9813\n",
            "Epoch 79/100\n",
            "54000/54000 [==============================] - 8s 145us/step - loss: 0.0233 - acc: 0.9961 - val_loss: 0.0637 - val_acc: 0.9820\n",
            "Epoch 80/100\n",
            "54000/54000 [==============================] - 8s 145us/step - loss: 0.0228 - acc: 0.9963 - val_loss: 0.0628 - val_acc: 0.9827\n",
            "Epoch 81/100\n",
            "54000/54000 [==============================] - 8s 146us/step - loss: 0.0225 - acc: 0.9961 - val_loss: 0.0628 - val_acc: 0.9818\n",
            "Epoch 82/100\n",
            "54000/54000 [==============================] - 8s 142us/step - loss: 0.0220 - acc: 0.9965 - val_loss: 0.0623 - val_acc: 0.9830\n",
            "Epoch 83/100\n",
            "54000/54000 [==============================] - 8s 142us/step - loss: 0.0216 - acc: 0.9965 - val_loss: 0.0638 - val_acc: 0.9822\n",
            "Epoch 84/100\n",
            "54000/54000 [==============================] - 8s 143us/step - loss: 0.0212 - acc: 0.9967 - val_loss: 0.0635 - val_acc: 0.9823\n",
            "Epoch 85/100\n",
            "54000/54000 [==============================] - 8s 143us/step - loss: 0.0209 - acc: 0.9968 - val_loss: 0.0631 - val_acc: 0.9827\n",
            "Epoch 86/100\n",
            "54000/54000 [==============================] - 8s 145us/step - loss: 0.0205 - acc: 0.9970 - val_loss: 0.0626 - val_acc: 0.9822\n",
            "Epoch 87/100\n",
            "54000/54000 [==============================] - 8s 143us/step - loss: 0.0201 - acc: 0.9973 - val_loss: 0.0631 - val_acc: 0.9825\n",
            "Epoch 88/100\n",
            "54000/54000 [==============================] - 8s 145us/step - loss: 0.0198 - acc: 0.9973 - val_loss: 0.0633 - val_acc: 0.9822\n",
            "Epoch 89/100\n",
            "54000/54000 [==============================] - 8s 155us/step - loss: 0.0195 - acc: 0.9975 - val_loss: 0.0629 - val_acc: 0.9825\n",
            "Epoch 90/100\n",
            "54000/54000 [==============================] - 8s 145us/step - loss: 0.0191 - acc: 0.9974 - val_loss: 0.0627 - val_acc: 0.9822\n",
            "Epoch 91/100\n",
            "54000/54000 [==============================] - 8s 145us/step - loss: 0.0188 - acc: 0.9976 - val_loss: 0.0627 - val_acc: 0.9822\n",
            "Epoch 92/100\n",
            "54000/54000 [==============================] - 8s 151us/step - loss: 0.0185 - acc: 0.9977 - val_loss: 0.0623 - val_acc: 0.9827\n",
            "Epoch 93/100\n",
            "54000/54000 [==============================] - 8s 145us/step - loss: 0.0181 - acc: 0.9977 - val_loss: 0.0620 - val_acc: 0.9832\n",
            "Epoch 94/100\n",
            "54000/54000 [==============================] - 8s 144us/step - loss: 0.0179 - acc: 0.9977 - val_loss: 0.0621 - val_acc: 0.9832\n",
            "Epoch 95/100\n",
            "54000/54000 [==============================] - 8s 147us/step - loss: 0.0176 - acc: 0.9978 - val_loss: 0.0617 - val_acc: 0.9832\n",
            "Epoch 96/100\n",
            "54000/54000 [==============================] - 8s 148us/step - loss: 0.0172 - acc: 0.9978 - val_loss: 0.0627 - val_acc: 0.9825\n",
            "Epoch 97/100\n",
            "54000/54000 [==============================] - 8s 147us/step - loss: 0.0170 - acc: 0.9980 - val_loss: 0.0618 - val_acc: 0.9828\n",
            "Epoch 98/100\n",
            "54000/54000 [==============================] - 8s 145us/step - loss: 0.0168 - acc: 0.9979 - val_loss: 0.0627 - val_acc: 0.9817\n",
            "Epoch 99/100\n",
            "54000/54000 [==============================] - 8s 148us/step - loss: 0.0164 - acc: 0.9981 - val_loss: 0.0624 - val_acc: 0.9822\n",
            "Epoch 100/100\n",
            "54000/54000 [==============================] - 8s 148us/step - loss: 0.0162 - acc: 0.9981 - val_loss: 0.0619 - val_acc: 0.9817\n"
          ],
          "name": "stdout"
        }
      ]
    },
    {
      "cell_type": "code",
      "metadata": {
        "id": "-PDTOAcaNFMK",
        "colab_type": "code",
        "outputId": "4c407323-70e1-43b3-9ddf-191d5735f74d",
        "colab": {
          "base_uri": "https://localhost:8080/",
          "height": 295
        }
      },
      "source": [
        "import matplotlib.pyplot as plot\n",
        "loss, accuracy  = expriment10.evaluate(x_test, y_test, verbose=False)\n",
        "plot.plot(expriment10_train.history['acc'])\n",
        "plot.plot(expriment10_train.history['val_acc'])\n",
        "plot.title('model accuracy')\n",
        "plot.ylabel('accuracy')\n",
        "plot.xlabel('epoch')\n",
        "plot.legend(['training', 'validation'], loc='best')\n",
        "plot.show()"
      ],
      "execution_count": 42,
      "outputs": [
        {
          "output_type": "display_data",
          "data": {
            "image/png": "[encoded data removed]",
            "text/plain": [
              "<Figure size 432x288 with 1 Axes>"
            ]
          },
          "metadata": {
            "tags": []
          }
        }
      ]
    },
    {
      "cell_type": "markdown",
      "metadata": {
        "id": "ah2UmK4sNT_y",
        "colab_type": "text"
      },
      "source": [
        "Expriement 11:\n",
        "\n",
        "\n",
        "```\n",
        "a- number of hidden layers=1\n",
        "```\n",
        "\n",
        "\n",
        "```\n",
        "b- number of neurons per layer=400\n",
        "```\n",
        "\n",
        "\n",
        "```\n",
        "c- optimization algorithm=rmsprop\n",
        "```\n",
        "\n",
        "\n",
        "\n",
        "```\n",
        "d- loss function= cross entropy loss function\n",
        "```\n",
        "\n",
        "\n",
        "\n",
        "```\n",
        "e- number of epochs=100\n",
        "```\n",
        "\n",
        "\n",
        "```\n",
        "f- batch size=32\n",
        "```\n",
        "\n",
        "\n",
        "\n",
        "\n",
        "```\n",
        "g- activation function=Relu\n",
        "```\n",
        "\n",
        "\n",
        "\n",
        "\n",
        "\n",
        "\n",
        "\n",
        "\n",
        "\n",
        "\n",
        "\n"
      ]
    },
    {
      "cell_type": "code",
      "metadata": {
        "id": "x8YGhhgK52BM",
        "colab_type": "code",
        "colab": {
          "base_uri": "https://localhost:8080/",
          "height": 312
        },
        "outputId": "bdcfa9be-f6e4-436b-bf54-e19962e426a9"
      },
      "source": [
        "expriment11=build_model(400);\n",
        "plot_model(expriment11, to_file='model_plot.png',expand_nested=True,show_shapes=True)"
      ],
      "execution_count": 43,
      "outputs": [
        {
          "output_type": "execute_result",
          "data": {
            "image/png": "[encoded data removed]",
            "text/plain": [
              "<IPython.core.display.Image object>"
            ]
          },
          "metadata": {
            "tags": []
          },
          "execution_count": 43
        }
      ]
    },
    {
      "cell_type": "code",
      "metadata": {
        "id": "0LiNxG8iNTS2",
        "colab_type": "code",
        "outputId": "c877d6a6-93ed-495c-ed35-acdff9173d5e",
        "colab": {
          "base_uri": "https://localhost:8080/",
          "height": 1000
        }
      },
      "source": [
        "expriment11.compile(keras.optimizers.rmsprop(lr=0.01),loss='categorical_crossentropy', metrics=['accuracy'])\n",
        "expriment11_train = expriment11.fit(\n",
        "    x_train, y_train,\n",
        "    batch_size=32, epochs=100,\n",
        "    validation_split=0.1\n",
        ")"
      ],
      "execution_count": 44,
      "outputs": [
        {
          "output_type": "stream",
          "text": [
            "Train on 54000 samples, validate on 6000 samples\n",
            "Epoch 1/100\n",
            "54000/54000 [==============================] - 11s 202us/step - loss: 3.2926 - acc: 0.7528 - val_loss: 0.4855 - val_acc: 0.9447\n",
            "Epoch 2/100\n",
            "54000/54000 [==============================] - 10s 192us/step - loss: 0.5535 - acc: 0.9450 - val_loss: 0.4230 - val_acc: 0.9615\n",
            "Epoch 3/100\n",
            "54000/54000 [==============================] - 11s 195us/step - loss: 0.6246 - acc: 0.9500 - val_loss: 0.6569 - val_acc: 0.9530\n",
            "Epoch 4/100\n",
            "54000/54000 [==============================] - 11s 203us/step - loss: 0.6024 - acc: 0.9553 - val_loss: 0.4475 - val_acc: 0.9658\n",
            "Epoch 5/100\n",
            "54000/54000 [==============================] - 11s 202us/step - loss: 0.5541 - acc: 0.9591 - val_loss: 0.5497 - val_acc: 0.9617\n",
            "Epoch 6/100\n",
            "54000/54000 [==============================] - 10s 194us/step - loss: 0.5503 - acc: 0.9607 - val_loss: 0.5386 - val_acc: 0.9625\n",
            "Epoch 7/100\n",
            "54000/54000 [==============================] - 10s 194us/step - loss: 0.4979 - acc: 0.9644 - val_loss: 0.4775 - val_acc: 0.9668\n",
            "Epoch 8/100\n",
            "54000/54000 [==============================] - 10s 194us/step - loss: 0.4852 - acc: 0.9659 - val_loss: 0.5530 - val_acc: 0.9613\n",
            "Epoch 9/100\n",
            "54000/54000 [==============================] - 11s 202us/step - loss: 0.4938 - acc: 0.9657 - val_loss: 0.4099 - val_acc: 0.9705\n",
            "Epoch 10/100\n",
            "54000/54000 [==============================] - 11s 198us/step - loss: 0.4677 - acc: 0.9674 - val_loss: 0.5724 - val_acc: 0.9610\n",
            "Epoch 11/100\n",
            "54000/54000 [==============================] - 11s 195us/step - loss: 0.4790 - acc: 0.9671 - val_loss: 0.4821 - val_acc: 0.9668\n",
            "Epoch 12/100\n",
            "54000/54000 [==============================] - 10s 193us/step - loss: 0.4410 - acc: 0.9697 - val_loss: 0.5107 - val_acc: 0.9648\n",
            "Epoch 13/100\n",
            "54000/54000 [==============================] - 10s 194us/step - loss: 0.4301 - acc: 0.9703 - val_loss: 0.4201 - val_acc: 0.9708\n",
            "Epoch 14/100\n",
            "54000/54000 [==============================] - 10s 192us/step - loss: 0.4413 - acc: 0.9698 - val_loss: 0.6538 - val_acc: 0.9553\n",
            "Epoch 15/100\n",
            "54000/54000 [==============================] - 10s 189us/step - loss: 0.4374 - acc: 0.9703 - val_loss: 0.4179 - val_acc: 0.9717\n",
            "Epoch 16/100\n",
            "54000/54000 [==============================] - 10s 191us/step - loss: 0.4323 - acc: 0.9708 - val_loss: 0.4158 - val_acc: 0.9723\n",
            "Epoch 17/100\n",
            "54000/54000 [==============================] - 10s 194us/step - loss: 0.4374 - acc: 0.9705 - val_loss: 0.4722 - val_acc: 0.9687\n",
            "Epoch 18/100\n",
            "54000/54000 [==============================] - 10s 189us/step - loss: 0.4195 - acc: 0.9718 - val_loss: 0.4608 - val_acc: 0.9688\n",
            "Epoch 19/100\n",
            "54000/54000 [==============================] - 11s 195us/step - loss: 0.4257 - acc: 0.9714 - val_loss: 0.4638 - val_acc: 0.9687\n",
            "Epoch 20/100\n",
            "54000/54000 [==============================] - 11s 198us/step - loss: 0.4005 - acc: 0.9731 - val_loss: 0.5643 - val_acc: 0.9622\n",
            "Epoch 21/100\n",
            "54000/54000 [==============================] - 11s 202us/step - loss: 0.3827 - acc: 0.9741 - val_loss: 0.3808 - val_acc: 0.9750\n",
            "Epoch 22/100\n",
            "54000/54000 [==============================] - 10s 193us/step - loss: 0.3567 - acc: 0.9761 - val_loss: 0.4897 - val_acc: 0.9673\n",
            "Epoch 23/100\n",
            "54000/54000 [==============================] - 10s 190us/step - loss: 0.3915 - acc: 0.9739 - val_loss: 0.4729 - val_acc: 0.9692\n",
            "Epoch 24/100\n",
            "54000/54000 [==============================] - 10s 192us/step - loss: 0.4092 - acc: 0.9726 - val_loss: 0.5701 - val_acc: 0.9622\n",
            "Epoch 25/100\n",
            "54000/54000 [==============================] - 11s 195us/step - loss: 0.4072 - acc: 0.9732 - val_loss: 0.4093 - val_acc: 0.9720\n",
            "Epoch 26/100\n",
            "54000/54000 [==============================] - 10s 193us/step - loss: 0.3812 - acc: 0.9747 - val_loss: 0.4071 - val_acc: 0.9735\n",
            "Epoch 27/100\n",
            "54000/54000 [==============================] - 10s 191us/step - loss: 0.3674 - acc: 0.9755 - val_loss: 0.4668 - val_acc: 0.9698\n",
            "Epoch 28/100\n",
            "54000/54000 [==============================] - 10s 193us/step - loss: 0.3598 - acc: 0.9760 - val_loss: 0.5056 - val_acc: 0.9662\n",
            "Epoch 29/100\n",
            "54000/54000 [==============================] - 10s 191us/step - loss: 0.3562 - acc: 0.9761 - val_loss: 0.3671 - val_acc: 0.9755\n",
            "Epoch 30/100\n",
            "54000/54000 [==============================] - 11s 195us/step - loss: 0.3208 - acc: 0.9784 - val_loss: 0.4038 - val_acc: 0.9733\n",
            "Epoch 31/100\n",
            "54000/54000 [==============================] - 10s 194us/step - loss: 0.3459 - acc: 0.9770 - val_loss: 0.4439 - val_acc: 0.9710\n",
            "Epoch 32/100\n",
            "54000/54000 [==============================] - 10s 193us/step - loss: 0.3597 - acc: 0.9761 - val_loss: 0.3822 - val_acc: 0.9748\n",
            "Epoch 33/100\n",
            "54000/54000 [==============================] - 10s 190us/step - loss: 0.3510 - acc: 0.9769 - val_loss: 0.3786 - val_acc: 0.9743\n",
            "Epoch 34/100\n",
            "54000/54000 [==============================] - 12s 217us/step - loss: 0.3401 - acc: 0.9775 - val_loss: 0.5217 - val_acc: 0.9662\n",
            "Epoch 35/100\n",
            "54000/54000 [==============================] - 10s 192us/step - loss: 0.3231 - acc: 0.9786 - val_loss: 0.3876 - val_acc: 0.9748\n",
            "Epoch 36/100\n",
            "54000/54000 [==============================] - 10s 194us/step - loss: 0.3162 - acc: 0.9789 - val_loss: 0.4127 - val_acc: 0.9730\n",
            "Epoch 37/100\n",
            "54000/54000 [==============================] - 11s 195us/step - loss: 0.3269 - acc: 0.9786 - val_loss: 0.4063 - val_acc: 0.9735\n",
            "Epoch 38/100\n",
            "54000/54000 [==============================] - 10s 191us/step - loss: 0.3643 - acc: 0.9759 - val_loss: 0.3718 - val_acc: 0.9760\n",
            "Epoch 39/100\n",
            "54000/54000 [==============================] - 10s 194us/step - loss: 0.3303 - acc: 0.9780 - val_loss: 0.4319 - val_acc: 0.9720\n",
            "Epoch 40/100\n",
            "54000/54000 [==============================] - 11s 195us/step - loss: 0.3357 - acc: 0.9778 - val_loss: 0.4078 - val_acc: 0.9727\n",
            "Epoch 41/100\n",
            "54000/54000 [==============================] - 10s 188us/step - loss: 0.3315 - acc: 0.9783 - val_loss: 0.4153 - val_acc: 0.9728\n",
            "Epoch 42/100\n",
            "54000/54000 [==============================] - 10s 193us/step - loss: 0.3241 - acc: 0.9786 - val_loss: 0.4559 - val_acc: 0.9708\n",
            "Epoch 43/100\n",
            "54000/54000 [==============================] - 10s 192us/step - loss: 0.3408 - acc: 0.9775 - val_loss: 0.4313 - val_acc: 0.9722\n",
            "Epoch 44/100\n",
            "54000/54000 [==============================] - 10s 188us/step - loss: 0.3187 - acc: 0.9789 - val_loss: 0.3658 - val_acc: 0.9757\n",
            "Epoch 45/100\n",
            "54000/54000 [==============================] - 11s 197us/step - loss: 0.3142 - acc: 0.9793 - val_loss: 0.4216 - val_acc: 0.9730\n",
            "Epoch 46/100\n",
            "54000/54000 [==============================] - 10s 193us/step - loss: 0.3257 - acc: 0.9789 - val_loss: 0.3749 - val_acc: 0.9753\n",
            "Epoch 47/100\n",
            "54000/54000 [==============================] - 10s 190us/step - loss: 0.3227 - acc: 0.9789 - val_loss: 0.3950 - val_acc: 0.9748\n",
            "Epoch 48/100\n",
            "54000/54000 [==============================] - 10s 190us/step - loss: 0.3289 - acc: 0.9784 - val_loss: 0.4489 - val_acc: 0.9703\n",
            "Epoch 49/100\n",
            "54000/54000 [==============================] - 10s 190us/step - loss: 0.2994 - acc: 0.9801 - val_loss: 0.3905 - val_acc: 0.9747\n",
            "Epoch 50/100\n",
            "54000/54000 [==============================] - 11s 199us/step - loss: 0.3079 - acc: 0.9799 - val_loss: 0.4745 - val_acc: 0.9693\n",
            "Epoch 51/100\n",
            "54000/54000 [==============================] - 11s 197us/step - loss: 0.3085 - acc: 0.9799 - val_loss: 0.3721 - val_acc: 0.9758\n",
            "Epoch 52/100\n",
            "54000/54000 [==============================] - 10s 191us/step - loss: 0.3025 - acc: 0.9802 - val_loss: 0.4190 - val_acc: 0.9732\n",
            "Epoch 53/100\n",
            "54000/54000 [==============================] - 10s 193us/step - loss: 0.3126 - acc: 0.9795 - val_loss: 0.4179 - val_acc: 0.9733\n",
            "Epoch 54/100\n",
            "54000/54000 [==============================] - 11s 200us/step - loss: 0.2879 - acc: 0.9811 - val_loss: 0.3777 - val_acc: 0.9747\n",
            "Epoch 55/100\n",
            "54000/54000 [==============================] - 11s 197us/step - loss: 0.2813 - acc: 0.9817 - val_loss: 0.4250 - val_acc: 0.9728\n",
            "Epoch 56/100\n",
            "54000/54000 [==============================] - 11s 198us/step - loss: 0.2826 - acc: 0.9816 - val_loss: 0.5029 - val_acc: 0.9678\n",
            "Epoch 57/100\n",
            "54000/54000 [==============================] - 11s 195us/step - loss: 0.3050 - acc: 0.9801 - val_loss: 0.4481 - val_acc: 0.9708\n",
            "Epoch 58/100\n",
            "54000/54000 [==============================] - 10s 189us/step - loss: 0.2798 - acc: 0.9818 - val_loss: 0.3700 - val_acc: 0.9758\n",
            "Epoch 59/100\n",
            "54000/54000 [==============================] - 10s 193us/step - loss: 0.2648 - acc: 0.9827 - val_loss: 0.3891 - val_acc: 0.9752\n",
            "Epoch 60/100\n",
            "54000/54000 [==============================] - 11s 198us/step - loss: 0.2742 - acc: 0.9820 - val_loss: 0.3528 - val_acc: 0.9773\n",
            "Epoch 61/100\n",
            "54000/54000 [==============================] - 10s 193us/step - loss: 0.2759 - acc: 0.9819 - val_loss: 0.4116 - val_acc: 0.9727\n",
            "Epoch 62/100\n",
            "54000/54000 [==============================] - 11s 199us/step - loss: 0.2801 - acc: 0.9817 - val_loss: 0.3790 - val_acc: 0.9748\n",
            "Epoch 63/100\n",
            "54000/54000 [==============================] - 11s 202us/step - loss: 0.2830 - acc: 0.9817 - val_loss: 0.4297 - val_acc: 0.9723\n",
            "Epoch 64/100\n",
            "54000/54000 [==============================] - 11s 206us/step - loss: 0.2765 - acc: 0.9819 - val_loss: 0.4062 - val_acc: 0.9738\n",
            "Epoch 65/100\n",
            "54000/54000 [==============================] - 11s 197us/step - loss: 0.2764 - acc: 0.9820 - val_loss: 0.3163 - val_acc: 0.9792\n",
            "Epoch 66/100\n",
            "54000/54000 [==============================] - 10s 191us/step - loss: 0.2720 - acc: 0.9823 - val_loss: 0.4023 - val_acc: 0.9743\n",
            "Epoch 67/100\n",
            "54000/54000 [==============================] - 10s 190us/step - loss: 0.2737 - acc: 0.9821 - val_loss: 0.4865 - val_acc: 0.9678\n",
            "Epoch 68/100\n",
            "54000/54000 [==============================] - 10s 191us/step - loss: 0.2818 - acc: 0.9817 - val_loss: 0.3482 - val_acc: 0.9777\n",
            "Epoch 69/100\n",
            "54000/54000 [==============================] - 10s 188us/step - loss: 0.2736 - acc: 0.9821 - val_loss: 0.3113 - val_acc: 0.9795\n",
            "Epoch 70/100\n",
            "54000/54000 [==============================] - 10s 187us/step - loss: 0.2651 - acc: 0.9829 - val_loss: 0.3923 - val_acc: 0.9747\n",
            "Epoch 71/100\n",
            "54000/54000 [==============================] - 10s 187us/step - loss: 0.2911 - acc: 0.9809 - val_loss: 0.4209 - val_acc: 0.9730\n",
            "Epoch 72/100\n",
            "54000/54000 [==============================] - 10s 190us/step - loss: 0.2705 - acc: 0.9823 - val_loss: 0.3740 - val_acc: 0.9753\n",
            "Epoch 73/100\n",
            "54000/54000 [==============================] - 10s 188us/step - loss: 0.2657 - acc: 0.9827 - val_loss: 0.3760 - val_acc: 0.9755\n",
            "Epoch 74/100\n",
            "54000/54000 [==============================] - 11s 196us/step - loss: 0.2562 - acc: 0.9833 - val_loss: 0.3322 - val_acc: 0.9787\n",
            "Epoch 75/100\n",
            "54000/54000 [==============================] - 10s 190us/step - loss: 0.2454 - acc: 0.9840 - val_loss: 0.3506 - val_acc: 0.9778\n",
            "Epoch 76/100\n",
            "54000/54000 [==============================] - 10s 188us/step - loss: 0.2725 - acc: 0.9824 - val_loss: 0.3835 - val_acc: 0.9748\n",
            "Epoch 77/100\n",
            "54000/54000 [==============================] - 10s 192us/step - loss: 0.2678 - acc: 0.9826 - val_loss: 0.3663 - val_acc: 0.9763\n",
            "Epoch 78/100\n",
            "54000/54000 [==============================] - 10s 189us/step - loss: 0.2534 - acc: 0.9836 - val_loss: 0.3804 - val_acc: 0.9760\n",
            "Epoch 79/100\n",
            "54000/54000 [==============================] - 10s 192us/step - loss: 0.2635 - acc: 0.9829 - val_loss: 0.3820 - val_acc: 0.9753\n",
            "Epoch 80/100\n",
            "54000/54000 [==============================] - 10s 194us/step - loss: 0.2668 - acc: 0.9827 - val_loss: 0.3780 - val_acc: 0.9752\n",
            "Epoch 81/100\n",
            "54000/54000 [==============================] - 10s 184us/step - loss: 0.2648 - acc: 0.9827 - val_loss: 0.3464 - val_acc: 0.9773\n",
            "Epoch 82/100\n",
            "54000/54000 [==============================] - 10s 185us/step - loss: 0.2715 - acc: 0.9824 - val_loss: 0.3647 - val_acc: 0.9767\n",
            "Epoch 83/100\n",
            "54000/54000 [==============================] - 10s 189us/step - loss: 0.2660 - acc: 0.9828 - val_loss: 0.3992 - val_acc: 0.9745\n",
            "Epoch 84/100\n",
            "54000/54000 [==============================] - 10s 187us/step - loss: 0.2886 - acc: 0.9811 - val_loss: 0.3478 - val_acc: 0.9778\n",
            "Epoch 85/100\n",
            "54000/54000 [==============================] - 10s 184us/step - loss: 0.2648 - acc: 0.9828 - val_loss: 0.3909 - val_acc: 0.9743\n",
            "Epoch 86/100\n",
            "54000/54000 [==============================] - 10s 189us/step - loss: 0.2644 - acc: 0.9829 - val_loss: 0.3405 - val_acc: 0.9782\n",
            "Epoch 87/100\n",
            "54000/54000 [==============================] - 10s 188us/step - loss: 0.2570 - acc: 0.9834 - val_loss: 0.3857 - val_acc: 0.9757\n",
            "Epoch 88/100\n",
            "54000/54000 [==============================] - 10s 189us/step - loss: 0.2735 - acc: 0.9823 - val_loss: 0.3563 - val_acc: 0.9773\n",
            "Epoch 89/100\n",
            "54000/54000 [==============================] - 10s 191us/step - loss: 0.2648 - acc: 0.9828 - val_loss: 0.3307 - val_acc: 0.9790\n",
            "Epoch 90/100\n",
            "54000/54000 [==============================] - 10s 188us/step - loss: 0.2473 - acc: 0.9840 - val_loss: 0.3589 - val_acc: 0.9768\n",
            "Epoch 91/100\n",
            "54000/54000 [==============================] - 10s 186us/step - loss: 0.2551 - acc: 0.9834 - val_loss: 0.3582 - val_acc: 0.9775\n",
            "Epoch 92/100\n",
            "54000/54000 [==============================] - 10s 189us/step - loss: 0.2467 - acc: 0.9839 - val_loss: 0.4162 - val_acc: 0.9735\n",
            "Epoch 93/100\n",
            "54000/54000 [==============================] - 10s 185us/step - loss: 0.2813 - acc: 0.9817 - val_loss: 0.4189 - val_acc: 0.9728\n",
            "Epoch 94/100\n",
            "54000/54000 [==============================] - 11s 204us/step - loss: 0.2696 - acc: 0.9825 - val_loss: 0.4064 - val_acc: 0.9738\n",
            "Epoch 95/100\n",
            "54000/54000 [==============================] - 10s 187us/step - loss: 0.2864 - acc: 0.9816 - val_loss: 0.3305 - val_acc: 0.9790\n",
            "Epoch 96/100\n",
            "54000/54000 [==============================] - 10s 188us/step - loss: 0.2529 - acc: 0.9837 - val_loss: 0.3453 - val_acc: 0.9780\n",
            "Epoch 97/100\n",
            "54000/54000 [==============================] - 10s 192us/step - loss: 0.2628 - acc: 0.9830 - val_loss: 0.4296 - val_acc: 0.9728\n",
            "Epoch 98/100\n",
            "54000/54000 [==============================] - 10s 192us/step - loss: 0.2557 - acc: 0.9835 - val_loss: 0.3839 - val_acc: 0.9755\n",
            "Epoch 99/100\n",
            "54000/54000 [==============================] - 10s 191us/step - loss: 0.2594 - acc: 0.9831 - val_loss: 0.4050 - val_acc: 0.9742\n",
            "Epoch 100/100\n",
            "54000/54000 [==============================] - 10s 192us/step - loss: 0.2449 - acc: 0.9841 - val_loss: 0.3597 - val_acc: 0.9773\n"
          ],
          "name": "stdout"
        }
      ]
    },
    {
      "cell_type": "code",
      "metadata": {
        "id": "fKIsgNBINkyT",
        "colab_type": "code",
        "outputId": "de8ee8a3-af4a-4641-8e48-6e4b8810a320",
        "colab": {
          "base_uri": "https://localhost:8080/",
          "height": 295
        }
      },
      "source": [
        "import matplotlib.pyplot as plot\n",
        "loss, accuracy  = expriment11.evaluate(x_test, y_test, verbose=False)\n",
        "plot.plot(expriment11_train.history['acc'])\n",
        "plot.plot(expriment11_train.history['val_acc'])\n",
        "plot.title('model accuracy')\n",
        "plot.ylabel('accuracy')\n",
        "plot.xlabel('epoch')\n",
        "plot.legend(['training', 'validation'], loc='best')\n",
        "plot.show()"
      ],
      "execution_count": 45,
      "outputs": [
        {
          "output_type": "display_data",
          "data": {
            "image/png": "[encoded data removed]",
            "text/plain": [
              "<Figure size 432x288 with 1 Axes>"
            ]
          },
          "metadata": {
            "tags": []
          }
        }
      ]
    },
    {
      "cell_type": "code",
      "metadata": {
        "id": "HE5OhSQUNl8M",
        "colab_type": "code",
        "colab": {}
      },
      "source": [
        ""
      ],
      "execution_count": 0,
      "outputs": []
    },
    {
      "cell_type": "markdown",
      "metadata": {
        "id": "Tw83xAiQNoGA",
        "colab_type": "text"
      },
      "source": [
        "Expriement 12:\n",
        "\n",
        "\n",
        "```\n",
        "a- number of hidden layers=1\n",
        "```\n",
        "\n",
        "\n",
        "```\n",
        "b- number of neurons per layer=400\n",
        "```\n",
        "\n",
        "\n",
        "```\n",
        "c- optimization algorithm=adam\n",
        "```\n",
        "\n",
        "\n",
        "\n",
        "```\n",
        "d- loss function= cross entropy loss function\n",
        "```\n",
        "\n",
        "\n",
        "\n",
        "```\n",
        "e- number of epochs=100\n",
        "```\n",
        "\n",
        "\n",
        "```\n",
        "f- batch size=32\n",
        "```\n",
        "\n",
        "\n",
        "\n",
        "\n",
        "```\n",
        "g- activation function=Relu\n",
        "```\n",
        "\n",
        "\n",
        "\n",
        "\n",
        "\n",
        "\n",
        "\n",
        "\n",
        "\n",
        "\n",
        "\n"
      ]
    },
    {
      "cell_type": "code",
      "metadata": {
        "id": "TSXarQKv59d9",
        "colab_type": "code",
        "colab": {
          "base_uri": "https://localhost:8080/",
          "height": 312
        },
        "outputId": "859bb493-bd45-441d-9fac-e40b174c5ced"
      },
      "source": [
        "expriment12=build_model(400);\n",
        "plot_model(expriment12, to_file='model_plot.png',expand_nested=True,show_shapes=True)"
      ],
      "execution_count": 46,
      "outputs": [
        {
          "output_type": "execute_result",
          "data": {
            "image/png": "[encoded data removed]",
            "text/plain": [
              "<IPython.core.display.Image object>"
            ]
          },
          "metadata": {
            "tags": []
          },
          "execution_count": 46
        }
      ]
    },
    {
      "cell_type": "code",
      "metadata": {
        "id": "nTQZUZsCNsVE",
        "colab_type": "code",
        "outputId": "8663838b-bd7a-40f4-aefa-4df3c8b06e16",
        "colab": {
          "base_uri": "https://localhost:8080/",
          "height": 1000
        }
      },
      "source": [
        "expriment12.compile(keras.optimizers.adam(lr=0.01),loss='categorical_crossentropy', metrics=['accuracy'])\n",
        "expriment12_train = expriment12.fit(\n",
        "    x_train, y_train,\n",
        "    batch_size=32, epochs=100,\n",
        "    validation_split=0.1\n",
        ")"
      ],
      "execution_count": 47,
      "outputs": [
        {
          "output_type": "stream",
          "text": [
            "Train on 54000 samples, validate on 6000 samples\n",
            "Epoch 1/100\n",
            "54000/54000 [==============================] - 12s 231us/step - loss: 0.2615 - acc: 0.9248 - val_loss: 0.1496 - val_acc: 0.9563\n",
            "Epoch 2/100\n",
            "54000/54000 [==============================] - 12s 221us/step - loss: 0.1741 - acc: 0.9535 - val_loss: 0.1569 - val_acc: 0.9597\n",
            "Epoch 3/100\n",
            "54000/54000 [==============================] - 12s 218us/step - loss: 0.1466 - acc: 0.9626 - val_loss: 0.1383 - val_acc: 0.9662\n",
            "Epoch 4/100\n",
            "54000/54000 [==============================] - 12s 215us/step - loss: 0.1370 - acc: 0.9661 - val_loss: 0.1759 - val_acc: 0.9590\n",
            "Epoch 5/100\n",
            "54000/54000 [==============================] - 12s 217us/step - loss: 0.1302 - acc: 0.9691 - val_loss: 0.1791 - val_acc: 0.9650\n",
            "Epoch 6/100\n",
            "54000/54000 [==============================] - 12s 215us/step - loss: 0.1227 - acc: 0.9716 - val_loss: 0.1805 - val_acc: 0.9652\n",
            "Epoch 7/100\n",
            "54000/54000 [==============================] - 12s 218us/step - loss: 0.1150 - acc: 0.9740 - val_loss: 0.1729 - val_acc: 0.9667\n",
            "Epoch 8/100\n",
            "54000/54000 [==============================] - 12s 223us/step - loss: 0.1120 - acc: 0.9760 - val_loss: 0.1838 - val_acc: 0.9660\n",
            "Epoch 9/100\n",
            "54000/54000 [==============================] - 12s 216us/step - loss: 0.1131 - acc: 0.9764 - val_loss: 0.2052 - val_acc: 0.9653\n",
            "Epoch 10/100\n",
            "54000/54000 [==============================] - 12s 220us/step - loss: 0.1086 - acc: 0.9780 - val_loss: 0.2431 - val_acc: 0.9638\n",
            "Epoch 11/100\n",
            "54000/54000 [==============================] - 12s 218us/step - loss: 0.1101 - acc: 0.9787 - val_loss: 0.2665 - val_acc: 0.9660\n",
            "Epoch 12/100\n",
            "54000/54000 [==============================] - 12s 215us/step - loss: 0.0988 - acc: 0.9808 - val_loss: 0.2038 - val_acc: 0.9707\n",
            "Epoch 13/100\n",
            "54000/54000 [==============================] - 11s 211us/step - loss: 0.1049 - acc: 0.9812 - val_loss: 0.2451 - val_acc: 0.9677\n",
            "Epoch 14/100\n",
            "54000/54000 [==============================] - 11s 210us/step - loss: 0.1115 - acc: 0.9819 - val_loss: 0.2002 - val_acc: 0.9738\n",
            "Epoch 15/100\n",
            "54000/54000 [==============================] - 12s 213us/step - loss: 0.1082 - acc: 0.9823 - val_loss: 0.2195 - val_acc: 0.9722\n",
            "Epoch 16/100\n",
            "54000/54000 [==============================] - 11s 212us/step - loss: 0.1009 - acc: 0.9836 - val_loss: 0.2284 - val_acc: 0.9725\n",
            "Epoch 17/100\n",
            "54000/54000 [==============================] - 12s 216us/step - loss: 0.1034 - acc: 0.9831 - val_loss: 0.2303 - val_acc: 0.9732\n",
            "Epoch 18/100\n",
            "54000/54000 [==============================] - 12s 215us/step - loss: 0.0983 - acc: 0.9847 - val_loss: 0.2683 - val_acc: 0.9738\n",
            "Epoch 19/100\n",
            "54000/54000 [==============================] - 11s 212us/step - loss: 0.1045 - acc: 0.9848 - val_loss: 0.2776 - val_acc: 0.9707\n",
            "Epoch 20/100\n",
            "54000/54000 [==============================] - 12s 216us/step - loss: 0.1065 - acc: 0.9850 - val_loss: 0.2715 - val_acc: 0.9722\n",
            "Epoch 21/100\n",
            "54000/54000 [==============================] - 12s 229us/step - loss: 0.1070 - acc: 0.9850 - val_loss: 0.2736 - val_acc: 0.9748\n",
            "Epoch 22/100\n",
            "54000/54000 [==============================] - 12s 215us/step - loss: 0.1129 - acc: 0.9860 - val_loss: 0.3237 - val_acc: 0.9710\n",
            "Epoch 23/100\n",
            "54000/54000 [==============================] - 12s 216us/step - loss: 0.0913 - acc: 0.9872 - val_loss: 0.3016 - val_acc: 0.9705\n",
            "Epoch 24/100\n",
            "54000/54000 [==============================] - 11s 212us/step - loss: 0.1041 - acc: 0.9861 - val_loss: 0.2932 - val_acc: 0.9698\n",
            "Epoch 25/100\n",
            "54000/54000 [==============================] - 12s 215us/step - loss: 0.1010 - acc: 0.9864 - val_loss: 0.3097 - val_acc: 0.9707\n",
            "Epoch 26/100\n",
            "54000/54000 [==============================] - 12s 214us/step - loss: 0.1045 - acc: 0.9874 - val_loss: 0.2611 - val_acc: 0.9767\n",
            "Epoch 27/100\n",
            "54000/54000 [==============================] - 11s 212us/step - loss: 0.1091 - acc: 0.9871 - val_loss: 0.2604 - val_acc: 0.9760\n",
            "Epoch 28/100\n",
            "54000/54000 [==============================] - 12s 219us/step - loss: 0.0970 - acc: 0.9885 - val_loss: 0.3081 - val_acc: 0.9742\n",
            "Epoch 29/100\n",
            "54000/54000 [==============================] - 12s 215us/step - loss: 0.0943 - acc: 0.9892 - val_loss: 0.2961 - val_acc: 0.9735\n",
            "Epoch 30/100\n",
            "54000/54000 [==============================] - 12s 218us/step - loss: 0.1177 - acc: 0.9876 - val_loss: 0.2765 - val_acc: 0.9760\n",
            "Epoch 31/100\n",
            "54000/54000 [==============================] - 12s 217us/step - loss: 0.1084 - acc: 0.9881 - val_loss: 0.2829 - val_acc: 0.9757\n",
            "Epoch 32/100\n",
            "54000/54000 [==============================] - 12s 214us/step - loss: 0.1148 - acc: 0.9883 - val_loss: 0.3714 - val_acc: 0.9703\n",
            "Epoch 33/100\n",
            "54000/54000 [==============================] - 12s 214us/step - loss: 0.1081 - acc: 0.9892 - val_loss: 0.2985 - val_acc: 0.9753\n",
            "Epoch 34/100\n",
            "54000/54000 [==============================] - 12s 225us/step - loss: 0.1293 - acc: 0.9878 - val_loss: 0.3391 - val_acc: 0.9728\n",
            "Epoch 35/100\n",
            "54000/54000 [==============================] - 12s 218us/step - loss: 0.1258 - acc: 0.9881 - val_loss: 0.3134 - val_acc: 0.9742\n",
            "Epoch 36/100\n",
            "54000/54000 [==============================] - 12s 220us/step - loss: 0.1157 - acc: 0.9888 - val_loss: 0.3488 - val_acc: 0.9728\n",
            "Epoch 37/100\n",
            "54000/54000 [==============================] - 11s 207us/step - loss: 0.1198 - acc: 0.9886 - val_loss: 0.3460 - val_acc: 0.9742\n",
            "Epoch 38/100\n",
            "54000/54000 [==============================] - 12s 216us/step - loss: 0.1166 - acc: 0.9892 - val_loss: 0.3182 - val_acc: 0.9758\n",
            "Epoch 39/100\n",
            "54000/54000 [==============================] - 12s 214us/step - loss: 0.1189 - acc: 0.9887 - val_loss: 0.3526 - val_acc: 0.9727\n",
            "Epoch 40/100\n",
            "54000/54000 [==============================] - 11s 209us/step - loss: 0.1188 - acc: 0.9893 - val_loss: 0.3697 - val_acc: 0.9725\n",
            "Epoch 41/100\n",
            "54000/54000 [==============================] - 11s 213us/step - loss: 0.1230 - acc: 0.9893 - val_loss: 0.3556 - val_acc: 0.9727\n",
            "Epoch 42/100\n",
            "54000/54000 [==============================] - 12s 214us/step - loss: 0.1248 - acc: 0.9895 - val_loss: 0.3054 - val_acc: 0.9763\n",
            "Epoch 43/100\n",
            "54000/54000 [==============================] - 11s 210us/step - loss: 0.1330 - acc: 0.9886 - val_loss: 0.3198 - val_acc: 0.9770\n",
            "Epoch 44/100\n",
            "54000/54000 [==============================] - 11s 210us/step - loss: 0.1311 - acc: 0.9896 - val_loss: 0.3955 - val_acc: 0.9710\n",
            "Epoch 45/100\n",
            "54000/54000 [==============================] - 11s 207us/step - loss: 0.1357 - acc: 0.9891 - val_loss: 0.3409 - val_acc: 0.9755\n",
            "Epoch 46/100\n",
            "54000/54000 [==============================] - 11s 210us/step - loss: 0.1259 - acc: 0.9896 - val_loss: 0.3442 - val_acc: 0.9762\n",
            "Epoch 47/100\n",
            "54000/54000 [==============================] - 12s 214us/step - loss: 0.1334 - acc: 0.9895 - val_loss: 0.3103 - val_acc: 0.9773\n",
            "Epoch 48/100\n",
            "54000/54000 [==============================] - 12s 222us/step - loss: 0.1414 - acc: 0.9887 - val_loss: 0.3537 - val_acc: 0.9742\n",
            "Epoch 49/100\n",
            "54000/54000 [==============================] - 11s 211us/step - loss: 0.1415 - acc: 0.9889 - val_loss: 0.3598 - val_acc: 0.9738\n",
            "Epoch 50/100\n",
            "54000/54000 [==============================] - 11s 207us/step - loss: 0.1396 - acc: 0.9892 - val_loss: 0.3563 - val_acc: 0.9753\n",
            "Epoch 51/100\n",
            "54000/54000 [==============================] - 11s 207us/step - loss: 0.1412 - acc: 0.9891 - val_loss: 0.3736 - val_acc: 0.9730\n",
            "Epoch 52/100\n",
            "54000/54000 [==============================] - 11s 210us/step - loss: 0.1421 - acc: 0.9890 - val_loss: 0.3343 - val_acc: 0.9763\n",
            "Epoch 53/100\n",
            "54000/54000 [==============================] - 11s 207us/step - loss: 0.1427 - acc: 0.9891 - val_loss: 0.3922 - val_acc: 0.9723\n",
            "Epoch 54/100\n",
            "54000/54000 [==============================] - 11s 208us/step - loss: 0.1533 - acc: 0.9887 - val_loss: 0.3634 - val_acc: 0.9747\n",
            "Epoch 55/100\n",
            "54000/54000 [==============================] - 11s 207us/step - loss: 0.1564 - acc: 0.9882 - val_loss: 0.3462 - val_acc: 0.9753\n",
            "Epoch 56/100\n",
            "54000/54000 [==============================] - 11s 206us/step - loss: 0.1623 - acc: 0.9881 - val_loss: 0.4128 - val_acc: 0.9710\n",
            "Epoch 57/100\n",
            "54000/54000 [==============================] - 11s 208us/step - loss: 0.1508 - acc: 0.9887 - val_loss: 0.3306 - val_acc: 0.9778\n",
            "Epoch 58/100\n",
            "54000/54000 [==============================] - 11s 209us/step - loss: 0.1333 - acc: 0.9902 - val_loss: 0.3307 - val_acc: 0.9773\n",
            "Epoch 59/100\n",
            "54000/54000 [==============================] - 11s 207us/step - loss: 0.1561 - acc: 0.9889 - val_loss: 0.3576 - val_acc: 0.9752\n",
            "Epoch 60/100\n",
            "54000/54000 [==============================] - 11s 206us/step - loss: 0.1583 - acc: 0.9887 - val_loss: 0.4320 - val_acc: 0.9703\n",
            "Epoch 61/100\n",
            "54000/54000 [==============================] - 12s 214us/step - loss: 0.1706 - acc: 0.9881 - val_loss: 0.3411 - val_acc: 0.9777\n",
            "Epoch 62/100\n",
            "54000/54000 [==============================] - 11s 205us/step - loss: 0.1497 - acc: 0.9894 - val_loss: 0.3664 - val_acc: 0.9753\n",
            "Epoch 63/100\n",
            "54000/54000 [==============================] - 11s 209us/step - loss: 0.1557 - acc: 0.9894 - val_loss: 0.3174 - val_acc: 0.9788\n",
            "Epoch 64/100\n",
            "54000/54000 [==============================] - 11s 207us/step - loss: 0.1513 - acc: 0.9894 - val_loss: 0.3626 - val_acc: 0.9755\n",
            "Epoch 65/100\n",
            "54000/54000 [==============================] - 11s 210us/step - loss: 0.1787 - acc: 0.9876 - val_loss: 0.4144 - val_acc: 0.9727\n",
            "Epoch 66/100\n",
            "54000/54000 [==============================] - 11s 206us/step - loss: 0.1748 - acc: 0.9880 - val_loss: 0.3389 - val_acc: 0.9775\n",
            "Epoch 67/100\n",
            "54000/54000 [==============================] - 11s 207us/step - loss: 0.1427 - acc: 0.9902 - val_loss: 0.3396 - val_acc: 0.9777\n",
            "Epoch 68/100\n",
            "54000/54000 [==============================] - 11s 207us/step - loss: 0.1849 - acc: 0.9873 - val_loss: 0.3961 - val_acc: 0.9733\n",
            "Epoch 69/100\n",
            "54000/54000 [==============================] - 11s 204us/step - loss: 0.1746 - acc: 0.9879 - val_loss: 0.4127 - val_acc: 0.9725\n",
            "Epoch 70/100\n",
            "54000/54000 [==============================] - 11s 212us/step - loss: 0.1826 - acc: 0.9874 - val_loss: 0.4050 - val_acc: 0.9728\n",
            "Epoch 71/100\n",
            "54000/54000 [==============================] - 11s 211us/step - loss: 0.1864 - acc: 0.9872 - val_loss: 0.4109 - val_acc: 0.9733\n",
            "Epoch 72/100\n",
            "54000/54000 [==============================] - 11s 210us/step - loss: 0.1803 - acc: 0.9877 - val_loss: 0.3857 - val_acc: 0.9745\n",
            "Epoch 73/100\n",
            "54000/54000 [==============================] - 11s 212us/step - loss: 0.1530 - acc: 0.9896 - val_loss: 0.3841 - val_acc: 0.9747\n",
            "Epoch 74/100\n",
            "54000/54000 [==============================] - 11s 210us/step - loss: 0.1655 - acc: 0.9887 - val_loss: 0.3253 - val_acc: 0.9783\n",
            "Epoch 75/100\n",
            "54000/54000 [==============================] - 12s 223us/step - loss: 0.2065 - acc: 0.9862 - val_loss: 0.3378 - val_acc: 0.9782\n",
            "Epoch 76/100\n",
            "54000/54000 [==============================] - 12s 225us/step - loss: 0.1820 - acc: 0.9877 - val_loss: 0.3843 - val_acc: 0.9745\n",
            "Epoch 77/100\n",
            "54000/54000 [==============================] - 11s 209us/step - loss: 0.1755 - acc: 0.9882 - val_loss: 0.3554 - val_acc: 0.9762\n",
            "Epoch 78/100\n",
            "54000/54000 [==============================] - 11s 212us/step - loss: 0.1768 - acc: 0.9880 - val_loss: 0.3794 - val_acc: 0.9755\n",
            "Epoch 79/100\n",
            "54000/54000 [==============================] - 11s 208us/step - loss: 0.1723 - acc: 0.9884 - val_loss: 0.3424 - val_acc: 0.9778\n",
            "Epoch 80/100\n",
            "54000/54000 [==============================] - 11s 207us/step - loss: 0.1639 - acc: 0.9889 - val_loss: 0.3148 - val_acc: 0.9793\n",
            "Epoch 81/100\n",
            "54000/54000 [==============================] - 11s 211us/step - loss: 0.1637 - acc: 0.9890 - val_loss: 0.3448 - val_acc: 0.9775\n",
            "Epoch 82/100\n",
            "54000/54000 [==============================] - 11s 206us/step - loss: 0.1907 - acc: 0.9873 - val_loss: 0.3367 - val_acc: 0.9782\n",
            "Epoch 83/100\n",
            "54000/54000 [==============================] - 11s 210us/step - loss: 0.1841 - acc: 0.9878 - val_loss: 0.3123 - val_acc: 0.9792\n",
            "Epoch 84/100\n",
            "54000/54000 [==============================] - 11s 212us/step - loss: 0.1700 - acc: 0.9884 - val_loss: 0.3416 - val_acc: 0.9782\n",
            "Epoch 85/100\n",
            "54000/54000 [==============================] - 11s 205us/step - loss: 0.1675 - acc: 0.9888 - val_loss: 0.3268 - val_acc: 0.9780\n",
            "Epoch 86/100\n",
            "54000/54000 [==============================] - 11s 208us/step - loss: 0.1729 - acc: 0.9885 - val_loss: 0.3794 - val_acc: 0.9752\n",
            "Epoch 87/100\n",
            "54000/54000 [==============================] - 11s 206us/step - loss: 0.1789 - acc: 0.9880 - val_loss: 0.3623 - val_acc: 0.9760\n",
            "Epoch 88/100\n",
            "54000/54000 [==============================] - 12s 215us/step - loss: 0.2170 - acc: 0.9855 - val_loss: 0.3919 - val_acc: 0.9743\n",
            "Epoch 89/100\n",
            "54000/54000 [==============================] - 11s 208us/step - loss: 0.1829 - acc: 0.9879 - val_loss: 0.3483 - val_acc: 0.9780\n",
            "Epoch 90/100\n",
            "54000/54000 [==============================] - 11s 203us/step - loss: 0.1857 - acc: 0.9876 - val_loss: 0.3306 - val_acc: 0.9785\n",
            "Epoch 91/100\n",
            "54000/54000 [==============================] - 11s 209us/step - loss: 0.1937 - acc: 0.9872 - val_loss: 0.3897 - val_acc: 0.9750\n",
            "Epoch 92/100\n",
            "54000/54000 [==============================] - 11s 209us/step - loss: 0.1870 - acc: 0.9877 - val_loss: 0.3680 - val_acc: 0.9760\n",
            "Epoch 93/100\n",
            "54000/54000 [==============================] - 11s 211us/step - loss: 0.1838 - acc: 0.9880 - val_loss: 0.3314 - val_acc: 0.9788\n",
            "Epoch 94/100\n",
            "54000/54000 [==============================] - 16s 289us/step - loss: 0.2069 - acc: 0.9866 - val_loss: 0.3757 - val_acc: 0.9755\n",
            "Epoch 95/100\n",
            "54000/54000 [==============================] - 12s 219us/step - loss: 0.1992 - acc: 0.9869 - val_loss: 0.3513 - val_acc: 0.9768\n",
            "Epoch 96/100\n",
            "54000/54000 [==============================] - 12s 216us/step - loss: 0.1759 - acc: 0.9885 - val_loss: 0.3243 - val_acc: 0.9792\n",
            "Epoch 97/100\n",
            "54000/54000 [==============================] - 12s 218us/step - loss: 0.1768 - acc: 0.9882 - val_loss: 0.3511 - val_acc: 0.9772\n",
            "Epoch 98/100\n",
            "54000/54000 [==============================] - 12s 217us/step - loss: 0.1893 - acc: 0.9876 - val_loss: 0.4144 - val_acc: 0.9728\n",
            "Epoch 99/100\n",
            "54000/54000 [==============================] - 12s 220us/step - loss: 0.1867 - acc: 0.9879 - val_loss: 0.3877 - val_acc: 0.9748\n",
            "Epoch 100/100\n",
            "54000/54000 [==============================] - 12s 215us/step - loss: 0.1933 - acc: 0.9873 - val_loss: 0.3874 - val_acc: 0.9750\n"
          ],
          "name": "stdout"
        }
      ]
    },
    {
      "cell_type": "code",
      "metadata": {
        "id": "_r1YxYlxNxSR",
        "colab_type": "code",
        "outputId": "e04b9a54-dc78-4526-f1b8-46ea1976e629",
        "colab": {
          "base_uri": "https://localhost:8080/",
          "height": 295
        }
      },
      "source": [
        "import matplotlib.pyplot as plot\n",
        "loss, accuracy  = expriment12.evaluate(x_test, y_test, verbose=False)\n",
        "plot.plot(expriment12_train.history['acc'])\n",
        "plot.plot(expriment12_train.history['val_acc'])\n",
        "plot.title('model accuracy')\n",
        "plot.ylabel('accuracy')\n",
        "plot.xlabel('epoch')\n",
        "plot.legend(['training', 'validation'], loc='best')\n",
        "plot.show()"
      ],
      "execution_count": 0,
      "outputs": [
        {
          "output_type": "display_data",
          "data": {
            "image/png": "[encoded data removed]",
            "text/plain": [
              "<Figure size 432x288 with 1 Axes>"
            ]
          },
          "metadata": {
            "tags": []
          }
        }
      ]
    },
    {
      "cell_type": "markdown",
      "metadata": {
        "id": "RYCFHiPSaF2e",
        "colab_type": "text"
      },
      "source": [
        "2.Set the best parameters from previous example and apply them for CIFAR10 dataset classification."
      ]
    },
    {
      "cell_type": "code",
      "metadata": {
        "id": "ALhidd0XaFnN",
        "colab_type": "code",
        "outputId": "1bcf1c73-38c6-4a08-cf9f-2e2b0c63fa61",
        "colab": {
          "base_uri": "https://localhost:8080/",
          "height": 80
        }
      },
      "source": [
        "from keras.datasets import cifar10"
      ],
      "execution_count": 0,
      "outputs": [
        {
          "output_type": "stream",
          "text": [
            "Using TensorFlow backend.\n"
          ],
          "name": "stderr"
        },
        {
          "output_type": "display_data",
          "data": {
            "text/html": [
              "<p style=\"color: red;\">\n",
              "The default version of TensorFlow in Colab will soon switch to TensorFlow 2.x.<br>\n",
              "We recommend you <a href=\"https://www.tensorflow.org/guide/migrate\" target=\"_blank\">upgrade</a> now \n",
              "or ensure your notebook will continue to use TensorFlow 1.x via the <code>%tensorflow_version 1.x</code> magic:\n",
              "<a href=\"https://colab.research.google.com/notebooks/tensorflow_version.ipynb\" target=\"_blank\">more info</a>.</p>\n"
            ],
            "text/plain": [
              "<IPython.core.display.HTML object>"
            ]
          },
          "metadata": {
            "tags": []
          }
        }
      ]
    },
    {
      "cell_type": "code",
      "metadata": {
        "id": "RgErkVacaY5h",
        "colab_type": "code",
        "outputId": "6a933ef8-b07f-4563-c25d-2daecea43eeb",
        "colab": {
          "base_uri": "https://localhost:8080/",
          "height": 51
        }
      },
      "source": [
        "(cx_train, cy_train), (cx_test, cy_test) = cifar10.load_data()"
      ],
      "execution_count": 0,
      "outputs": [
        {
          "output_type": "stream",
          "text": [
            "Downloading data from https://www.cs.toronto.edu/~kriz/cifar-10-python.tar.gz\n",
            "170500096/170498071 [==============================] - 2s 0us/step\n"
          ],
          "name": "stdout"
        }
      ]
    },
    {
      "cell_type": "code",
      "metadata": {
        "id": "A8mtEo5-ad21",
        "colab_type": "code",
        "colab": {}
      },
      "source": [
        "cx_train = cx_train.reshape(cx_train.shape[0], 3072)#32*32*3\n",
        "cx_test = cx_test.reshape(cx_test.shape[0], 3072)"
      ],
      "execution_count": 0,
      "outputs": []
    },
    {
      "cell_type": "code",
      "metadata": {
        "id": "uObpn2tscPGb",
        "colab_type": "code",
        "colab": {}
      },
      "source": [
        "cx_train = cx_train.astype('float32') / 255\n",
        "cx_test = cx_test.astype('float32') / 255"
      ],
      "execution_count": 0,
      "outputs": []
    },
    {
      "cell_type": "code",
      "metadata": {
        "id": "cYYN7cqMeGH8",
        "colab_type": "code",
        "colab": {}
      },
      "source": [
        "cy_train = keras.utils.np_utils.to_categorical(cy_train, num_classes=10)\n",
        "cy_test = keras.utils.np_utils.to_categorical(cy_test, num_classes=10)"
      ],
      "execution_count": 0,
      "outputs": []
    },
    {
      "cell_type": "code",
      "metadata": {
        "id": "WZt0SaSBeMdf",
        "colab_type": "code",
        "outputId": "5de600cd-af26-4a13-f4d8-f66d0226e088",
        "colab": {
          "base_uri": "https://localhost:8080/",
          "height": 187
        }
      },
      "source": [
        "model = Sequential()\n",
        "model.add(Dense(400, activation='relu', input_dim=3072))\n",
        "model.add(Dense(400, activation='relu'))\n",
        "model.add(Dense(10, activation='softmax'))\n",
        "\n",
        "model.compile(keras.optimizers.adam(lr=0.01),\n",
        "              loss='categorical_crossentropy',\n",
        "              metrics=['accuracy'])"
      ],
      "execution_count": 0,
      "outputs": [
        {
          "output_type": "stream",
          "text": [
            "WARNING:tensorflow:From /usr/local/lib/python3.6/dist-packages/keras/backend/tensorflow_backend.py:66: The name tf.get_default_graph is deprecated. Please use tf.compat.v1.get_default_graph instead.\n",
            "\n",
            "WARNING:tensorflow:From /usr/local/lib/python3.6/dist-packages/keras/backend/tensorflow_backend.py:541: The name tf.placeholder is deprecated. Please use tf.compat.v1.placeholder instead.\n",
            "\n",
            "WARNING:tensorflow:From /usr/local/lib/python3.6/dist-packages/keras/backend/tensorflow_backend.py:4432: The name tf.random_uniform is deprecated. Please use tf.random.uniform instead.\n",
            "\n",
            "WARNING:tensorflow:From /usr/local/lib/python3.6/dist-packages/keras/optimizers.py:793: The name tf.train.Optimizer is deprecated. Please use tf.compat.v1.train.Optimizer instead.\n",
            "\n",
            "WARNING:tensorflow:From /usr/local/lib/python3.6/dist-packages/keras/backend/tensorflow_backend.py:3576: The name tf.log is deprecated. Please use tf.math.log instead.\n",
            "\n"
          ],
          "name": "stdout"
        }
      ]
    },
    {
      "cell_type": "code",
      "metadata": {
        "id": "Y2W_aiF_gO8X",
        "colab_type": "code",
        "outputId": "5170aa69-a7d2-4712-a3f8-20be22a70ce0",
        "colab": {
          "base_uri": "https://localhost:8080/",
          "height": 1000
        }
      },
      "source": [
        "history = model.fit(cx_train,cy_train, epochs=50, batch_size=32, verbose=2, validation_split=0.2)"
      ],
      "execution_count": 0,
      "outputs": [
        {
          "output_type": "stream",
          "text": [
            "WARNING:tensorflow:From /usr/local/lib/python3.6/dist-packages/tensorflow_core/python/ops/math_grad.py:1424: where (from tensorflow.python.ops.array_ops) is deprecated and will be removed in a future version.\n",
            "Instructions for updating:\n",
            "Use tf.where in 2.0, which has the same broadcast rule as np.where\n",
            "WARNING:tensorflow:From /usr/local/lib/python3.6/dist-packages/keras/backend/tensorflow_backend.py:1033: The name tf.assign_add is deprecated. Please use tf.compat.v1.assign_add instead.\n",
            "\n",
            "WARNING:tensorflow:From /usr/local/lib/python3.6/dist-packages/keras/backend/tensorflow_backend.py:1020: The name tf.assign is deprecated. Please use tf.compat.v1.assign instead.\n",
            "\n",
            "WARNING:tensorflow:From /usr/local/lib/python3.6/dist-packages/keras/backend/tensorflow_backend.py:3005: The name tf.Session is deprecated. Please use tf.compat.v1.Session instead.\n",
            "\n",
            "Train on 40000 samples, validate on 10000 samples\n",
            "Epoch 1/50\n",
            "WARNING:tensorflow:From /usr/local/lib/python3.6/dist-packages/keras/backend/tensorflow_backend.py:190: The name tf.get_default_session is deprecated. Please use tf.compat.v1.get_default_session instead.\n",
            "\n",
            "WARNING:tensorflow:From /usr/local/lib/python3.6/dist-packages/keras/backend/tensorflow_backend.py:197: The name tf.ConfigProto is deprecated. Please use tf.compat.v1.ConfigProto instead.\n",
            "\n",
            "WARNING:tensorflow:From /usr/local/lib/python3.6/dist-packages/keras/backend/tensorflow_backend.py:207: The name tf.global_variables is deprecated. Please use tf.compat.v1.global_variables instead.\n",
            "\n",
            "WARNING:tensorflow:From /usr/local/lib/python3.6/dist-packages/keras/backend/tensorflow_backend.py:216: The name tf.is_variable_initialized is deprecated. Please use tf.compat.v1.is_variable_initialized instead.\n",
            "\n",
            "WARNING:tensorflow:From /usr/local/lib/python3.6/dist-packages/keras/backend/tensorflow_backend.py:223: The name tf.variables_initializer is deprecated. Please use tf.compat.v1.variables_initializer instead.\n",
            "\n",
            " - 29s - loss: 14.4879 - acc: 0.1006 - val_loss: 14.5434 - val_acc: 0.0977\n",
            "Epoch 2/50\n",
            " - 29s - loss: 14.4970 - acc: 0.1006 - val_loss: 14.5434 - val_acc: 0.0977\n",
            "Epoch 3/50\n",
            " - 29s - loss: 14.4970 - acc: 0.1006 - val_loss: 14.5434 - val_acc: 0.0977\n",
            "Epoch 4/50\n",
            " - 30s - loss: 14.4970 - acc: 0.1006 - val_loss: 14.5434 - val_acc: 0.0977\n",
            "Epoch 5/50\n",
            " - 29s - loss: 14.4970 - acc: 0.1006 - val_loss: 14.5434 - val_acc: 0.0977\n",
            "Epoch 6/50\n",
            " - 28s - loss: 14.4970 - acc: 0.1006 - val_loss: 14.5434 - val_acc: 0.0977\n",
            "Epoch 7/50\n",
            " - 29s - loss: 14.4970 - acc: 0.1006 - val_loss: 14.5434 - val_acc: 0.0977\n",
            "Epoch 8/50\n",
            " - 29s - loss: 14.4970 - acc: 0.1006 - val_loss: 14.5434 - val_acc: 0.0977\n",
            "Epoch 9/50\n",
            " - 29s - loss: 14.4970 - acc: 0.1006 - val_loss: 14.5434 - val_acc: 0.0977\n",
            "Epoch 10/50\n",
            " - 29s - loss: 14.4970 - acc: 0.1006 - val_loss: 14.5434 - val_acc: 0.0977\n",
            "Epoch 11/50\n",
            " - 28s - loss: 14.4970 - acc: 0.1006 - val_loss: 14.5434 - val_acc: 0.0977\n",
            "Epoch 12/50\n",
            " - 28s - loss: 14.4970 - acc: 0.1006 - val_loss: 14.5434 - val_acc: 0.0977\n",
            "Epoch 13/50\n",
            " - 28s - loss: 14.4970 - acc: 0.1006 - val_loss: 14.5434 - val_acc: 0.0977\n",
            "Epoch 14/50\n",
            " - 28s - loss: 14.4970 - acc: 0.1006 - val_loss: 14.5434 - val_acc: 0.0977\n",
            "Epoch 15/50\n",
            " - 29s - loss: 14.4970 - acc: 0.1006 - val_loss: 14.5434 - val_acc: 0.0977\n",
            "Epoch 16/50\n",
            " - 29s - loss: 14.4970 - acc: 0.1006 - val_loss: 14.5434 - val_acc: 0.0977\n",
            "Epoch 17/50\n",
            " - 28s - loss: 14.4970 - acc: 0.1006 - val_loss: 14.5434 - val_acc: 0.0977\n",
            "Epoch 18/50\n",
            " - 28s - loss: 14.4970 - acc: 0.1006 - val_loss: 14.5434 - val_acc: 0.0977\n",
            "Epoch 19/50\n",
            " - 28s - loss: 14.4970 - acc: 0.1006 - val_loss: 14.5434 - val_acc: 0.0977\n",
            "Epoch 20/50\n",
            " - 29s - loss: 14.4970 - acc: 0.1006 - val_loss: 14.5434 - val_acc: 0.0977\n",
            "Epoch 21/50\n",
            " - 29s - loss: 14.4970 - acc: 0.1006 - val_loss: 14.5434 - val_acc: 0.0977\n",
            "Epoch 22/50\n",
            " - 28s - loss: 14.4970 - acc: 0.1006 - val_loss: 14.5434 - val_acc: 0.0977\n",
            "Epoch 23/50\n",
            " - 28s - loss: 14.4970 - acc: 0.1006 - val_loss: 14.5434 - val_acc: 0.0977\n",
            "Epoch 24/50\n",
            " - 29s - loss: 14.4970 - acc: 0.1006 - val_loss: 14.5434 - val_acc: 0.0977\n",
            "Epoch 25/50\n",
            " - 28s - loss: 14.4970 - acc: 0.1006 - val_loss: 14.5434 - val_acc: 0.0977\n",
            "Epoch 26/50\n",
            " - 29s - loss: 14.4970 - acc: 0.1006 - val_loss: 14.5434 - val_acc: 0.0977\n",
            "Epoch 27/50\n",
            " - 28s - loss: 14.4970 - acc: 0.1006 - val_loss: 14.5434 - val_acc: 0.0977\n",
            "Epoch 28/50\n",
            " - 28s - loss: 14.4970 - acc: 0.1006 - val_loss: 14.5434 - val_acc: 0.0977\n",
            "Epoch 29/50\n",
            " - 28s - loss: 14.4970 - acc: 0.1006 - val_loss: 14.5434 - val_acc: 0.0977\n",
            "Epoch 30/50\n",
            " - 28s - loss: 14.4970 - acc: 0.1006 - val_loss: 14.5434 - val_acc: 0.0977\n",
            "Epoch 31/50\n",
            " - 28s - loss: 14.4970 - acc: 0.1006 - val_loss: 14.5434 - val_acc: 0.0977\n",
            "Epoch 32/50\n",
            " - 28s - loss: 14.4970 - acc: 0.1006 - val_loss: 14.5434 - val_acc: 0.0977\n",
            "Epoch 33/50\n",
            " - 28s - loss: 14.4970 - acc: 0.1006 - val_loss: 14.5434 - val_acc: 0.0977\n",
            "Epoch 34/50\n",
            " - 28s - loss: 14.4970 - acc: 0.1006 - val_loss: 14.5434 - val_acc: 0.0977\n",
            "Epoch 35/50\n",
            " - 28s - loss: 14.4970 - acc: 0.1006 - val_loss: 14.5434 - val_acc: 0.0977\n",
            "Epoch 36/50\n",
            " - 28s - loss: 14.4970 - acc: 0.1006 - val_loss: 14.5434 - val_acc: 0.0977\n",
            "Epoch 37/50\n",
            " - 29s - loss: 14.4970 - acc: 0.1006 - val_loss: 14.5434 - val_acc: 0.0977\n",
            "Epoch 38/50\n",
            " - 30s - loss: 14.4970 - acc: 0.1006 - val_loss: 14.5434 - val_acc: 0.0977\n",
            "Epoch 39/50\n",
            " - 30s - loss: 14.4970 - acc: 0.1006 - val_loss: 14.5434 - val_acc: 0.0977\n",
            "Epoch 40/50\n",
            " - 31s - loss: 14.4970 - acc: 0.1006 - val_loss: 14.5434 - val_acc: 0.0977\n",
            "Epoch 41/50\n",
            " - 32s - loss: 14.4970 - acc: 0.1006 - val_loss: 14.5434 - val_acc: 0.0977\n",
            "Epoch 42/50\n",
            " - 32s - loss: 14.4970 - acc: 0.1006 - val_loss: 14.5434 - val_acc: 0.0977\n",
            "Epoch 43/50\n",
            " - 30s - loss: 14.4970 - acc: 0.1006 - val_loss: 14.5434 - val_acc: 0.0977\n",
            "Epoch 44/50\n",
            " - 30s - loss: 14.4970 - acc: 0.1006 - val_loss: 14.5434 - val_acc: 0.0977\n",
            "Epoch 45/50\n",
            " - 29s - loss: 14.4970 - acc: 0.1006 - val_loss: 14.5434 - val_acc: 0.0977\n",
            "Epoch 46/50\n",
            " - 29s - loss: 14.4970 - acc: 0.1006 - val_loss: 14.5434 - val_acc: 0.0977\n",
            "Epoch 47/50\n",
            " - 29s - loss: 14.4970 - acc: 0.1006 - val_loss: 14.5434 - val_acc: 0.0977\n",
            "Epoch 48/50\n",
            " - 30s - loss: 14.4970 - acc: 0.1006 - val_loss: 14.5434 - val_acc: 0.0977\n",
            "Epoch 49/50\n",
            " - 29s - loss: 14.4970 - acc: 0.1006 - val_loss: 14.5434 - val_acc: 0.0977\n",
            "Epoch 50/50\n",
            " - 30s - loss: 14.4970 - acc: 0.1006 - val_loss: 14.5434 - val_acc: 0.0977\n"
          ],
          "name": "stdout"
        }
      ]
    },
    {
      "cell_type": "code",
      "metadata": {
        "id": "0GpC8PUjgWF8",
        "colab_type": "code",
        "outputId": "b39f10df-dff7-4152-e997-9af8b76ca5a8",
        "colab": {
          "base_uri": "https://localhost:8080/",
          "height": 315
        }
      },
      "source": [
        "import matplotlib.pyplot as plot\n",
        "loss, accuracy  = model.evaluate(cx_test, cy_test, verbose=False)\n",
        "plot.plot(history.history['acc'])\n",
        "plot.plot(history.history['val_acc'])\n",
        "plot.title('model accuracy')\n",
        "plot.ylabel('accuracy')\n",
        "plot.xlabel('epoch')\n",
        "plot.legend(['training', 'validation'], loc='best')\n",
        "plot.show()"
      ],
      "execution_count": 0,
      "outputs": [
        {
          "output_type": "display_data",
          "data": {
            "image/png": "[encoded data removed]",
            "text/plain": [
              "<Figure size 432x288 with 1 Axes>"
            ]
          },
          "metadata": {
            "tags": []
          }
        }
      ]
    },
    {
      "cell_type": "code",
      "metadata": {
        "id": "sAOS1TsNghWY",
        "colab_type": "code",
        "colab": {}
      },
      "source": [
        ""
      ],
      "execution_count": 0,
      "outputs": []
    }
  ]
}