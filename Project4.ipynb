{
  "nbformat": 4,
  "nbformat_minor": 0,
  "metadata": {
    "colab": {
      "name": "Project4.ipynb",
      "provenance": [],
      "include_colab_link": true
    },
    "kernelspec": {
      "name": "python3",
      "display_name": "Python 3"
    }
  },
  "cells": [
    {
      "cell_type": "markdown",
      "metadata": {
        "id": "view-in-github",
        "colab_type": "text"
      },
      "source": [
        "<a href=\"https://colab.research.google.com/github/DeusExMachina1993/Deep-Computer-Vision/blob/master/Project4.ipynb\" target=\"_parent\"><img src=\"https://colab.research.google.com/assets/colab-badge.svg\" alt=\"Open In Colab\"/></a>"
      ]
    },
    {
      "cell_type": "code",
      "metadata": {
        "id": "EnbhX5RMRi1C",
        "colab_type": "code",
        "colab": {
          "base_uri": "https://localhost:8080/",
          "height": 80
        },
        "outputId": "35b058a7-98e0-4e45-c199-fd4c648ef680"
      },
      "source": [
        "# For downloading dataset\n",
        "from urllib.request import urlretrieve\n",
        "import os\n",
        "\n",
        "# For extracting dataset\n",
        "import tarfile\n",
        "\n",
        "# For reading images\n",
        "import cv2\n",
        "\n",
        "# Essentials :)\n",
        "import numpy as np\n",
        "\n",
        "# pretty printing python objects\n",
        "import pprint\n",
        "\n",
        "# for sorting dictionary by value\n",
        "import operator\n",
        "\n",
        "# for showing images inline\n",
        "from matplotlib.pyplot import imshow \n",
        "%matplotlib inline \n",
        "\n",
        "# for making labels one-hot encoded\n",
        "from sklearn.preprocessing import LabelEncoder\n",
        "from keras.utils import to_categorical\n",
        "\n",
        "# for splitting data into training and validation data\n",
        "from sklearn.model_selection import train_test_split\n",
        "\n",
        "# for CNN and NN models\n",
        "from keras.models import Sequential, Model\n",
        "from keras.layers import Conv2D, Input, Dropout, Activation, Dense, MaxPooling2D, Flatten, GlobalAveragePooling2D\n",
        "from keras.optimizers import Adadelta\n",
        "from keras.callbacks import ModelCheckpoint\n",
        "from keras.callbacks import EarlyStopping\n",
        "from keras.models import load_model\n",
        "\n",
        "# For transfer learning\n",
        "from keras.applications.inception_v3 import InceptionV3\n",
        "\n",
        "# to save models\n",
        "import json\n",
        "\n",
        "# for saving environment of notebook\n",
        "import dill\n",
        "\n",
        "# for printing size each variable is using\n",
        "import sys"
      ],
      "execution_count": 4,
      "outputs": [
        {
          "output_type": "stream",
          "text": [
            "Using TensorFlow backend.\n"
          ],
          "name": "stderr"
        },
        {
          "output_type": "display_data",
          "data": {
            "text/html": [
              "<p style=\"color: red;\">\n",
              "The default version of TensorFlow in Colab will soon switch to TensorFlow 2.x.<br>\n",
              "We recommend you <a href=\"https://www.tensorflow.org/guide/migrate\" target=\"_blank\">upgrade</a> now \n",
              "or ensure your notebook will continue to use TensorFlow 1.x via the <code>%tensorflow_version 1.x</code> magic:\n",
              "<a href=\"https://colab.research.google.com/notebooks/tensorflow_version.ipynb\" target=\"_blank\">more info</a>.</p>\n"
            ],
            "text/plain": [
              "<IPython.core.display.HTML object>"
            ]
          },
          "metadata": {
            "tags": []
          }
        }
      ]
    },
    {
      "cell_type": "markdown",
      "metadata": {
        "id": "mPSY9LPaVkO1",
        "colab_type": "text"
      },
      "source": [
        "Download the dataset to a folder inside this directory"
      ]
    },
    {
      "cell_type": "code",
      "metadata": {
        "id": "MaCUACkjVbAG",
        "colab_type": "code",
        "colab": {
          "base_uri": "https://localhost:8080/",
          "height": 51
        },
        "outputId": "4a2727a6-c142-4f56-de7c-a36f3f631afd"
      },
      "source": [
        "URL_CALTECH_101_DATA = 'http://www.vision.caltech.edu/Image_Datasets/Caltech101/101_ObjectCategories.tar.gz'\n",
        "\n",
        "def download_dataset(url):\n",
        "    current_directory = os.path.dirname(os.path.realpath('__file__'))\n",
        "    dataset_file_path = current_directory+\"/dataset.tgz\"\n",
        "    if os.path.exists(dataset_file_path):\n",
        "        print(\"Already downloaded.\")\n",
        "    else:\n",
        "        filename, headers = urlretrieve(url, dataset_file_path)        \n",
        "    print(\"Done\")\n",
        "\n",
        "download_dataset(URL_CALTECH_101_DATA)"
      ],
      "execution_count": 5,
      "outputs": [
        {
          "output_type": "stream",
          "text": [
            "Already downloaded.\n",
            "Done\n"
          ],
          "name": "stdout"
        }
      ]
    },
    {
      "cell_type": "code",
      "metadata": {
        "id": "BKh5VJo1VpPP",
        "colab_type": "code",
        "colab": {
          "base_uri": "https://localhost:8080/",
          "height": 34
        },
        "outputId": "44dfecc9-2ab8-4e6c-a5ac-3effd0ae9358"
      },
      "source": [
        "\n",
        "def extract_dataset(dataset_file_path, extraction_directory):\n",
        "    if (not os.path.exists(extraction_directory)):\n",
        "        os.makedirs(extraction_directory)\n",
        "    if (dataset_file_path.endswith(\"tar.gz\") or dataset_file_path.endswith(\".tgz\")):\n",
        "        tar = tarfile.open(dataset_file_path, \"r:gz\")\n",
        "        tar.extractall(path=extraction_directory)\n",
        "        tar.close()\n",
        "    elif (dataset_file_path.endswith(\"tar\")):\n",
        "        tar = tarfile.open(dataset_file_path, \"r:\")\n",
        "        tar.extractall(path=extraction_directory)\n",
        "        tar.close()\n",
        "    print(\"Done\")\n",
        "\n",
        "extract_dataset('./dataset.tgz','./data/')"
      ],
      "execution_count": 6,
      "outputs": [
        {
          "output_type": "stream",
          "text": [
            "Done\n"
          ],
          "name": "stdout"
        }
      ]
    },
    {
      "cell_type": "markdown",
      "metadata": {
        "id": "ihboQfZZV0C8",
        "colab_type": "text"
      },
      "source": [
        "Exploring dataset"
      ]
    },
    {
      "cell_type": "code",
      "metadata": {
        "id": "nuwttlJ6Vu4Q",
        "colab_type": "code",
        "colab": {}
      },
      "source": [
        "def get_images(object_category, data_directory):\n",
        "    if (not os.path.exists(data_directory)):\n",
        "        print(\"Data directory not found. Are you sure you downloaded and extracted dataset properly?\")\n",
        "        return\n",
        "    obj_category_dir = os.path.join(os.path.join(data_directory,\"101_ObjectCategories\"),object_category)\n",
        "    images = [os.path.join(obj_category_dir,img) for img in os.listdir(obj_category_dir)]\n",
        "    return images\n",
        "\n",
        "def read_image(image_path):\n",
        "    \"\"\"Read and resize individual images - Caltech 101 avg size of image is 300x200, so we resize accordingly\"\"\"\n",
        "    img = cv2.imread(image_path, cv2.IMREAD_COLOR)\n",
        "    img = cv2.resize(img, (300,200), interpolation=cv2.INTER_CUBIC)\n",
        "    return img"
      ],
      "execution_count": 0,
      "outputs": []
    },
    {
      "cell_type": "code",
      "metadata": {
        "id": "qkCL0sXEV2bV",
        "colab_type": "code",
        "colab": {}
      },
      "source": [
        "dolphin_imgs = get_images('dolphin','./data')"
      ],
      "execution_count": 0,
      "outputs": []
    },
    {
      "cell_type": "code",
      "metadata": {
        "id": "WtnPuGwoV5YY",
        "colab_type": "code",
        "colab": {
          "base_uri": "https://localhost:8080/",
          "height": 34
        },
        "outputId": "b2823b23-1741-4db7-fa00-f47f2d7a3376"
      },
      "source": [
        "dolphin_imgs[0]"
      ],
      "execution_count": 9,
      "outputs": [
        {
          "output_type": "execute_result",
          "data": {
            "text/plain": [
              "'./data/101_ObjectCategories/dolphin/image_0028.jpg'"
            ]
          },
          "metadata": {
            "tags": []
          },
          "execution_count": 9
        }
      ]
    },
    {
      "cell_type": "code",
      "metadata": {
        "id": "otYQQ14cV66x",
        "colab_type": "code",
        "colab": {}
      },
      "source": [
        "dolphin_test_img = read_image(dolphin_imgs[0])"
      ],
      "execution_count": 0,
      "outputs": []
    },
    {
      "cell_type": "code",
      "metadata": {
        "id": "y73P_x1tV9ca",
        "colab_type": "code",
        "colab": {
          "base_uri": "https://localhost:8080/",
          "height": 34
        },
        "outputId": "5fc56e80-ac4e-4456-cb6c-4fabe6e519a4"
      },
      "source": [
        "dolphin_test_img.shape"
      ],
      "execution_count": 11,
      "outputs": [
        {
          "output_type": "execute_result",
          "data": {
            "text/plain": [
              "(200, 300, 3)"
            ]
          },
          "metadata": {
            "tags": []
          },
          "execution_count": 11
        }
      ]
    },
    {
      "cell_type": "markdown",
      "metadata": {
        "id": "-9TYms8eWBtk",
        "colab_type": "text"
      },
      "source": [
        "How many images we have for each category?"
      ]
    },
    {
      "cell_type": "code",
      "metadata": {
        "id": "lyxPB3BuV-_F",
        "colab_type": "code",
        "colab": {}
      },
      "source": [
        "def return_images_per_category(data_directory):\n",
        "    categories = os.listdir(data_directory+\"/101_ObjectCategories/\")\n",
        "    object_images_count_dict = {}\n",
        "    for category in categories:\n",
        "        object_images_count_dict[category] = len(os.listdir(data_directory+\"/101_ObjectCategories/\"+category))\n",
        "    object_images_count_dict = sorted(object_images_count_dict.items(), key=operator.itemgetter(1), reverse=True)\n",
        "    return object_images_count_dict"
      ],
      "execution_count": 0,
      "outputs": []
    },
    {
      "cell_type": "code",
      "metadata": {
        "id": "LKQ5e4-UWDRN",
        "colab_type": "code",
        "colab": {
          "base_uri": "https://localhost:8080/",
          "height": 1000
        },
        "outputId": "16bd044a-b1f8-4098-db9f-8662486bdd70"
      },
      "source": [
        "return_images_per_category('./data')"
      ],
      "execution_count": 13,
      "outputs": [
        {
          "output_type": "execute_result",
          "data": {
            "text/plain": [
              "[('airplanes', 800),\n",
              " ('Motorbikes', 798),\n",
              " ('BACKGROUND_Google', 468),\n",
              " ('Faces', 435),\n",
              " ('Faces_easy', 435),\n",
              " ('watch', 239),\n",
              " ('Leopards', 200),\n",
              " ('bonsai', 128),\n",
              " ('car_side', 123),\n",
              " ('ketch', 114),\n",
              " ('chandelier', 107),\n",
              " ('hawksbill', 100),\n",
              " ('grand_piano', 99),\n",
              " ('brain', 98),\n",
              " ('butterfly', 91),\n",
              " ('helicopter', 88),\n",
              " ('menorah', 87),\n",
              " ('kangaroo', 86),\n",
              " ('trilobite', 86),\n",
              " ('starfish', 86),\n",
              " ('ewer', 85),\n",
              " ('buddha', 85),\n",
              " ('sunflower', 85),\n",
              " ('scorpion', 84),\n",
              " ('revolver', 82),\n",
              " ('laptop', 81),\n",
              " ('ibis', 80),\n",
              " ('llama', 78),\n",
              " ('minaret', 76),\n",
              " ('umbrella', 75),\n",
              " ('electric_guitar', 75),\n",
              " ('crab', 73),\n",
              " ('crayfish', 70),\n",
              " ('cougar_face', 69),\n",
              " ('dragonfly', 68),\n",
              " ('dalmatian', 67),\n",
              " ('ferry', 67),\n",
              " ('flamingo', 67),\n",
              " ('lotus', 66),\n",
              " ('dolphin', 65),\n",
              " ('soccer_ball', 64),\n",
              " ('euphonium', 64),\n",
              " ('stop_sign', 64),\n",
              " ('elephant', 64),\n",
              " ('joshua_tree', 64),\n",
              " ('schooner', 63),\n",
              " ('chair', 62),\n",
              " ('lamp', 61),\n",
              " ('yin_yang', 60),\n",
              " ('rhino', 59),\n",
              " ('cellphone', 59),\n",
              " ('wheelchair', 59),\n",
              " ('stegosaurus', 59),\n",
              " ('pyramid', 57),\n",
              " ('cup', 57),\n",
              " ('sea_horse', 57),\n",
              " ('windsor_chair', 56),\n",
              " ('nautilus', 55),\n",
              " ('accordion', 55),\n",
              " ('bass', 54),\n",
              " ('hedgehog', 54),\n",
              " ('pizza', 53),\n",
              " ('emu', 53),\n",
              " ('dollar_bill', 52),\n",
              " ('crocodile_head', 51),\n",
              " ('gramophone', 51),\n",
              " ('camera', 50),\n",
              " ('crocodile', 50),\n",
              " ('tick', 49),\n",
              " ('rooster', 49),\n",
              " ('ceiling_fan', 47),\n",
              " ('cougar_body', 47),\n",
              " ('barrel', 47),\n",
              " ('pagoda', 47),\n",
              " ('beaver', 46),\n",
              " ('stapler', 45),\n",
              " ('flamingo_head', 45),\n",
              " ('pigeon', 45),\n",
              " ('mandolin', 43),\n",
              " ('cannon', 43),\n",
              " ('brontosaurus', 43),\n",
              " ('headphone', 42),\n",
              " ('anchor', 42),\n",
              " ('ant', 42),\n",
              " ('lobster', 41),\n",
              " ('mayfly', 40),\n",
              " ('saxophone', 40),\n",
              " ('scissors', 39),\n",
              " ('wrench', 39),\n",
              " ('okapi', 39),\n",
              " ('panda', 38),\n",
              " ('water_lilly', 37),\n",
              " ('strawberry', 35),\n",
              " ('octopus', 35),\n",
              " ('snoopy', 35),\n",
              " ('gerenuk', 34),\n",
              " ('garfield', 34),\n",
              " ('wild_cat', 34),\n",
              " ('platypus', 34),\n",
              " ('binocular', 33),\n",
              " ('metronome', 32),\n",
              " ('inline_skate', 31)]"
            ]
          },
          "metadata": {
            "tags": []
          },
          "execution_count": 13
        }
      ]
    },
    {
      "cell_type": "code",
      "metadata": {
        "id": "nHNKgnguWIpy",
        "colab_type": "code",
        "colab": {
          "base_uri": "https://localhost:8080/",
          "height": 34
        },
        "outputId": "91ffcbcd-4749-461c-909d-d91719e6950b"
      },
      "source": [
        "len(return_images_per_category('./data'))"
      ],
      "execution_count": 14,
      "outputs": [
        {
          "output_type": "execute_result",
          "data": {
            "text/plain": [
              "102"
            ]
          },
          "metadata": {
            "tags": []
          },
          "execution_count": 14
        }
      ]
    },
    {
      "cell_type": "code",
      "metadata": {
        "id": "SQXj9ryBWPA5",
        "colab_type": "code",
        "colab": {}
      },
      "source": [
        "\n",
        "def create_training_data(data_directory):\n",
        "    i = 0\n",
        "    X = np.ndarray((8677, 200, 300, 3), dtype=np.uint8)\n",
        "    Y = []\n",
        "    print(\"Preparing X and Y for dataset...\")\n",
        "    for category,_ in return_images_per_category(data_directory):\n",
        "        if category == 'BACKGROUND_Google':\n",
        "            continue\n",
        "        print(\"Processing images of \",category)\n",
        "        for image in get_images(category, data_directory):\n",
        "            if not image.endswith('.jpg'):\n",
        "                # to escape hidden ipynb checkpoints and other unnecessary files \n",
        "                continue\n",
        "            X[i] = read_image(image)\n",
        "            Y.insert(i,category) \n",
        "            i += 1\n",
        "        print(\"Images processed : \",i+1,\" of 8678\")\n",
        "    print(\"Datasets constructed\")\n",
        "    return X,Y"
      ],
      "execution_count": 0,
      "outputs": []
    },
    {
      "cell_type": "code",
      "metadata": {
        "id": "254UdDToXJfn",
        "colab_type": "code",
        "colab": {
          "base_uri": "https://localhost:8080/",
          "height": 1000
        },
        "outputId": "8c5df162-f092-46dd-a902-73ef5008d1c7"
      },
      "source": [
        "X, Y = create_training_data('./data')"
      ],
      "execution_count": 16,
      "outputs": [
        {
          "output_type": "stream",
          "text": [
            "Preparing X and Y for dataset...\n",
            "Processing images of  airplanes\n",
            "Images processed :  801  of 8678\n",
            "Processing images of  Motorbikes\n",
            "Images processed :  1599  of 8678\n",
            "Processing images of  Faces\n",
            "Images processed :  2034  of 8678\n",
            "Processing images of  Faces_easy\n",
            "Images processed :  2469  of 8678\n",
            "Processing images of  watch\n",
            "Images processed :  2708  of 8678\n",
            "Processing images of  Leopards\n",
            "Images processed :  2908  of 8678\n",
            "Processing images of  bonsai\n",
            "Images processed :  3036  of 8678\n",
            "Processing images of  car_side\n",
            "Images processed :  3159  of 8678\n",
            "Processing images of  ketch\n",
            "Images processed :  3273  of 8678\n",
            "Processing images of  chandelier\n",
            "Images processed :  3380  of 8678\n",
            "Processing images of  hawksbill\n",
            "Images processed :  3480  of 8678\n",
            "Processing images of  grand_piano\n",
            "Images processed :  3579  of 8678\n",
            "Processing images of  brain\n",
            "Images processed :  3677  of 8678\n",
            "Processing images of  butterfly\n",
            "Images processed :  3768  of 8678\n",
            "Processing images of  helicopter\n",
            "Images processed :  3856  of 8678\n",
            "Processing images of  menorah\n",
            "Images processed :  3943  of 8678\n",
            "Processing images of  kangaroo\n",
            "Images processed :  4029  of 8678\n",
            "Processing images of  trilobite\n",
            "Images processed :  4115  of 8678\n",
            "Processing images of  starfish\n",
            "Images processed :  4201  of 8678\n",
            "Processing images of  ewer\n",
            "Images processed :  4286  of 8678\n",
            "Processing images of  buddha\n",
            "Images processed :  4371  of 8678\n",
            "Processing images of  sunflower\n",
            "Images processed :  4456  of 8678\n",
            "Processing images of  scorpion\n",
            "Images processed :  4540  of 8678\n",
            "Processing images of  revolver\n",
            "Images processed :  4622  of 8678\n",
            "Processing images of  laptop\n",
            "Images processed :  4703  of 8678\n",
            "Processing images of  ibis\n",
            "Images processed :  4783  of 8678\n",
            "Processing images of  llama\n",
            "Images processed :  4861  of 8678\n",
            "Processing images of  minaret\n",
            "Images processed :  4937  of 8678\n",
            "Processing images of  umbrella\n",
            "Images processed :  5012  of 8678\n",
            "Processing images of  electric_guitar\n",
            "Images processed :  5087  of 8678\n",
            "Processing images of  crab\n",
            "Images processed :  5160  of 8678\n",
            "Processing images of  crayfish\n",
            "Images processed :  5230  of 8678\n",
            "Processing images of  cougar_face\n",
            "Images processed :  5299  of 8678\n",
            "Processing images of  dragonfly\n",
            "Images processed :  5367  of 8678\n",
            "Processing images of  dalmatian\n",
            "Images processed :  5434  of 8678\n",
            "Processing images of  ferry\n",
            "Images processed :  5501  of 8678\n",
            "Processing images of  flamingo\n",
            "Images processed :  5568  of 8678\n",
            "Processing images of  lotus\n",
            "Images processed :  5634  of 8678\n",
            "Processing images of  dolphin\n",
            "Images processed :  5699  of 8678\n",
            "Processing images of  soccer_ball\n",
            "Images processed :  5763  of 8678\n",
            "Processing images of  euphonium\n",
            "Images processed :  5827  of 8678\n",
            "Processing images of  stop_sign\n",
            "Images processed :  5891  of 8678\n",
            "Processing images of  elephant\n",
            "Images processed :  5955  of 8678\n",
            "Processing images of  joshua_tree\n",
            "Images processed :  6019  of 8678\n",
            "Processing images of  schooner\n",
            "Images processed :  6082  of 8678\n",
            "Processing images of  chair\n",
            "Images processed :  6144  of 8678\n",
            "Processing images of  lamp\n",
            "Images processed :  6205  of 8678\n",
            "Processing images of  yin_yang\n",
            "Images processed :  6265  of 8678\n",
            "Processing images of  rhino\n",
            "Images processed :  6324  of 8678\n",
            "Processing images of  cellphone\n",
            "Images processed :  6383  of 8678\n",
            "Processing images of  wheelchair\n",
            "Images processed :  6442  of 8678\n",
            "Processing images of  stegosaurus\n",
            "Images processed :  6501  of 8678\n",
            "Processing images of  pyramid\n",
            "Images processed :  6558  of 8678\n",
            "Processing images of  cup\n",
            "Images processed :  6615  of 8678\n",
            "Processing images of  sea_horse\n",
            "Images processed :  6672  of 8678\n",
            "Processing images of  windsor_chair\n",
            "Images processed :  6728  of 8678\n",
            "Processing images of  nautilus\n",
            "Images processed :  6783  of 8678\n",
            "Processing images of  accordion\n",
            "Images processed :  6838  of 8678\n",
            "Processing images of  bass\n",
            "Images processed :  6892  of 8678\n",
            "Processing images of  hedgehog\n",
            "Images processed :  6946  of 8678\n",
            "Processing images of  pizza\n",
            "Images processed :  6999  of 8678\n",
            "Processing images of  emu\n",
            "Images processed :  7052  of 8678\n",
            "Processing images of  dollar_bill\n",
            "Images processed :  7104  of 8678\n",
            "Processing images of  crocodile_head\n",
            "Images processed :  7155  of 8678\n",
            "Processing images of  gramophone\n",
            "Images processed :  7206  of 8678\n",
            "Processing images of  camera\n",
            "Images processed :  7256  of 8678\n",
            "Processing images of  crocodile\n",
            "Images processed :  7306  of 8678\n",
            "Processing images of  tick\n",
            "Images processed :  7355  of 8678\n",
            "Processing images of  rooster\n",
            "Images processed :  7404  of 8678\n",
            "Processing images of  ceiling_fan\n",
            "Images processed :  7451  of 8678\n",
            "Processing images of  cougar_body\n",
            "Images processed :  7498  of 8678\n",
            "Processing images of  barrel\n",
            "Images processed :  7545  of 8678\n",
            "Processing images of  pagoda\n",
            "Images processed :  7592  of 8678\n",
            "Processing images of  beaver\n",
            "Images processed :  7638  of 8678\n",
            "Processing images of  stapler\n",
            "Images processed :  7683  of 8678\n",
            "Processing images of  flamingo_head\n",
            "Images processed :  7728  of 8678\n",
            "Processing images of  pigeon\n",
            "Images processed :  7773  of 8678\n",
            "Processing images of  mandolin\n",
            "Images processed :  7816  of 8678\n",
            "Processing images of  cannon\n",
            "Images processed :  7859  of 8678\n",
            "Processing images of  brontosaurus\n",
            "Images processed :  7902  of 8678\n",
            "Processing images of  headphone\n",
            "Images processed :  7944  of 8678\n",
            "Processing images of  anchor\n",
            "Images processed :  7986  of 8678\n",
            "Processing images of  ant\n",
            "Images processed :  8028  of 8678\n",
            "Processing images of  lobster\n",
            "Images processed :  8069  of 8678\n",
            "Processing images of  mayfly\n",
            "Images processed :  8109  of 8678\n",
            "Processing images of  saxophone\n",
            "Images processed :  8149  of 8678\n",
            "Processing images of  scissors\n",
            "Images processed :  8188  of 8678\n",
            "Processing images of  wrench\n",
            "Images processed :  8227  of 8678\n",
            "Processing images of  okapi\n",
            "Images processed :  8266  of 8678\n",
            "Processing images of  panda\n",
            "Images processed :  8304  of 8678\n",
            "Processing images of  water_lilly\n",
            "Images processed :  8341  of 8678\n",
            "Processing images of  strawberry\n",
            "Images processed :  8376  of 8678\n",
            "Processing images of  octopus\n",
            "Images processed :  8411  of 8678\n",
            "Processing images of  snoopy\n",
            "Images processed :  8446  of 8678\n",
            "Processing images of  gerenuk\n",
            "Images processed :  8480  of 8678\n",
            "Processing images of  garfield\n",
            "Images processed :  8514  of 8678\n",
            "Processing images of  wild_cat\n",
            "Images processed :  8548  of 8678\n",
            "Processing images of  platypus\n",
            "Images processed :  8582  of 8678\n",
            "Processing images of  binocular\n",
            "Images processed :  8615  of 8678\n",
            "Processing images of  metronome\n",
            "Images processed :  8647  of 8678\n",
            "Processing images of  inline_skate\n",
            "Images processed :  8678  of 8678\n",
            "Datasets constructed\n"
          ],
          "name": "stdout"
        }
      ]
    },
    {
      "cell_type": "code",
      "metadata": {
        "id": "xhVMyzT-XLlF",
        "colab_type": "code",
        "colab": {
          "base_uri": "https://localhost:8080/",
          "height": 34
        },
        "outputId": "b81442e8-e8d6-4f5b-cd2f-94c745ba2b4f"
      },
      "source": [
        "X.shape"
      ],
      "execution_count": 17,
      "outputs": [
        {
          "output_type": "execute_result",
          "data": {
            "text/plain": [
              "(8677, 200, 300, 3)"
            ]
          },
          "metadata": {
            "tags": []
          },
          "execution_count": 17
        }
      ]
    },
    {
      "cell_type": "code",
      "metadata": {
        "id": "QdfEUWmcXgAf",
        "colab_type": "code",
        "colab": {
          "base_uri": "https://localhost:8080/",
          "height": 286
        },
        "outputId": "5b3dd26e-ea85-4c4c-a85a-105cea3ca531"
      },
      "source": [
        "imshow(X[0])"
      ],
      "execution_count": 18,
      "outputs": [
        {
          "output_type": "execute_result",
          "data": {
            "text/plain": [
              "<matplotlib.image.AxesImage at 0x7f5d85886da0>"
            ]
          },
          "metadata": {
            "tags": []
          },
          "execution_count": 18
        },
        {
          "output_type": "display_data",
          "data": {
            "image/png": "[encoded data removed]",
            "text/plain": [
              "<Figure size 432x288 with 1 Axes>"
            ]
          },
          "metadata": {
            "tags": []
          }
        }
      ]
    },
    {
      "cell_type": "code",
      "metadata": {
        "id": "9y13B47QXkF6",
        "colab_type": "code",
        "colab": {
          "base_uri": "https://localhost:8080/",
          "height": 34
        },
        "outputId": "4632e6ff-cfb4-4417-a95a-905906a7c319"
      },
      "source": [
        "Y[0]"
      ],
      "execution_count": 19,
      "outputs": [
        {
          "output_type": "execute_result",
          "data": {
            "text/plain": [
              "'airplanes'"
            ]
          },
          "metadata": {
            "tags": []
          },
          "execution_count": 19
        }
      ]
    },
    {
      "cell_type": "code",
      "metadata": {
        "id": "BVA8-Q1tXqkM",
        "colab_type": "code",
        "colab": {}
      },
      "source": [
        "WINDOW_SIZES = [i for i in range(20, 160, 20)]\n",
        "\n",
        "\n",
        "def get_best_bounding_box(img, predict_fn, step=10, window_sizes=WINDOW_SIZES):\n",
        "    best_box = None\n",
        "    best_box_prob = -np.inf\n",
        "\n",
        "    # loop window sizes: 20x20, 30x30, 40x40...160x160\n",
        "    for win_size in window_sizes:\n",
        "        for top in range(0, img.shape[0] - win_size + 1, step):\n",
        "            for left in range(0, img.shape[1] - win_size + 1, step):\n",
        "                # compute the (top, left, bottom, right) of the bounding box\n",
        "                box = (top, left, top + win_size, left + win_size)\n",
        "\n",
        "                # crop the original image\n",
        "                cropped_img = img[box[0]:box[2], box[1]:box[3]]\n",
        "\n",
        "                # predict how likely this cropped image is dog and if higher\n",
        "                # than best save it\n",
        "                #print('predicting for box %r' % (box, ))\n",
        "                box_prob = predict_fn(cropped_img)\n",
        "                if box_prob > best_box_prob:\n",
        "                    best_box = box\n",
        "                    best_box_prob = box_prob\n",
        "\n",
        "    return best_box"
      ],
      "execution_count": 0,
      "outputs": []
    },
    {
      "cell_type": "code",
      "metadata": {
        "id": "xVWhv2WQc9fz",
        "colab_type": "code",
        "colab": {}
      },
      "source": [
        "import random\n",
        "import numpy as np\n",
        "random.seed(0)\n",
        "def predict_function(x):\n",
        "    # example of prediction function for simplicity, you\n",
        "    # should probably use `return model.predict(x)`\n",
        "    \n",
        "    return random.random()"
      ],
      "execution_count": 0,
      "outputs": []
    },
    {
      "cell_type": "code",
      "metadata": {
        "id": "496Kb3DUdvhN",
        "colab_type": "code",
        "colab": {
          "base_uri": "https://localhost:8080/",
          "height": 34
        },
        "outputId": "8ea47171-d6bf-4768-f01a-eaaa32e13cf9"
      },
      "source": [
        "best_box = get_best_bounding_box(X[2], predict_function)\n",
        "print('best bounding box %r' % (best_box, ))"
      ],
      "execution_count": 36,
      "outputs": [
        {
          "output_type": "stream",
          "text": [
            "best bounding box (40, 130, 140, 230)\n"
          ],
          "name": "stdout"
        }
      ]
    },
    {
      "cell_type": "code",
      "metadata": {
        "id": "jSpDtObvhz3m",
        "colab_type": "code",
        "colab": {}
      },
      "source": [
        ""
      ],
      "execution_count": 0,
      "outputs": []
    }
  ]
}